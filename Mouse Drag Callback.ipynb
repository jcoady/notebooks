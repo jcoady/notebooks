{
 "cells": [
  {
   "cell_type": "code",
   "execution_count": 1,
   "metadata": {
    "collapsed": false
   },
   "outputs": [
    {
     "data": {
      "text/html": [
       "<div id=\"scene0\"><div id=\"glowscript\" class=\"glowscript\"></div></div>"
      ],
      "text/plain": [
       "<IPython.core.display.HTML object>"
      ]
     },
     "metadata": {},
     "output_type": "display_data"
    },
    {
     "data": {
      "application/javascript": [
       "require.undef(\"nbextensions/glow.1.0.min\");"
      ],
      "text/plain": [
       "<IPython.core.display.Javascript object>"
      ]
     },
     "metadata": {},
     "output_type": "display_data"
    },
    {
     "data": {
      "application/javascript": [
       "require.undef(\"nbextensions/jquery-ui.custom.min\");"
      ],
      "text/plain": [
       "<IPython.core.display.Javascript object>"
      ]
     },
     "metadata": {},
     "output_type": "display_data"
    },
    {
     "data": {
      "application/javascript": [
       "require.undef(\"nbextensions/glow.1.1.min\");"
      ],
      "text/plain": [
       "<IPython.core.display.Javascript object>"
      ]
     },
     "metadata": {},
     "output_type": "display_data"
    },
    {
     "data": {
      "application/javascript": [
       "require.undef(\"nbextensions/glow.1.2.min\");"
      ],
      "text/plain": [
       "<IPython.core.display.Javascript object>"
      ]
     },
     "metadata": {},
     "output_type": "display_data"
    },
    {
     "data": {
      "application/javascript": [
       "require.undef(\"nbextensions/glow.2.0.min\");"
      ],
      "text/plain": [
       "<IPython.core.display.Javascript object>"
      ]
     },
     "metadata": {},
     "output_type": "display_data"
    },
    {
     "data": {
      "application/javascript": [
       "require.undef(\"nbextensions/glowcomm\");"
      ],
      "text/plain": [
       "<IPython.core.display.Javascript object>"
      ]
     },
     "metadata": {},
     "output_type": "display_data"
    },
    {
     "data": {
      "application/javascript": [
       "require.undef(\"nbextensions/ivglowcomm\");"
      ],
      "text/plain": [
       "<IPython.core.display.Javascript object>"
      ]
     },
     "metadata": {},
     "output_type": "display_data"
    },
    {
     "data": {
      "application/javascript": [
       "require([\"nbextensions/ivglowcomm\"], function(){console.log(\"ivisual glowcomm loaded\");})"
      ],
      "text/plain": [
       "<IPython.core.display.Javascript object>"
      ]
     },
     "metadata": {},
     "output_type": "display_data"
    }
   ],
   "source": [
    "from ivisual import *"
   ]
  },
  {
   "cell_type": "code",
   "execution_count": 2,
   "metadata": {
    "collapsed": false
   },
   "outputs": [
    {
     "name": "stdout",
     "output_type": "stream",
     "text": [
      "\n",
      "Click and drag sphere with mouse to move it in x-y plane.\n",
      "Sphere turns green when it is selected, yellow when it is dragged and cyan when it is dropped.\n",
      "\n"
     ]
    },
    {
     "data": {
      "text/html": [
       "<div id=\"scene0\"><div id=\"glowscript\" class=\"glowscript\"></div></div>"
      ],
      "text/plain": [
       "<IPython.core.display.HTML object>"
      ]
     },
     "metadata": {},
     "output_type": "display_data"
    },
    {
     "data": {
      "application/javascript": [
       "window.__context = { glowscript_container: $(\"#glowscript\").removeAttr(\"id\")}"
      ],
      "text/plain": [
       "<IPython.core.display.Javascript object>"
      ]
     },
     "metadata": {},
     "output_type": "display_data"
    }
   ],
   "source": [
    "print(\"\"\"\n",
    "Click and drag sphere with mouse to move it in x-y plane.\n",
    "Sphere turns green when it is selected, yellow when it is dragged and cyan when it is dropped.\n",
    "\"\"\")\n",
    "scene = canvas(title=\"Mouse Drag with Callback\")"
   ]
  },
  {
   "cell_type": "code",
   "execution_count": 3,
   "metadata": {
    "collapsed": false
   },
   "outputs": [],
   "source": [
    "scene.range = 5 # fixed size, no autoscaling\n",
    "ball = sphere(pos=(-3.,0.,0.), color=color.cyan)\n",
    "cube = box(pos=(+3.,0.,0.), size=(2,2,2), color=color.red)\n",
    "drag_pos = None # no object picked yet\n",
    "\n",
    "def grab(evt):\n",
    "    global drag_pos\n",
    "    if evt.pick == ball:\n",
    "        ball.color = color.green\n",
    "        drag_pos = scene.mouse.project(normal=(0.,0.,1.))\n",
    "        scene.bind('mousemove', move, ball)\n",
    "        scene.bind('mouseup', drop)\n",
    "\n",
    "def move(evt, obj):\n",
    "    global drag_pos\n",
    "    # project onto xy plane, even if scene rotated:\n",
    "    new_pos = scene.mouse.project(normal=(0,0,1))\n",
    "    if obj == ball and ball.color == color.green:\n",
    "        ball.color = color.yellow\n",
    "    if new_pos != drag_pos: # if mouse has moved\n",
    "        # offset for where the ball was touched:\n",
    "        obj.pos += (new_pos - drag_pos)\n",
    "        drag_pos = new_pos # update drag position\n",
    "\n",
    "def drop(evt):\n",
    "    scene.unbind('mousemove', move)\n",
    "    scene.unbind('mouseup', drop)\n",
    "    ball.color = color.cyan\n",
    "    print(ball.pos)\n",
    "\n",
    "scene.bind('mousedown', grab)"
   ]
  },
  {
   "cell_type": "code",
   "execution_count": null,
   "metadata": {
    "collapsed": false
   },
   "outputs": [],
   "source": []
  }
 ],
 "metadata": {
  "kernelspec": {
   "display_name": "Python 2",
   "language": "python",
   "name": "python2"
  },
  "language_info": {
   "codemirror_mode": {
    "name": "ipython",
    "version": 2
   },
   "file_extension": ".py",
   "mimetype": "text/x-python",
   "name": "python",
   "nbconvert_exporter": "python",
   "pygments_lexer": "ipython2",
   "version": "2.7.8"
  }
 },
 "nbformat": 4,
 "nbformat_minor": 0
}
