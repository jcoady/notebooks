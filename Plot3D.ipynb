{
 "cells": [
  {
   "cell_type": "code",
   "execution_count": null,
   "metadata": {
    "collapsed": false
   },
   "outputs": [
    {
     "data": {
      "application/javascript": [
       "require.undef(\"nbextensions/jquery-ui.custom.min\");"
      ],
      "text/plain": [
       "<IPython.core.display.Javascript object>"
      ]
     },
     "metadata": {},
     "output_type": "display_data"
    },
    {
     "data": {
      "application/javascript": [
       "require.undef(\"nbextensions/glow.2.1.min\");"
      ],
      "text/plain": [
       "<IPython.core.display.Javascript object>"
      ]
     },
     "metadata": {},
     "output_type": "display_data"
    },
    {
     "data": {
      "application/javascript": [
       "require.undef(\"nbextensions/glowcomm\");"
      ],
      "text/plain": [
       "<IPython.core.display.Javascript object>"
      ]
     },
     "metadata": {},
     "output_type": "display_data"
    },
    {
     "data": {
      "application/javascript": [
       "require.undef(\"nbextensions/pako.min\");"
      ],
      "text/plain": [
       "<IPython.core.display.Javascript object>"
      ]
     },
     "metadata": {},
     "output_type": "display_data"
    },
    {
     "data": {
      "application/javascript": [
       "require.undef(\"nbextensions/pako_deflate.min\");"
      ],
      "text/plain": [
       "<IPython.core.display.Javascript object>"
      ]
     },
     "metadata": {},
     "output_type": "display_data"
    },
    {
     "data": {
      "application/javascript": [
       "require.undef(\"nbextensions/pako_inflate.min\");"
      ],
      "text/plain": [
       "<IPython.core.display.Javascript object>"
      ]
     },
     "metadata": {},
     "output_type": "display_data"
    },
    {
     "data": {
      "application/javascript": [
       "require([\"nbextensions/glowcomm\"], function(){console.log(\"glowcomm loaded\");})"
      ],
      "text/plain": [
       "<IPython.core.display.Javascript object>"
      ]
     },
     "metadata": {},
     "output_type": "display_data"
    },
    {
     "data": {
      "text/html": [
       "<div id=\"glowscript\" class=\"glowscript\"></div>"
      ],
      "text/plain": [
       "<IPython.core.display.HTML object>"
      ]
     },
     "metadata": {},
     "output_type": "display_data"
    },
    {
     "data": {
      "application/javascript": [
       "window.__context = { glowscript_container: $(\"#glowscript\").removeAttr(\"id\")}"
      ],
      "text/plain": [
       "<IPython.core.display.Javascript object>"
      ]
     },
     "metadata": {},
     "output_type": "display_data"
    },
    {
     "data": {
      "text/html": [
       "<div id=\"glowscript\" class=\"glowscript\"></div>"
      ],
      "text/plain": [
       "<IPython.core.display.HTML object>"
      ]
     },
     "metadata": {},
     "output_type": "display_data"
    },
    {
     "data": {
      "application/javascript": [
       "window.__context = { glowscript_container: $(\"#glowscript\").removeAttr(\"id\")}"
      ],
      "text/plain": [
       "<IPython.core.display.Javascript object>"
      ]
     },
     "metadata": {},
     "output_type": "display_data"
    }
   ],
   "source": [
    "from vpython import *\n",
    "from numpy import arange\n",
    "scene = canvas(title='Plot3D')\n",
    "scene.width = scene.height = 600\n",
    "scene.forward = vec(-0.7,-0.5,-1)\n",
    "L = 50\n",
    "dL = 1 # vertex objects are on an L by L grid\n",
    "scene.center = vec(0.05*L,0.2*L,0)\n",
    "scene.range = 1.3*L\n",
    "## The next line contains LaTeX math notation. See http://www.glowscript.org/docs/VPythonDocs/MathJax.html\n",
    "#scene.caption = \"\"\"\\\\( f(x,y,t) = 0.7+0.2\\\\sin{(10x)}\\\\cos{(10y)}\\\\cos{(2t)} \\\\)\n",
    "scene.caption = \"\"\"<i>f</i>(<i>x,y,t</i>) = 0.7+0.2sin{(10<i>x</i>)cos{(10<i>y</i>)cos{(2<i>t</i>)\n",
    "<b>Click to toggle between pausing or running.</b>\n",
    "In GlowScript programs:\n",
    "   Right button drag or Ctrl-drag to rotate \"camera\" to view scene.\n",
    "   To zoom, drag with middle button or Alt/Option depressed, or use scroll wheel.\n",
    "     On a two-button mouse, middle is left + right.\n",
    "   Touch screen: pinch/extend to zoom, swipe or two-finger rotate.\"\"\"\n",
    "   \n",
    "#MathJax.Hub.Queue([\"Typeset\",MathJax.Hub]) # format the LaTeX; see http://www.glowscript.org/docs/VPythonDocs/MathJax.html\n",
    "\n",
    "class plot3D:\n",
    "    def __init__(self, f, xmin, xmax, ymin, ymax, zmin, zmax):\n",
    "        # The x axis is labeled y, the z axis is labeled x, and the y axis is labeled z.\n",
    "        # This is done to mimic fairly standard practive for plotting\n",
    "        #     the z value of a function of x and y.\n",
    "        self.f = f\n",
    "        if not xmin: self.xmin = 0\n",
    "        else: self.xmin = xmin\n",
    "        if not xmax: self.xmax = 1\n",
    "        else: self.xmax = xmax\n",
    "        if not ymin: self.ymin = 0\n",
    "        else: self.ymin = ymin\n",
    "        if not ymax: self.ymax = 1\n",
    "        else: self.ymax = ymax\n",
    "        if not zmin: self.zmin = 0\n",
    "        else: self.zmin = zmin\n",
    "        if not zmax: self.zmax = 1\n",
    "        else: self.zmax = zmax\n",
    "        \n",
    "        R = L/100\n",
    "        xaxis = cylinder(pos=vec(0,0,0), axis=vec(0,0,L), radius=R, color=color.yellow)\n",
    "        yaxis = cylinder(pos=vec(0,0,0), axis=vec(L,0,0), radius=R, color=color.yellow)\n",
    "        zaxis = cylinder(pos=vec(0,0,0), axis=vec(0,L,0), radius=R, color=color.yellow)\n",
    "        k = 1.02\n",
    "        #h = 0.05*L\n",
    "        #text(pos=xaxis.pos+k*xaxis.axis, text='x', height=h, align='center', billboard=True)\n",
    "        #text(pos=yaxis.pos+k*yaxis.axis, text='y', height=h, align='center', billboard=True)\n",
    "        #text(pos=zaxis.pos+k*zaxis.axis, text='z', height=h, align='center', billboard=True)\n",
    "        h = 20\n",
    "        label(pos=xaxis.pos+k*xaxis.axis, text='x', height=h, align='center', box=False)\n",
    "        label(pos=yaxis.pos+k*yaxis.axis, text='y', height=h, align='center', box=False)\n",
    "        label(pos=zaxis.pos+k*zaxis.axis, text='z', height=h, align='center', box=False)\n",
    "    \n",
    "        # Create vertex objects on an L by L grid, plus vertex objects at the top and the right of the grid\n",
    "        # These extra vertex objects are not used in making quads but they are used in the calculation of\n",
    "        #    normals, without having to do special edge tests when calculating normals.\n",
    "        self.vertices = [] \n",
    "        for x in arange(0, L+dL+dL/2, dL):\n",
    "            for y in arange(0, L+dL+dL/2, dL):\n",
    "                val = self.evaluate(x,y)\n",
    "                self.vertices.append(self.make_vertex( x, y, val ))\n",
    "        \n",
    "        self.make_quads()\n",
    "        self.make_normals()\n",
    "        \n",
    "    def evaluate(self, x, y):\n",
    "        return (L/(self.zmax-self.zmin)) * (self.f(self.xmin+x*(self.xmax-self.xmin)/L, self.ymin+y*(self.ymax-self.ymin)/L)-self.zmin)\n",
    "    \n",
    "    def make_quads(self):\n",
    "        # Create the quad objects, based on the vertex objects already created.\n",
    "        for x in arange(0, L-dL/2, dL):\n",
    "            for y in arange(0, L-dL/2, dL):\n",
    "                v0 = self.get_vertex(x,y)\n",
    "                v1 = self.get_vertex(x+dL,y)\n",
    "                v2 = self.get_vertex(x+dL, y+dL)\n",
    "                v3 = self.get_vertex(x, y+dL)\n",
    "                quad(vs=[v0, v1, v2, v3])\n",
    "        \n",
    "    def make_normals(self):\n",
    "        # Set the normals for each vertex to be the average of neighboring normals to the surface.\n",
    "        # The vectors a, b, c, and d point left, down, right, and up around a vertex in the xy plance.\n",
    "        # Normals are perpendicual to each quad object.\n",
    "        for x in arange(0, L+dL/2, dL):\n",
    "            for y in arange(0, L+dL/2, dL):\n",
    "                v = self.get_pos(x,y)\n",
    "                a = self.get_pos(x+dL,y) - v\n",
    "                b = self.get_pos(x,y+dL) - v\n",
    "                #self.get_vertex(x,y).normal = cross(a,b)\n",
    "    \n",
    "    def replot(self):\n",
    "        for x in arange(0, L+dL+dL/2, dL):\n",
    "            for y in arange(0, L+dL+dL/2, dL):\n",
    "                val = self.evaluate(x,y)\n",
    "                self.get_vertex(x,y).pos.y = val\n",
    "        #self.make_normals()\n",
    "                \n",
    "    def make_vertex(self,x,y,value):\n",
    "        return vertex(pos=vec(y,value,x), color=color.cyan, normal=vec(0,1,0))\n",
    "        \n",
    "    def get_vertex(self,x,y):\n",
    "        return self.vertices[int((x*(L+2*dL)/dL + y)/dL)]\n",
    "        \n",
    "    def get_pos(self,x,y):\n",
    "        return self.get_vertex(x,y).pos\n",
    "\n",
    "t = 0\n",
    "dt = 0.0333\n",
    "def f(x, y):\n",
    "    # Return the value of the function of x and y:\n",
    "    return 0.7+0.2*cos(5*t)*sin(10*x)*cos(10*y)\n",
    "\n",
    "p = plot3D(f, 0, 1, 0, 1, 0, 1) # function, xmin, xmax, ymin, ymax (defaults 0, 1, 0, 1, 0, 1)\n",
    "\n",
    "run = True\n",
    "def running(ev):\n",
    "    global run\n",
    "    run = not run\n",
    "\n",
    "scene.bind('mousedown', running)\n",
    "\n",
    "while True:\n",
    "    rate(30)\n",
    "    if run:\n",
    "        p.replot()\n",
    "        t += dt\n"
   ]
  },
  {
   "cell_type": "code",
   "execution_count": null,
   "metadata": {
    "collapsed": true
   },
   "outputs": [],
   "source": []
  }
 ],
 "metadata": {
  "kernelspec": {
   "display_name": "VPython",
   "language": "python",
   "name": "vpython"
  },
  "language_info": {
   "codemirror_mode": {
    "name": "ipython",
    "version": 2
   },
   "file_extension": ".py",
   "mimetype": "text/x-python",
   "name": "python",
   "nbconvert_exporter": "python",
   "pygments_lexer": "ipython2",
   "version": "2.7.11"
  }
 },
 "nbformat": 4,
 "nbformat_minor": 0
}
