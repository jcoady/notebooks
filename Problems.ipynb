{
 "cells": [
  {
   "cell_type": "raw",
   "metadata": {
    "collapsed": true
   },
   "source": [
    "Mouse events; scene.bind.\n",
    "\n",
    "Could there be a problem with the fact that all constructors are sent to GS\n",
    "before any non-constructor settings are sent?\n",
    "\n",
    "Stonehenge: The 4 cones compounded to the ball collapse into one\n",
    "unless I insert sleep(1) before the compound statement.\n",
    "\n",
    "When we compound, should we set the objects _visible = False? \n",
    "(GlowScript will set visible to False, so no need to send.)\n",
    "\n",
    "BinaryStar: Had to change giant star interval/retain to match GS behavior. Why?\n",
    "Changing renders from 30/s to 60/s and max renders from 100 to 10000 made no difference.\n",
    "\n",
    "Why is AtomicSolid autoscaling so different from GS, even after setting scene.height = 400?\n",
    "(Should make GS default height to be 480, like Jupyter.)\n",
    "\n",
    "GS stars had Stars.length -> len(Stars); same for hitlist. Is there a \"strict\"\n",
    "option in RapydScript?\n"
   ]
  },
  {
   "cell_type": "code",
   "execution_count": null,
   "metadata": {
    "collapsed": true
   },
   "outputs": [],
   "source": []
  }
 ],
 "metadata": {
  "kernelspec": {
   "display_name": "VPython",
   "language": "python",
   "name": "vpythonkernel"
  },
  "language_info": {
   "codemirror_mode": {
    "name": "ipython",
    "version": 3
   },
   "file_extension": ".py",
   "mimetype": "text/x-python",
   "name": "python",
   "nbconvert_exporter": "python",
   "pygments_lexer": "ipython3",
   "version": "3.5.1"
  }
 },
 "nbformat": 4,
 "nbformat_minor": 0
}
