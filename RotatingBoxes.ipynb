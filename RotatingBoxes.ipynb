{
 "cells": [
  {
   "cell_type": "code",
   "execution_count": null,
   "metadata": {
    "collapsed": false
   },
   "outputs": [
    {
     "data": {
      "application/javascript": [
       "require.undef(\"nbextensions/jquery-ui.custom.min\");"
      ],
      "text/plain": [
       "<IPython.core.display.Javascript object>"
      ]
     },
     "metadata": {},
     "output_type": "display_data"
    },
    {
     "data": {
      "application/javascript": [
       "require.undef(\"nbextensions/glow.2.1.min\");"
      ],
      "text/plain": [
       "<IPython.core.display.Javascript object>"
      ]
     },
     "metadata": {},
     "output_type": "display_data"
    },
    {
     "data": {
      "application/javascript": [
       "require.undef(\"nbextensions/glowcomm\");"
      ],
      "text/plain": [
       "<IPython.core.display.Javascript object>"
      ]
     },
     "metadata": {},
     "output_type": "display_data"
    },
    {
     "data": {
      "application/javascript": [
       "require([\"nbextensions/glowcomm\"], function(){console.log(\"glowcomm loaded\");})"
      ],
      "text/plain": [
       "<IPython.core.display.Javascript object>"
      ]
     },
     "metadata": {},
     "output_type": "display_data"
    },
    {
     "data": {
      "text/html": [
       "<div id=\"glowscript\" class=\"glowscript\"></div>"
      ],
      "text/plain": [
       "<IPython.core.display.HTML object>"
      ]
     },
     "metadata": {},
     "output_type": "display_data"
    },
    {
     "data": {
      "application/javascript": [
       "window.__context = { glowscript_container: $(\"#glowscript\").removeAttr(\"id\")}"
      ],
      "text/plain": [
       "<IPython.core.display.Javascript object>"
      ]
     },
     "metadata": {},
     "output_type": "display_data"
    }
   ],
   "source": [
    "from __future__ import division, print_function\n",
    "from vpython import *\n",
    "from time import clock\n",
    "from numpy import arange\n",
    "\n",
    "N = 10\n",
    "\n",
    "scene.title = \"{} by {} by {} = {} rotating cubes\\n\".format(N,N,N,N*N*N)\n",
    "scene.width = 600\n",
    "scene.height = 600\n",
    "boxes = []\n",
    "L = 6\n",
    "N = 10\n",
    "scene.range = L\n",
    "\n",
    "for x in arange(N):\n",
    "  for y in arange(N):\n",
    "    for z in arange(N):\n",
    "      b = box(color=vector(x/N, y/N, z/N),\n",
    "              pos=vector(L*(x/(N-1)-.5), L*(y/(N-1)-.5), L*(z/(N-1)-.5)),\n",
    "              size=vector(.6*L/N, .4*L/N, .6*L/N))\n",
    "      boxes.append(b)\n",
    "\n",
    "loops = 0\n",
    "ctime = 0\n",
    "\n",
    "t = 0\n",
    "dt = 0.01\n",
    "start = clock()\n",
    "\n",
    "while True:\n",
    "    if loops == 10:\n",
    "        s = '{:0.1f} millisecond computation'.format(1000*ctime/loops)\n",
    "        s += '\\n{:0.1f} loops per second'.format(loops/(clock()-start))\n",
    "        scene.caption = s\n",
    "        ctime = 0\n",
    "        loops = 0\n",
    "        start = clock()\n",
    "    scene.waitfor('redraw')\n",
    "    t += dt\n",
    "    ct = clock()\n",
    "    v = (0.6*L/N)*vector(sin(t), 0, cos(t))\n",
    "    for b in boxes:\n",
    "        b.axis = v # Jupyter 21 ms; GlowScript time is 0.5 ms \n",
    "        #b.rotate(angle=.01, axis=vector(0,1,0)) # Jupyter 75 ms; GlowScript 3.3 ms\n",
    "    ctime += clock()-ct\n",
    "    loops += 1"
   ]
  },
  {
   "cell_type": "code",
   "execution_count": null,
   "metadata": {
    "collapsed": true
   },
   "outputs": [],
   "source": []
  }
 ],
 "metadata": {
  "kernelspec": {
   "display_name": "VPython",
   "language": "python",
   "name": "vpython"
  },
  "language_info": {
   "codemirror_mode": {
    "name": "ipython",
    "version": 3
   },
   "file_extension": ".py",
   "mimetype": "text/x-python",
   "name": "python",
   "nbconvert_exporter": "python",
   "pygments_lexer": "ipython3",
   "version": "3.5.1"
  }
 },
 "nbformat": 4,
 "nbformat_minor": 0
}
