{
 "cells": [
  {
   "cell_type": "code",
   "execution_count": 1,
   "metadata": {
    "collapsed": false
   },
   "outputs": [
    {
     "data": {
      "application/javascript": [
       "IPython.notebook.set_autosave_interval(1000000000)"
      ]
     },
     "metadata": {},
     "output_type": "display_data"
    },
    {
     "name": "stdout",
     "output_type": "stream",
     "text": [
      "Autosaving every 1000000 seconds\n"
     ]
    }
   ],
   "source": [
    "%autosave 1000000"
   ]
  },
  {
   "cell_type": "code",
   "execution_count": 2,
   "metadata": {
    "collapsed": false
   },
   "outputs": [
    {
     "data": {
      "text/html": [
       "<div id=\"scene0\"><div id=\"glowscript\" class=\"glowscript\"></div></div>"
      ],
      "text/plain": [
       "<IPython.core.display.HTML object>"
      ]
     },
     "metadata": {},
     "output_type": "display_data"
    },
    {
     "data": {
      "application/javascript": [
       "require.undef(\"nbextensions/glow.1.0.min\");"
      ],
      "text/plain": [
       "<IPython.core.display.Javascript object>"
      ]
     },
     "metadata": {},
     "output_type": "display_data"
    },
    {
     "data": {
      "application/javascript": [
       "require.undef(\"nbextensions/jquery-ui.custom.min\");"
      ],
      "text/plain": [
       "<IPython.core.display.Javascript object>"
      ]
     },
     "metadata": {},
     "output_type": "display_data"
    },
    {
     "data": {
      "application/javascript": [
       "require.undef(\"nbextensions/glow.1.1.min\");"
      ],
      "text/plain": [
       "<IPython.core.display.Javascript object>"
      ]
     },
     "metadata": {},
     "output_type": "display_data"
    },
    {
     "data": {
      "application/javascript": [
       "require.undef(\"nbextensions/glow.1.2.min\");"
      ],
      "text/plain": [
       "<IPython.core.display.Javascript object>"
      ]
     },
     "metadata": {},
     "output_type": "display_data"
    },
    {
     "data": {
      "application/javascript": [
       "require.undef(\"nbextensions/glow.2.0.min\");"
      ],
      "text/plain": [
       "<IPython.core.display.Javascript object>"
      ]
     },
     "metadata": {},
     "output_type": "display_data"
    },
    {
     "data": {
      "application/javascript": [
       "require.undef(\"nbextensions/glowcomm\");"
      ],
      "text/plain": [
       "<IPython.core.display.Javascript object>"
      ]
     },
     "metadata": {},
     "output_type": "display_data"
    },
    {
     "data": {
      "application/javascript": [
       "require.undef(\"nbextensions/ivglowcomm\");"
      ],
      "text/plain": [
       "<IPython.core.display.Javascript object>"
      ]
     },
     "metadata": {},
     "output_type": "display_data"
    },
    {
     "data": {
      "application/javascript": [
       "require([\"nbextensions/ivglowcomm\"], function(){console.log(\"ivisual glowcomm loaded\");})"
      ],
      "text/plain": [
       "<IPython.core.display.Javascript object>"
      ]
     },
     "metadata": {},
     "output_type": "display_data"
    }
   ],
   "source": [
    "from __future__ import division, print_function\n",
    "from time import clock\n",
    "from ivisual import *\n",
    "\n",
    "# 1000 rotating cubes\n",
    "# Bruce desktop Windows machine\n",
    "# N = 10 (1000 boxes) render 4.5 ms, computation (rotations) 1.5 ms\n",
    "# The equivalent GlowScript program: render 6 ms, computation 0.3 ms\n",
    "\n",
    "boxes = []\n",
    "L = 15\n",
    "N = 10\n",
    "\n",
    "def loadBoxes(N = 10):\n",
    "    if len(boxes) > 0:\n",
    "        deleteBoxes()\n",
    "    for x in range(N):\n",
    "        for y in range(N):\n",
    "            for z in range(N):\n",
    "                b = box(color=(x/N, y/N, z/N),\n",
    "                        pos=vector(L*(x/(N-1)-.5), L*(y/(N-1)-.5), L*(z/(N-1)-.5)),\n",
    "                        size=vector(.6*L/N, .4*L/N, .6*L/N))\n",
    "                boxes.append(b)\n",
    "    return True\n",
    "\n",
    "def deleteBoxes():\n",
    "    for i in range(len(boxes)):\n",
    "        b = boxes.pop()\n",
    "        b.delete()\n",
    "    return True\n",
    "\n",
    "def anim(revs = 2, rateVal = 30):\n",
    "    ctime = 0\n",
    "    #ifunc = simulateDelay(delayAvg=0.001)\n",
    "    #rate = RateKeeper2(interactFunc=ifunc)\n",
    "    \n",
    "    t = 0.\n",
    "    dt = 0.03\n",
    "    start = clock()\n",
    "    totalRads = revs * 2.*math.pi\n",
    "    while t <= totalRads:\n",
    "        rate(rateVal)\n",
    "        t += dt\n",
    "        ct = clock()\n",
    "        a = (0.6*L/N)\n",
    "        v = a*vector(math.sin(t), 0, math.cos(t))\n",
    "        for b in boxes:\n",
    "            b.axis.x = v.x\n",
    "            b.axis.z = v.z\n",
    "        ctime += clock()-ct\n",
    "    rtime = clock() - start\n",
    "    print (\"done \",ctime, rtime)\n",
    "    return ctime\n",
    "\n",
    "\n",
    "scene = canvas()\n",
    "\n",
    "N=5\n",
    "loadBoxes(N)\n",
    "\n",
    "display(scene)"
   ]
  },
  {
   "cell_type": "code",
   "execution_count": 5,
   "metadata": {
    "collapsed": false
   },
   "outputs": [
    {
     "name": "stdout",
     "output_type": "stream",
     "text": [
      "done  0.373492144265 17.5586236125\n"
     ]
    }
   ],
   "source": [
    "anim(revs=2,rateVal=30);"
   ]
  },
  {
   "cell_type": "code",
   "execution_count": 4,
   "metadata": {
    "collapsed": false
   },
   "outputs": [
    {
     "data": {
      "text/plain": [
       "True"
      ]
     },
     "execution_count": 4,
     "metadata": {},
     "output_type": "execute_result"
    }
   ],
   "source": [
    "N=3\n",
    "loadBoxes(N)"
   ]
  },
  {
   "cell_type": "code",
   "execution_count": null,
   "metadata": {
    "collapsed": true
   },
   "outputs": [],
   "source": []
  }
 ],
 "metadata": {
  "kernelspec": {
   "display_name": "Python 2",
   "language": "python",
   "name": "python2"
  },
  "language_info": {
   "codemirror_mode": {
    "name": "ipython",
    "version": 2
   },
   "file_extension": ".py",
   "mimetype": "text/x-python",
   "name": "python",
   "nbconvert_exporter": "python",
   "pygments_lexer": "ipython2",
   "version": "2.7.8"
  }
 },
 "nbformat": 4,
 "nbformat_minor": 0
}
