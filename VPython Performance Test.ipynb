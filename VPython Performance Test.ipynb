{
 "cells": [
  {
   "cell_type": "code",
   "execution_count": 1,
   "metadata": {
    "collapsed": false
   },
   "outputs": [
    {
     "data": {
      "application/javascript": [
       "IPython.notebook.set_autosave_interval(1000000000)"
      ]
     },
     "metadata": {},
     "output_type": "display_data"
    },
    {
     "name": "stdout",
     "output_type": "stream",
     "text": [
      "Autosaving every 1000000 seconds\n"
     ]
    }
   ],
   "source": [
    "%autosave 1000000"
   ]
  },
  {
   "cell_type": "markdown",
   "metadata": {},
   "source": [
    "# Test VPython-Jupyter Travelling Wave\n",
    "\n",
    "This notebook is set up to test the visualization of a QM travelling wave. The arrows represent phasors (y and z are the real and imaginary parts of the complex wavefunction respectively). The first next cell just sets up the arrows and the following cell does the animation, while tracking in the time between calls to 'rate()'."
   ]
  },
  {
   "cell_type": "code",
   "execution_count": 2,
   "metadata": {
    "collapsed": true
   },
   "outputs": [],
   "source": [
    "from __future__ import print_function\n",
    "import ipywidgets as widgets\n",
    "from IPython.display import display\n",
    "\n",
    "int_range = widgets.IntSlider(min=20, max=100, description='Arrows per row')\n",
    "row_range = widgets.IntSlider(min=1, max=10, description='Number of rows')\n",
    "display(int_range,row_range)\n",
    "\n"
   ]
  },
  {
   "cell_type": "code",
   "execution_count": 3,
   "metadata": {
    "collapsed": false
   },
   "outputs": [
    {
     "data": {
      "application/javascript": [
       "require.undef(\"nbextensions/jquery-ui.custom.min\");"
      ],
      "text/plain": [
       "<IPython.core.display.Javascript object>"
      ]
     },
     "metadata": {},
     "output_type": "display_data"
    },
    {
     "data": {
      "application/javascript": [
       "require.undef(\"nbextensions/glow.2.1.min\");"
      ],
      "text/plain": [
       "<IPython.core.display.Javascript object>"
      ]
     },
     "metadata": {},
     "output_type": "display_data"
    },
    {
     "data": {
      "application/javascript": [
       "require.undef(\"nbextensions/glowcomm\");"
      ],
      "text/plain": [
       "<IPython.core.display.Javascript object>"
      ]
     },
     "metadata": {},
     "output_type": "display_data"
    },
    {
     "data": {
      "application/javascript": [
       "require([\"nbextensions/glowcomm\"], function(){console.log(\"glowcomm loaded\");})"
      ],
      "text/plain": [
       "<IPython.core.display.Javascript object>"
      ]
     },
     "metadata": {},
     "output_type": "display_data"
    },
    {
     "data": {
      "text/html": [
       "<div id=\"glowscript\" class=\"glowscript\"></div>"
      ],
      "text/plain": [
       "<IPython.core.display.HTML object>"
      ]
     },
     "metadata": {},
     "output_type": "display_data"
    },
    {
     "data": {
      "application/javascript": [
       "window.__context = { glowscript_container: $(\"#glowscript\").removeAttr(\"id\")}"
      ],
      "text/plain": [
       "<IPython.core.display.Javascript object>"
      ]
     },
     "metadata": {},
     "output_type": "display_data"
    },
    {
     "data": {
      "text/html": [
       "<div id=\"glowscript\" class=\"glowscript\"></div>"
      ],
      "text/plain": [
       "<IPython.core.display.HTML object>"
      ]
     },
     "metadata": {},
     "output_type": "display_data"
    },
    {
     "data": {
      "application/javascript": [
       "window.__context = { glowscript_container: $(\"#glowscript\").removeAttr(\"id\")}"
      ],
      "text/plain": [
       "<IPython.core.display.Javascript object>"
      ]
     },
     "metadata": {},
     "output_type": "display_data"
    }
   ],
   "source": [
    "\"\"\"\n",
    "Execute this cell to set up the arrows\n",
    "\"\"\"\n",
    "\n",
    "%matplotlib inline\n",
    "import matplotlib.pyplot as pl\n",
    "import numpy as np\n",
    "#from ivisual import *\n",
    "from vpython import *\n",
    "\n",
    "scene = canvas(title = \"Travelling Wave\")\n",
    "\n",
    "L=6.0 * (int_range.value / 20.0)                          # range of x is 6 units\n",
    "x = np.linspace(-L/2, L/2, int_range.value) # from -3 to +3\n",
    "k = -3*pi/L                    # set up the wave number\n",
    "psi = np.exp(1j*k*x)           # set up the initial wave function\n",
    "rows = row_range.value\n",
    "\n",
    "alist = []                     # an empty list for our arrow objects\n",
    "\n",
    "omega = 2*pi                   # 1 rev/sec\n",
    "t=0.0                          # start t at zero\n",
    "dt=0.01                        # 1/100 of a second per step\n",
    "\n",
    "def once(r=30):  #\n",
    "    global t\n",
    "    rate(r)\n",
    "    t+=dt\n",
    "    psi_t = psi*np.exp(-1j*omega*t) # evolve the wf in time\n",
    "    for r in range(rows):\n",
    "        psi_t = psi*np.exp(-1j*(omega*(1+(r+1.)/(rows+1.0))*t)) # evolve the wf in time\n",
    "        for i in range(len(x)):\n",
    "            SetArrowFromCN(psi_t[i], alist[r*int_range.value + i]) # move the arrows to match\n",
    "\n",
    "def SetArrowFromCN( cn, a):\n",
    "    \"\"\"\n",
    "    SetArrowWithCN takes a complex number  cn  and an arrow object  a .\n",
    "    It sets the  y  and  z  components of the arrow s axis to the real \n",
    "    and imaginary parts of the given complex number. \n",
    "    \"\"\"\n",
    "    a.axis.y = cn.real\n",
    "    a.axis.z = cn.imag\n",
    "    \n",
    "for r in range(rows):\n",
    "    for i in range(len(x)):\n",
    "        xi = x[i]                              \n",
    "        a = arrow(pos=vector(xi, (r-(rows-1)/2)*2.0, 0),       # on the y,z axis at location 'x'\n",
    "                    axis=vector(0,1,0),       # pointing in the 'real' direction\n",
    "                    color=color.red)          # make it red. ;->\n",
    "        alist.append(a)                       # add to list\n",
    "        SetArrowFromCN( psi[i], a)            # set up arrow from wave function\n",
    "\n"
   ]
  },
  {
   "cell_type": "code",
   "execution_count": 4,
   "metadata": {
    "collapsed": false,
    "scrolled": true
   },
   "outputs": [
    {
     "name": "stdout",
     "output_type": "stream",
     "text": [
      "Done!\n",
      "average :  0.0335980000496\n",
      "median :  0.0329999923706\n",
      "mean :  0.0335980000496\n",
      "std dev :  0.00185806660386\n",
      "variance:  3.45241150438e-06\n"
     ]
    },
    {
     "data": {
      "image/png": "[encoded data removed]",
      "text/plain": [
       "<matplotlib.figure.Figure at 0xa175438>"
      ]
     },
     "metadata": {},
     "output_type": "display_data"
    }
   ],
   "source": [
    "\"\"\"\n",
    "Execute this cell to evolve the WF in time\n",
    "\"\"\"\n",
    "from time import time, sleep\n",
    "\n",
    "    \n",
    "tlist=[time()]\n",
    "for i in range(500):\n",
    "    once(30)\n",
    "    tlist.append(time())\n",
    "    \n",
    "print(\"Done!\")\n",
    "\n",
    "tarr = np.array(tlist)\n",
    "dts = tarr[1:]-tarr[:-1]\n",
    "pl.plot(range(len(dts)), dts, 'b.')\n",
    "pl.title(\"time between renders vpython-jupyter\")\n",
    "pl.xlabel(\"iteration number\")\n",
    "pl.ylabel(\"time(s)\")#\n",
    "pl.ylim([0.0,0.12])\n",
    "\n",
    "print (\"average : \", np.average(dts))\n",
    "print (\"median : \", np.median(dts))\n",
    "print (\"mean : \", np.mean(dts))\n",
    "print (\"std dev : \", np.std(dts))\n",
    "print (\"variance: \", np.var(dts))\n",
    "\n"
   ]
  },
  {
   "cell_type": "code",
   "execution_count": null,
   "metadata": {
    "collapsed": true
   },
   "outputs": [],
   "source": []
  }
 ],
 "metadata": {
  "kernelspec": {
   "display_name": "VPython",
   "language": "python",
   "name": "vpython"
  },
  "language_info": {
   "codemirror_mode": {
    "name": "ipython",
    "version": 2
   },
   "file_extension": ".py",
   "mimetype": "text/x-python",
   "name": "python",
   "nbconvert_exporter": "python",
   "pygments_lexer": "ipython2",
   "version": "2.7.11"
  }
 },
 "nbformat": 4,
 "nbformat_minor": 0
}
