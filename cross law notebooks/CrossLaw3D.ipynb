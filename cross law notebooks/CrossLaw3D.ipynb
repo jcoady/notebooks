{
 "cells": [
  {
   "cell_type": "code",
   "execution_count": 1,
   "metadata": {},
   "outputs": [],
   "source": [
    "import sympy"
   ]
  },
  {
   "cell_type": "code",
   "execution_count": 2,
   "metadata": {},
   "outputs": [
    {
     "name": "stdout",
     "output_type": "stream",
     "text": [
      "x**2 + 2*x*y + y**2\n"
     ]
    }
   ],
   "source": [
    "# import sympy \n",
    "from sympy import expand, symbols \n",
    "  \n",
    "x, y = symbols('x y') \n",
    "gfg_exp = x + y \n",
    "  \n",
    "# Use sympy.expand() method \n",
    "exp = sympy.expand(gfg_exp**2) \n",
    "  \n",
    "print(exp) "
   ]
  },
  {
   "cell_type": "code",
   "execution_count": 3,
   "metadata": {},
   "outputs": [
    {
     "data": {
      "text/latex": [
       "$\\displaystyle \\left[\\begin{matrix}1 & 0 & 0\\\\0 & 0 & 0\\end{matrix}\\right]$"
      ],
      "text/plain": [
       "[1  0  0]\n",
       "[       ]\n",
       "[0  0  0]"
      ]
     },
     "execution_count": 3,
     "metadata": {},
     "output_type": "execute_result"
    }
   ],
   "source": [
    "from sympy.interactive.printing import init_printing\n",
    "init_printing(use_unicode=False, wrap_line=False)\n",
    "from sympy.matrices import Matrix, eye, zeros, ones, diag, GramSchmidt\n",
    "M = Matrix([[1,0,0], [0,0,0]]); M\n"
   ]
  },
  {
   "cell_type": "code",
   "execution_count": 4,
   "metadata": {},
   "outputs": [],
   "source": [
    "v11, v12, v13, v22, v23, v33 = symbols('v11 v12 v13 v22 v23 v33 ') "
   ]
  },
  {
   "cell_type": "code",
   "execution_count": 17,
   "metadata": {},
   "outputs": [],
   "source": [
    "V = Matrix([[v11,v12,v13],[v12,v22,v23],[v13,v23,v33]])\n",
    "C11 = Matrix([[v22,v23],[v23,v33]])\n",
    "C22 = Matrix([[v11,v13],[v13,v33]])\n",
    "C33 = Matrix([[v11,v12],[v12,v22]])"
   ]
  },
  {
   "cell_type": "code",
   "execution_count": 6,
   "metadata": {},
   "outputs": [
    {
     "data": {
      "image/png": "[encoded data removed]",
      "text/latex": [
       "$\\displaystyle v_{11} v_{22} v_{33} - v_{11} v_{23}^{2} - v_{12}^{2} v_{33} + 2 v_{12} v_{13} v_{23} - v_{13}^{2} v_{22}$"
      ],
      "text/plain": [
       "                     2      2                          2    \n",
       "v11*v22*v33 - v11*v23  - v12 *v33 + 2*v12*v13*v23 - v13 *v22"
      ]
     },
     "execution_count": 6,
     "metadata": {},
     "output_type": "execute_result"
    }
   ],
   "source": [
    "V.det()"
   ]
  },
  {
   "cell_type": "code",
   "execution_count": 7,
   "metadata": {},
   "outputs": [],
   "source": [
    "D = V.det()"
   ]
  },
  {
   "cell_type": "code",
   "execution_count": 8,
   "metadata": {},
   "outputs": [
    {
     "data": {
      "image/png": "[encoded data removed]",
      "text/latex": [
       "$\\displaystyle v_{11} v_{22} v_{33} - v_{11} v_{23}^{2} - v_{12}^{2} v_{33} + 2 v_{12} v_{13} v_{23} - v_{13}^{2} v_{22}$"
      ],
      "text/plain": [
       "                     2      2                          2    \n",
       "v11*v22*v33 - v11*v23  - v12 *v33 + 2*v12*v13*v23 - v13 *v22"
      ]
     },
     "execution_count": 8,
     "metadata": {},
     "output_type": "execute_result"
    }
   ],
   "source": [
    "D"
   ]
  },
  {
   "cell_type": "code",
   "execution_count": 18,
   "metadata": {},
   "outputs": [],
   "source": [
    "c11 = C11.det()\n",
    "c22 = C22.det()\n",
    "c33 = C33.det()"
   ]
  },
  {
   "cell_type": "code",
   "execution_count": 11,
   "metadata": {},
   "outputs": [
    {
     "data": {
      "image/png": "[encoded data removed]",
      "text/latex": [
       "$\\displaystyle v_{22} v_{33} - v_{23}^{2}$"
      ],
      "text/plain": [
       "             2\n",
       "v22*v33 - v23 "
      ]
     },
     "execution_count": 11,
     "metadata": {},
     "output_type": "execute_result"
    }
   ],
   "source": [
    "c11"
   ]
  },
  {
   "cell_type": "code",
   "execution_count": 46,
   "metadata": {},
   "outputs": [],
   "source": [
    "q1=c11/(v22*v33)\n",
    "q2=c22/(v11*v33)\n",
    "q3=c33/(v11*v22)"
   ]
  },
  {
   "cell_type": "code",
   "execution_count": 47,
   "metadata": {},
   "outputs": [],
   "source": [
    "mq11 = 1-q1\n",
    "mq22 = 1-q2\n",
    "mq33 = 1-q3"
   ]
  },
  {
   "cell_type": "code",
   "execution_count": 48,
   "metadata": {},
   "outputs": [],
   "source": [
    "mq1 = mq11.factor()\n",
    "mq2 = mq22.factor()\n",
    "mq3 = mq33.factor()"
   ]
  },
  {
   "cell_type": "code",
   "execution_count": 49,
   "metadata": {},
   "outputs": [
    {
     "data": {
      "image/png": "[encoded data removed]",
      "text/latex": [
       "$\\displaystyle \\frac{v_{23}^{2}}{v_{22} v_{33}}$"
      ],
      "text/plain": [
       "     2 \n",
       "  v23  \n",
       "-------\n",
       "v22*v33"
      ]
     },
     "execution_count": 49,
     "metadata": {},
     "output_type": "execute_result"
    }
   ],
   "source": [
    "mq1"
   ]
  },
  {
   "cell_type": "code",
   "execution_count": 50,
   "metadata": {},
   "outputs": [
    {
     "data": {
      "image/png": "[encoded data removed]",
      "text/latex": [
       "$\\displaystyle \\frac{v_{13}^{2}}{v_{11} v_{33}}$"
      ],
      "text/plain": [
       "     2 \n",
       "  v13  \n",
       "-------\n",
       "v11*v33"
      ]
     },
     "execution_count": 50,
     "metadata": {},
     "output_type": "execute_result"
    }
   ],
   "source": [
    "mq2"
   ]
  },
  {
   "cell_type": "code",
   "execution_count": 51,
   "metadata": {},
   "outputs": [
    {
     "data": {
      "image/png": "[encoded data removed]",
      "text/latex": [
       "$\\displaystyle \\frac{v_{12}^{2}}{v_{11} v_{22}}$"
      ],
      "text/plain": [
       "     2 \n",
       "  v12  \n",
       "-------\n",
       "v11*v22"
      ]
     },
     "execution_count": 51,
     "metadata": {},
     "output_type": "execute_result"
    }
   ],
   "source": [
    "mq3"
   ]
  },
  {
   "cell_type": "code",
   "execution_count": 42,
   "metadata": {},
   "outputs": [],
   "source": [
    "rhs = 4*mq1*mq2*mq3"
   ]
  },
  {
   "cell_type": "code",
   "execution_count": 43,
   "metadata": {},
   "outputs": [
    {
     "data": {
      "image/png": "[encoded data removed]",
      "text/latex": [
       "$\\displaystyle \\frac{4 v_{12}^{2} v_{13}^{2} v_{23}^{2}}{v_{11}^{2} v_{22}^{2} v_{33}^{2}}$"
      ],
      "text/plain": [
       "     2    2    2\n",
       "4*v12 *v13 *v23 \n",
       "----------------\n",
       "    2    2    2 \n",
       " v11 *v22 *v33  "
      ]
     },
     "execution_count": 43,
     "metadata": {},
     "output_type": "execute_result"
    }
   ],
   "source": [
    "rhs"
   ]
  },
  {
   "cell_type": "code",
   "execution_count": 33,
   "metadata": {},
   "outputs": [],
   "source": [
    "rhsf = rhs.factor()"
   ]
  },
  {
   "cell_type": "code",
   "execution_count": 34,
   "metadata": {},
   "outputs": [
    {
     "data": {
      "image/png": "[encoded data removed]",
      "text/latex": [
       "$\\displaystyle \\frac{4 v_{12}^{2} v_{13}^{2} v_{23}^{2}}{v_{11}^{2} v_{22}^{2} v_{33}^{2}}$"
      ],
      "text/plain": [
       "     2    2    2\n",
       "4*v12 *v13 *v23 \n",
       "----------------\n",
       "    2    2    2 \n",
       " v11 *v22 *v33  "
      ]
     },
     "execution_count": 34,
     "metadata": {},
     "output_type": "execute_result"
    }
   ],
   "source": [
    "rhsf"
   ]
  },
  {
   "cell_type": "code",
   "execution_count": 52,
   "metadata": {},
   "outputs": [],
   "source": [
    "lhs = (D/(v11*v22*v33) - q1 - q2 -q3 + 2)"
   ]
  },
  {
   "cell_type": "code",
   "execution_count": 53,
   "metadata": {},
   "outputs": [
    {
     "data": {
      "image/png": "[encoded data removed]",
      "text/latex": [
       "$\\displaystyle 2 - \\frac{v_{22} v_{33} - v_{23}^{2}}{v_{22} v_{33}} - \\frac{v_{11} v_{33} - v_{13}^{2}}{v_{11} v_{33}} - \\frac{v_{11} v_{22} - v_{12}^{2}}{v_{11} v_{22}} + \\frac{v_{11} v_{22} v_{33} - v_{11} v_{23}^{2} - v_{12}^{2} v_{33} + 2 v_{12} v_{13} v_{23} - v_{13}^{2} v_{22}}{v_{11} v_{22} v_{33}}$"
      ],
      "text/plain": [
       "                 2                2                2                        2      2                          2    \n",
       "    v22*v33 - v23    v11*v33 - v13    v11*v22 - v12    v11*v22*v33 - v11*v23  - v12 *v33 + 2*v12*v13*v23 - v13 *v22\n",
       "2 - -------------- - -------------- - -------------- + ------------------------------------------------------------\n",
       "       v22*v33          v11*v33          v11*v22                               v11*v22*v33                         "
      ]
     },
     "execution_count": 53,
     "metadata": {},
     "output_type": "execute_result"
    }
   ],
   "source": [
    "lhs"
   ]
  },
  {
   "cell_type": "code",
   "execution_count": 54,
   "metadata": {},
   "outputs": [],
   "source": [
    "lhse = lhs.expand()"
   ]
  },
  {
   "cell_type": "code",
   "execution_count": 55,
   "metadata": {},
   "outputs": [
    {
     "data": {
      "image/png": "[encoded data removed]",
      "text/latex": [
       "$\\displaystyle \\frac{2 v_{12} v_{13} v_{23}}{v_{11} v_{22} v_{33}}$"
      ],
      "text/plain": [
       "2*v12*v13*v23\n",
       "-------------\n",
       " v11*v22*v33 "
      ]
     },
     "execution_count": 55,
     "metadata": {},
     "output_type": "execute_result"
    }
   ],
   "source": [
    "lhse"
   ]
  },
  {
   "cell_type": "code",
   "execution_count": null,
   "metadata": {},
   "outputs": [],
   "source": []
  }
 ],
 "metadata": {
  "kernelspec": {
   "display_name": "Python 3",
   "language": "python",
   "name": "python3"
  },
  "language_info": {
   "codemirror_mode": {
    "name": "ipython",
    "version": 3
   },
   "file_extension": ".py",
   "mimetype": "text/x-python",
   "name": "python",
   "nbconvert_exporter": "python",
   "pygments_lexer": "ipython3",
   "version": "3.6.7"
  }
 },
 "nbformat": 4,
 "nbformat_minor": 2
}
