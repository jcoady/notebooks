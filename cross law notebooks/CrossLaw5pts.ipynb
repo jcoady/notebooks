{
 "cells": [
  {
   "cell_type": "code",
   "execution_count": 1,
   "metadata": {},
   "outputs": [],
   "source": [
    "import sympy"
   ]
  },
  {
   "cell_type": "code",
   "execution_count": 2,
   "metadata": {},
   "outputs": [
    {
     "name": "stdout",
     "output_type": "stream",
     "text": [
      "x**2 + 2*x*y + y**2\n"
     ]
    }
   ],
   "source": [
    "# import sympy \n",
    "from sympy import expand, symbols \n",
    "  \n",
    "x, y = symbols('x y') \n",
    "gfg_exp = x + y \n",
    "  \n",
    "# Use sympy.expand() method \n",
    "exp = sympy.expand(gfg_exp**2) \n",
    "  \n",
    "print(exp)"
   ]
  },
  {
   "cell_type": "code",
   "execution_count": 3,
   "metadata": {},
   "outputs": [
    {
     "data": {
      "text/latex": [
       "$\\displaystyle \\left[\\begin{matrix}1 & 0 & 0\\\\0 & 0 & 0\\end{matrix}\\right]$"
      ],
      "text/plain": [
       "[1  0  0]\n",
       "[       ]\n",
       "[0  0  0]"
      ]
     },
     "execution_count": 3,
     "metadata": {},
     "output_type": "execute_result"
    }
   ],
   "source": [
    "from sympy.interactive.printing import init_printing\n",
    "init_printing(use_unicode=False, wrap_line=False)\n",
    "from sympy.matrices import Matrix, eye, zeros, ones, diag, GramSchmidt\n",
    "M = Matrix([[1,0,0], [0,0,0]]); M"
   ]
  },
  {
   "cell_type": "code",
   "execution_count": 4,
   "metadata": {},
   "outputs": [],
   "source": [
    "A = Matrix([[1,0,0],[0,1,0],[0,0,1],[-1/2,1/2,1/2],[1/2,1/2,1/2]])\n",
    "At = A.transpose()\n",
    "B = A*At"
   ]
  },
  {
   "cell_type": "code",
   "execution_count": 5,
   "metadata": {},
   "outputs": [],
   "source": [
    "v11, v12, v13, v14, v15, v22, v23, v24, v25, v33, v34, v35, v44, v45, v55 = symbols('v11 v12 v13 v14 v15 v22 v23 v24 v25 v33 v34 v35 v44 v45 v55')\n"
   ]
  },
  {
   "cell_type": "code",
   "execution_count": 6,
   "metadata": {},
   "outputs": [],
   "source": [
    "v11 = B[0,0]\n",
    "v12 = B[0,1]\n",
    "v13 = B[0,2]\n",
    "v14 = B[0,3]\n",
    "v15 = B[0,4]\n",
    "v22 = B[1,1]\n",
    "v23 = B[1,2]\n",
    "v24 = B[1,3]\n",
    "v25 = B[1,4]\n",
    "v33 = B[2,2]\n",
    "v34 = B[2,3]\n",
    "v35 = B[2,4]\n",
    "v44 = B[3,3]\n",
    "v45 = B[3,4]\n",
    "v55 = B[4,4]"
   ]
  },
  {
   "cell_type": "code",
   "execution_count": 7,
   "metadata": {},
   "outputs": [],
   "source": [
    "V = Matrix([[v11,v12,v13,v14,15],[v12,v22,v23,v24,v25],[v13,v23,v33,v34,v35],[v14,v24,v34,v44,v45],[v15,v25,v35,v45,v55]])\n",
    "C123 = Matrix([[v11,v12,v13],[v12,v22,v23],[v13,v23,v33]])\n",
    "C124 = Matrix([[v11,v12,v14],[v12,v22,v24],[v14,v24,v44]])\n",
    "C125 = Matrix([[v11,v12,v15],[v12,v22,v25],[v15,v25,v55]])\n",
    "C134 = Matrix([[v11,v13,v14],[v13,v33,v34],[v14,v34,v44]])\n",
    "C135 = Matrix([[v11,v13,v15],[v13,v33,v35],[v15,v35,v55]])\n",
    "C145 = Matrix([[v11,v14,v15],[v14,v44,v45],[v15,v45,v55]])\n",
    "C234 = Matrix([[v22,v23,v24],[v23,v33,v34],[v24,v34,v44]])\n",
    "C235 = Matrix([[v22,v23,v25],[v23,v33,v35],[v25,v35,v55]])\n",
    "C245 = Matrix([[v22,v24,v25],[v24,v44,v45],[v25,v45,v55]])\n",
    "C345 = Matrix([[v33,v34,v35],[v34,v44,v45],[v35,v45,v55]])\n"
   ]
  },
  {
   "cell_type": "code",
   "execution_count": 8,
   "metadata": {},
   "outputs": [],
   "source": [
    "c123 = C123.det()\n",
    "c124 = C124.det()\n",
    "c125 = C125.det()\n",
    "c134 = C134.det()\n",
    "c135 = C135.det()\n",
    "c145 = C145.det()\n",
    "c234 = C234.det()\n",
    "c235 = C235.det()\n",
    "c245 = C245.det()\n",
    "c345 = C345.det()"
   ]
  },
  {
   "cell_type": "code",
   "execution_count": 9,
   "metadata": {},
   "outputs": [],
   "source": [
    "q1=c123/(v11*v22*v33)\n",
    "q2=c124/(v11*v22*v44)\n",
    "q3=c125/(v11*v22*v55)\n",
    "q4=c134/(v11*v33*v44)\n",
    "q5=c135/(v11*v33*v55)\n",
    "q6=c145/(v11*v44*v55)\n",
    "q7=c234/(v22*v33*v44)\n",
    "q8=c235/(v22*v33*v55)\n",
    "q9=c245/(v22*v44*v55)\n",
    "q10=c345/(v33*v44*v55)\n"
   ]
  },
  {
   "cell_type": "code",
   "execution_count": 10,
   "metadata": {},
   "outputs": [
    {
     "data": {
      "image/png": "[encoded data removed]",
      "text/latex": [
       "$\\displaystyle 1$"
      ],
      "text/plain": [
       "1"
      ]
     },
     "execution_count": 10,
     "metadata": {},
     "output_type": "execute_result"
    }
   ],
   "source": [
    "q1"
   ]
  },
  {
   "cell_type": "code",
   "execution_count": 11,
   "metadata": {},
   "outputs": [
    {
     "data": {
      "image/png": "[encoded data removed]",
      "text/latex": [
       "$\\displaystyle 0.333333333333333$"
      ],
      "text/plain": [
       "0.333333333333333"
      ]
     },
     "execution_count": 11,
     "metadata": {},
     "output_type": "execute_result"
    }
   ],
   "source": [
    "q2"
   ]
  },
  {
   "cell_type": "code",
   "execution_count": 12,
   "metadata": {},
   "outputs": [
    {
     "data": {
      "image/png": "[encoded data removed]",
      "text/latex": [
       "$\\displaystyle 0.333333333333333$"
      ],
      "text/plain": [
       "0.333333333333333"
      ]
     },
     "execution_count": 12,
     "metadata": {},
     "output_type": "execute_result"
    }
   ],
   "source": [
    "q3"
   ]
  },
  {
   "cell_type": "code",
   "execution_count": 13,
   "metadata": {},
   "outputs": [
    {
     "data": {
      "image/png": "[encoded data removed]",
      "text/latex": [
       "$\\displaystyle 0.333333333333333$"
      ],
      "text/plain": [
       "0.333333333333333"
      ]
     },
     "execution_count": 13,
     "metadata": {},
     "output_type": "execute_result"
    }
   ],
   "source": [
    "q4"
   ]
  },
  {
   "cell_type": "code",
   "execution_count": 14,
   "metadata": {},
   "outputs": [
    {
     "data": {
      "image/png": "[encoded data removed]",
      "text/latex": [
       "$\\displaystyle 0.333333333333333$"
      ],
      "text/plain": [
       "0.333333333333333"
      ]
     },
     "execution_count": 14,
     "metadata": {},
     "output_type": "execute_result"
    }
   ],
   "source": [
    "q5"
   ]
  },
  {
   "cell_type": "code",
   "execution_count": 15,
   "metadata": {},
   "outputs": [
    {
     "data": {
      "image/png": "[encoded data removed]",
      "text/latex": [
       "$\\displaystyle 0$"
      ],
      "text/plain": [
       "0"
      ]
     },
     "execution_count": 15,
     "metadata": {},
     "output_type": "execute_result"
    }
   ],
   "source": [
    "q6"
   ]
  },
  {
   "cell_type": "code",
   "execution_count": 16,
   "metadata": {},
   "outputs": [
    {
     "data": {
      "image/png": "[encoded data removed]",
      "text/latex": [
       "$\\displaystyle 0.333333333333333$"
      ],
      "text/plain": [
       "0.333333333333333"
      ]
     },
     "execution_count": 16,
     "metadata": {},
     "output_type": "execute_result"
    }
   ],
   "source": [
    "q7"
   ]
  },
  {
   "cell_type": "code",
   "execution_count": 17,
   "metadata": {},
   "outputs": [
    {
     "data": {
      "image/png": "[encoded data removed]",
      "text/latex": [
       "$\\displaystyle 0.333333333333333$"
      ],
      "text/plain": [
       "0.333333333333333"
      ]
     },
     "execution_count": 17,
     "metadata": {},
     "output_type": "execute_result"
    }
   ],
   "source": [
    "q8"
   ]
  },
  {
   "cell_type": "code",
   "execution_count": 18,
   "metadata": {},
   "outputs": [
    {
     "data": {
      "image/png": "[encoded data removed]",
      "text/latex": [
       "$\\displaystyle 0.444444444444444$"
      ],
      "text/plain": [
       "0.444444444444444"
      ]
     },
     "execution_count": 18,
     "metadata": {},
     "output_type": "execute_result"
    }
   ],
   "source": [
    "q9"
   ]
  },
  {
   "cell_type": "code",
   "execution_count": 19,
   "metadata": {},
   "outputs": [
    {
     "data": {
      "image/png": "[encoded data removed]",
      "text/latex": [
       "$\\displaystyle 0.444444444444444$"
      ],
      "text/plain": [
       "0.444444444444444"
      ]
     },
     "execution_count": 19,
     "metadata": {},
     "output_type": "execute_result"
    }
   ],
   "source": [
    "q10"
   ]
  },
  {
   "cell_type": "code",
   "execution_count": 20,
   "metadata": {},
   "outputs": [
    {
     "data": {
      "text/latex": [
       "$\\displaystyle \\left[\\begin{matrix}1 & 0 & 0 & -0.5 & 0.5\\\\0 & 1 & 0 & 0.5 & 0.5\\\\0 & 0 & 1 & 0.5 & 0.5\\\\-0.5 & 0.5 & 0.5 & 0.75 & 0.25\\\\0.5 & 0.5 & 0.5 & 0.25 & 0.75\\end{matrix}\\right]$"
      ],
      "text/plain": [
       "[ 1     0    0   -0.5  0.5 ]\n",
       "[                          ]\n",
       "[ 0     1    0   0.5   0.5 ]\n",
       "[                          ]\n",
       "[ 0     0    1   0.5   0.5 ]\n",
       "[                          ]\n",
       "[-0.5  0.5  0.5  0.75  0.25]\n",
       "[                          ]\n",
       "[0.5   0.5  0.5  0.25  0.75]"
      ]
     },
     "execution_count": 20,
     "metadata": {},
     "output_type": "execute_result"
    }
   ],
   "source": [
    "B"
   ]
  },
  {
   "cell_type": "code",
   "execution_count": null,
   "metadata": {},
   "outputs": [],
   "source": []
  }
 ],
 "metadata": {
  "kernelspec": {
   "display_name": "Python 3",
   "language": "python",
   "name": "python3"
  },
  "language_info": {
   "codemirror_mode": {
    "name": "ipython",
    "version": 3
   },
   "file_extension": ".py",
   "mimetype": "text/x-python",
   "name": "python",
   "nbconvert_exporter": "python",
   "pygments_lexer": "ipython3",
   "version": "3.6.7"
  }
 },
 "nbformat": 4,
 "nbformat_minor": 2
}
