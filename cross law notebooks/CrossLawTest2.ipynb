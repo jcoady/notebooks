{
 "cells": [
  {
   "cell_type": "code",
   "execution_count": 1,
   "metadata": {},
   "outputs": [
    {
     "name": "stdout",
     "output_type": "stream",
     "text": [
      "x**2 + 2*x*y + y**2\n"
     ]
    }
   ],
   "source": [
    "import sympy \n",
    "from sympy import expand, symbols \n",
    "  \n",
    "x, y = symbols('x y') \n",
    "gfg_exp = x + y \n",
    "  \n",
    "# Use sympy.expand() method \n",
    "exp = sympy.expand(gfg_exp**2) \n",
    "  \n",
    "print(exp)"
   ]
  },
  {
   "cell_type": "code",
   "execution_count": 2,
   "metadata": {},
   "outputs": [
    {
     "data": {
      "text/latex": [
       "$\\displaystyle \\left[\\begin{matrix}1 & 0 & 0\\\\0 & 0 & 0\\end{matrix}\\right]$"
      ],
      "text/plain": [
       "[1  0  0]\n",
       "[       ]\n",
       "[0  0  0]"
      ]
     },
     "execution_count": 2,
     "metadata": {},
     "output_type": "execute_result"
    }
   ],
   "source": [
    "from sympy.interactive.printing import init_printing\n",
    "init_printing(use_unicode=False, wrap_line=False)\n",
    "from sympy.matrices import Matrix, eye, zeros, ones, diag, GramSchmidt\n",
    "M = Matrix([[1,0,0], [0,0,0]]); M"
   ]
  },
  {
   "cell_type": "code",
   "execution_count": 3,
   "metadata": {},
   "outputs": [],
   "source": [
    "v11, v12, v13, v14, v22, v23, v24, v33, v34, v44 = symbols('v11, v12, v13, v14, v22, v23, v24, v33, v34, v44')"
   ]
  },
  {
   "cell_type": "code",
   "execution_count": 4,
   "metadata": {},
   "outputs": [],
   "source": [
    "V = Matrix([[v11,v12,v13,v14],[v12,v22,v23,v24],[v13,v23,v33,v34],[v14,v24,v34,v44]])\n",
    "C11 = Matrix([[v22,v23,v24],[v23,v33,v34],[v24,v34,v44]])\n",
    "C22 = Matrix([[v11,v13,v14],[v13,v33,v34],[v14,v34,v44]])\n",
    "C33 = Matrix([[v11,v12,v14],[v12,v22,v24],[v14,v24,v44]])\n",
    "C44 = Matrix([[v11,v12,v13],[v12,v22,v23],[v13,v23,v33]])"
   ]
  },
  {
   "cell_type": "code",
   "execution_count": 5,
   "metadata": {},
   "outputs": [],
   "source": [
    "D = V.det()"
   ]
  },
  {
   "cell_type": "code",
   "execution_count": 6,
   "metadata": {},
   "outputs": [],
   "source": [
    "c11 = C11.det()\n",
    "c22 = C22.det()\n",
    "c33 = C33.det()\n",
    "c44 = C44.det()"
   ]
  },
  {
   "cell_type": "code",
   "execution_count": 7,
   "metadata": {},
   "outputs": [],
   "source": [
    "q1=c11/(v22*v33*v44)\n",
    "q2=c22/(v11*v33*v44)\n",
    "q3=c33/(v11*v22*v44)\n",
    "q4=c44/(v11*v22*v33)"
   ]
  },
  {
   "cell_type": "code",
   "execution_count": 8,
   "metadata": {},
   "outputs": [],
   "source": [
    "rhs = 4*(1-q1)*(1-q2)*(1-q3)*(1-q4)"
   ]
  },
  {
   "cell_type": "code",
   "execution_count": 9,
   "metadata": {},
   "outputs": [],
   "source": [
    "rhse = sympy.expand(rhs)"
   ]
  },
  {
   "cell_type": "code",
   "execution_count": 10,
   "metadata": {},
   "outputs": [],
   "source": [
    "rhsf = sympy.factor(rhse)"
   ]
  },
  {
   "cell_type": "code",
   "execution_count": 11,
   "metadata": {},
   "outputs": [],
   "source": [
    "lhs = ((D/(v11*v22*v33*v44))**2 - q1 - q2 - q3 - q4 + 2)**2"
   ]
  },
  {
   "cell_type": "code",
   "execution_count": 12,
   "metadata": {},
   "outputs": [],
   "source": [
    "lhse = sympy.expand(lhs)"
   ]
  },
  {
   "cell_type": "code",
   "execution_count": 13,
   "metadata": {},
   "outputs": [],
   "source": [
    "lhsf = sympy.factor(lhse)"
   ]
  },
  {
   "cell_type": "code",
   "execution_count": 14,
   "metadata": {},
   "outputs": [],
   "source": [
    "lhsf2 = (v11**4 * v22**4 * v33**4 * v44**4)*(lhsf)"
   ]
  },
  {
   "cell_type": "code",
   "execution_count": 15,
   "metadata": {},
   "outputs": [],
   "source": [
    "lhsf2e = sympy.expand(lhsf2)"
   ]
  },
  {
   "cell_type": "code",
   "execution_count": 16,
   "metadata": {},
   "outputs": [],
   "source": [
    "rhsf2 = (v11**4 * v22**4 * v33**4 * v44**4)*(rhsf)"
   ]
  },
  {
   "cell_type": "code",
   "execution_count": null,
   "metadata": {},
   "outputs": [],
   "source": []
  },
  {
   "cell_type": "code",
   "execution_count": 18,
   "metadata": {},
   "outputs": [],
   "source": [
    "rhsf2e = sympy.expand(rhsf2)"
   ]
  },
  {
   "cell_type": "code",
   "execution_count": null,
   "metadata": {},
   "outputs": [],
   "source": [
    "totf2e = lhsf2e - rhsf2e"
   ]
  }
 ],
 "metadata": {
  "kernelspec": {
   "display_name": "Python 3",
   "language": "python",
   "name": "python3"
  },
  "language_info": {
   "codemirror_mode": {
    "name": "ipython",
    "version": 3
   },
   "file_extension": ".py",
   "mimetype": "text/x-python",
   "name": "python",
   "nbconvert_exporter": "python",
   "pygments_lexer": "ipython3",
   "version": "3.6.7"
  }
 },
 "nbformat": 4,
 "nbformat_minor": 2
}
