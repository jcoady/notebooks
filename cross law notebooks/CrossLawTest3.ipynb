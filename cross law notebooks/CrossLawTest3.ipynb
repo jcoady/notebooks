{
 "cells": [
  {
   "cell_type": "code",
   "execution_count": 1,
   "metadata": {},
   "outputs": [],
   "source": [
    "import sympy"
   ]
  },
  {
   "cell_type": "code",
   "execution_count": 2,
   "metadata": {},
   "outputs": [
    {
     "name": "stdout",
     "output_type": "stream",
     "text": [
      "x**2 + 2*x*y + y**2\n"
     ]
    }
   ],
   "source": [
    "from sympy import expand, symbols \n",
    "  \n",
    "x, y = symbols('x y') \n",
    "gfg_exp = x + y \n",
    "  \n",
    "# Use sympy.expand() method \n",
    "exp = sympy.expand(gfg_exp**2) \n",
    "  \n",
    "print(exp)"
   ]
  },
  {
   "cell_type": "code",
   "execution_count": 3,
   "metadata": {},
   "outputs": [
    {
     "data": {
      "text/latex": [
       "$\\displaystyle \\left[\\begin{matrix}1 & 0 & 0\\\\0 & 0 & 0\\end{matrix}\\right]$"
      ],
      "text/plain": [
       "[1  0  0]\n",
       "[       ]\n",
       "[0  0  0]"
      ]
     },
     "execution_count": 3,
     "metadata": {},
     "output_type": "execute_result"
    }
   ],
   "source": [
    "from sympy.interactive.printing import init_printing\n",
    "init_printing(use_unicode=False, wrap_line=False)\n",
    "from sympy.matrices import Matrix, eye, zeros, ones, diag, GramSchmidt\n",
    "M = Matrix([[1,0,0], [0,0,0]]); M"
   ]
  },
  {
   "cell_type": "code",
   "execution_count": 4,
   "metadata": {},
   "outputs": [],
   "source": [
    "v11, v12, v13, v14, v22, v23, v24, v33, v34, v44 = symbols('v11, v12, v13, v14, v22, v23, v24, v33, v34, v44')"
   ]
  },
  {
   "cell_type": "code",
   "execution_count": 5,
   "metadata": {},
   "outputs": [],
   "source": [
    "a, b, c, d = symbols('a b c d')"
   ]
  },
  {
   "cell_type": "code",
   "execution_count": 105,
   "metadata": {},
   "outputs": [],
   "source": [
    "def p(a,b):\n",
    "    return a+b - 2*a*b"
   ]
  },
  {
   "cell_type": "code",
   "execution_count": 106,
   "metadata": {},
   "outputs": [],
   "source": [
    "def q(a,b):\n",
    "    return 4*a*b*(1-a)*(1-b)"
   ]
  },
  {
   "cell_type": "code",
   "execution_count": 107,
   "metadata": {},
   "outputs": [],
   "source": [
    "p1 = p(1/6,1/6)\n",
    "q1 = q(1/6,1/6)"
   ]
  },
  {
   "cell_type": "code",
   "execution_count": 108,
   "metadata": {},
   "outputs": [],
   "source": [
    "p2 = p(1/4,1/12)\n",
    "q2 = q(1/4,1/12)"
   ]
  },
  {
   "cell_type": "code",
   "execution_count": 109,
   "metadata": {},
   "outputs": [],
   "source": [
    "x = (p1+p2)/2 - (q1-q2)/(2*(p1-p2))"
   ]
  },
  {
   "cell_type": "code",
   "execution_count": 110,
   "metadata": {},
   "outputs": [
    {
     "data": {
      "image/png": "[encoded data removed]",
      "text/latex": [
       "$\\displaystyle 1.0000000000000024$"
      ],
      "text/plain": [
       "1.0000000000000024"
      ]
     },
     "execution_count": 110,
     "metadata": {},
     "output_type": "execute_result"
    }
   ],
   "source": [
    "x"
   ]
  },
  {
   "cell_type": "code",
   "execution_count": null,
   "metadata": {},
   "outputs": [],
   "source": []
  },
  {
   "cell_type": "code",
   "execution_count": 122,
   "metadata": {},
   "outputs": [],
   "source": [
    "def p(a,b,c):\n",
    "    return a+b+c - 2*a*b - 2*a*c - 2*b*c + 2*a*b*c"
   ]
  },
  {
   "cell_type": "code",
   "execution_count": 123,
   "metadata": {},
   "outputs": [],
   "source": [
    "def q(a,b,c):\n",
    "    return 4*(1-a)*(1-b)*(1-c)*(a*b + a*c + b*c - a*b*c)"
   ]
  },
  {
   "cell_type": "code",
   "execution_count": 128,
   "metadata": {},
   "outputs": [],
   "source": [
    "p1 = p(2/45,1/10,1)\n",
    "q1 = q(2/45,1/10,1)"
   ]
  },
  {
   "cell_type": "code",
   "execution_count": 129,
   "metadata": {},
   "outputs": [],
   "source": [
    "p2 = p(1/18,4/45,1)\n",
    "q2 = q(1/18,4/45,1)"
   ]
  },
  {
   "cell_type": "code",
   "execution_count": 136,
   "metadata": {},
   "outputs": [],
   "source": [
    "p1 = p(1/3,1/3,1/3)\n",
    "q1 = q(1/3,1/3,1/3)"
   ]
  },
  {
   "cell_type": "code",
   "execution_count": 140,
   "metadata": {},
   "outputs": [],
   "source": [
    "p2 = p(13/90,13/90,64/90)\n",
    "q2 = q(13/90,13/90,64/90)"
   ]
  },
  {
   "cell_type": "code",
   "execution_count": 141,
   "metadata": {},
   "outputs": [],
   "source": [
    "x = (p1+p2)/2 - (q1-q2)/(2*(p1-p2))"
   ]
  },
  {
   "cell_type": "code",
   "execution_count": 142,
   "metadata": {},
   "outputs": [
    {
     "data": {
      "image/png": "[encoded data removed]",
      "text/latex": [
       "$\\displaystyle 1.0000000000000004$"
      ],
      "text/plain": [
       "1.0000000000000004"
      ]
     },
     "execution_count": 142,
     "metadata": {},
     "output_type": "execute_result"
    }
   ],
   "source": [
    "x"
   ]
  },
  {
   "cell_type": "code",
   "execution_count": 143,
   "metadata": {},
   "outputs": [],
   "source": [
    "def R(a,b,c,d):\n",
    "    return ((a+b+c+d)**2 - 2*(a**2 + b**2 + c**2 + d**2) - 4*(a*b*c + a*b*d + a*c*d + b*c*d) + 8*a*b*c*d)**2 - 64*a*b*c*d*(1-a)*(1-b)*(1-c)*(1-d)"
   ]
  },
  {
   "cell_type": "code",
   "execution_count": 147,
   "metadata": {},
   "outputs": [
    {
     "data": {
      "image/png": "[encoded data removed]",
      "text/latex": [
       "$\\displaystyle -1.448494102440634e-16$"
      ],
      "text/plain": [
       "-1.448494102440634e-16"
      ]
     },
     "execution_count": 147,
     "metadata": {},
     "output_type": "execute_result"
    }
   ],
   "source": [
    "R(1/2,9/10,25/26,9/130)"
   ]
  },
  {
   "cell_type": "code",
   "execution_count": 74,
   "metadata": {},
   "outputs": [
    {
     "data": {
      "image/png": "[encoded data removed]",
      "text/latex": [
       "$\\displaystyle 0.04$"
      ],
      "text/plain": [
       "0.04"
      ]
     },
     "execution_count": 74,
     "metadata": {},
     "output_type": "execute_result"
    }
   ],
   "source": [
    "1/5 * 1/5"
   ]
  },
  {
   "cell_type": "code",
   "execution_count": 75,
   "metadata": {},
   "outputs": [
    {
     "data": {
      "image/png": "[encoded data removed]",
      "text/latex": [
       "$\\displaystyle 0.14444444444444443$"
      ],
      "text/plain": [
       "0.14444444444444443"
      ]
     },
     "execution_count": 75,
     "metadata": {},
     "output_type": "execute_result"
    }
   ],
   "source": [
    "13/90"
   ]
  },
  {
   "cell_type": "code",
   "execution_count": 132,
   "metadata": {},
   "outputs": [
    {
     "data": {
      "image/png": "[encoded data removed]",
      "text/latex": [
       "$\\displaystyle 0.8555555555555555$"
      ],
      "text/plain": [
       "0.8555555555555555"
      ]
     },
     "execution_count": 132,
     "metadata": {},
     "output_type": "execute_result"
    }
   ],
   "source": [
    "77/90"
   ]
  },
  {
   "cell_type": "code",
   "execution_count": 82,
   "metadata": {},
   "outputs": [
    {
     "data": {
      "image/png": "[encoded data removed]",
      "text/latex": [
       "$\\displaystyle 0.35555555555555557$"
      ],
      "text/plain": [
       "0.35555555555555557"
      ]
     },
     "execution_count": 82,
     "metadata": {},
     "output_type": "execute_result"
    }
   ],
   "source": [
    "32/90"
   ]
  },
  {
   "cell_type": "code",
   "execution_count": 83,
   "metadata": {},
   "outputs": [
    {
     "data": {
      "image/png": "[encoded data removed]",
      "text/latex": [
       "$\\displaystyle 0.7111111111111111$"
      ],
      "text/plain": [
       "0.7111111111111111"
      ]
     },
     "execution_count": 83,
     "metadata": {},
     "output_type": "execute_result"
    }
   ],
   "source": [
    "64/90"
   ]
  },
  {
   "cell_type": "code",
   "execution_count": 84,
   "metadata": {},
   "outputs": [
    {
     "data": {
      "image/png": "[encoded data removed]",
      "text/latex": [
       "$\\displaystyle 0.4444444444444444$"
      ],
      "text/plain": [
       "0.4444444444444444"
      ]
     },
     "execution_count": 84,
     "metadata": {},
     "output_type": "execute_result"
    }
   ],
   "source": [
    "4/9"
   ]
  },
  {
   "cell_type": "code",
   "execution_count": 148,
   "metadata": {},
   "outputs": [
    {
     "data": {
      "image/png": "[encoded data removed]",
      "text/latex": [
       "$\\displaystyle 0.5555555555555556$"
      ],
      "text/plain": [
       "0.5555555555555556"
      ]
     },
     "execution_count": 148,
     "metadata": {},
     "output_type": "execute_result"
    }
   ],
   "source": [
    "5/9"
   ]
  },
  {
   "cell_type": "code",
   "execution_count": 247,
   "metadata": {},
   "outputs": [],
   "source": [
    "A = Matrix([[1,1/10,0],[0,1,0],[0,0,1],[1/2,1/3,1/4]])\n",
    "At = A.transpose()\n",
    "B = A*At"
   ]
  },
  {
   "cell_type": "code",
   "execution_count": 248,
   "metadata": {},
   "outputs": [],
   "source": [
    "C = Matrix([[1,1/10,0],[0,1,0],[0,0,1],[1/5,1/4,1/3]])\n",
    "Ct = C.transpose()\n",
    "D = C*Ct"
   ]
  },
  {
   "cell_type": "code",
   "execution_count": 249,
   "metadata": {},
   "outputs": [],
   "source": [
    "v11, v12, v13, v14, v22, v23, v24, v33, v34, v44 = symbols('v11, v12, v13, v14, v22, v23, v24, v33, v34, v44')"
   ]
  },
  {
   "cell_type": "code",
   "execution_count": 250,
   "metadata": {},
   "outputs": [],
   "source": [
    "u11, u12, u13, u14, u22, u23, u24, u33, u34, u44 = symbols('u11, u12, u13, u14, u22, u23, u24, u33, u34, u44')"
   ]
  },
  {
   "cell_type": "code",
   "execution_count": 251,
   "metadata": {},
   "outputs": [],
   "source": [
    "v11 = B[0,0]\n",
    "v12 = B[0,1]\n",
    "v13 = B[0,2]\n",
    "v14 = B[0,3]\n",
    "v22 = B[1,1]\n",
    "v23 = B[1,2]\n",
    "v24 = B[1,3]\n",
    "v33 = B[2,2]\n",
    "v34 = B[2,3]\n",
    "v44 = B[3,3]"
   ]
  },
  {
   "cell_type": "code",
   "execution_count": 252,
   "metadata": {},
   "outputs": [],
   "source": [
    "u11 = D[0,0]\n",
    "u12 = D[0,1]\n",
    "u13 = D[0,2]\n",
    "u14 = D[0,3]\n",
    "u22 = D[1,1]\n",
    "u23 = D[1,2]\n",
    "u24 = D[1,3]\n",
    "u33 = D[2,2]\n",
    "u34 = D[2,3]\n",
    "u44 = D[3,3]"
   ]
  },
  {
   "cell_type": "code",
   "execution_count": 253,
   "metadata": {},
   "outputs": [],
   "source": [
    "V = Matrix([[v11,v12,v13,v14],[v12,v22,v23,v24],[v13,v23,v33,v34],[v14,v24,v34,v44]])\n",
    "C11a = Matrix([[v22,v23,v24],[v23,v33,v34],[v24,v34,v44]])\n",
    "C22a = Matrix([[v11,v13,v14],[v13,v33,v34],[v14,v34,v44]])\n",
    "C33a = Matrix([[v11,v12,v14],[v12,v22,v24],[v14,v24,v44]])\n",
    "C44a = Matrix([[v11,v12,v13],[v12,v22,v23],[v13,v23,v33]])"
   ]
  },
  {
   "cell_type": "code",
   "execution_count": 254,
   "metadata": {},
   "outputs": [],
   "source": [
    "U = Matrix([[u11,u12,u13,u14],[u12,u22,u23,u24],[u13,u23,u33,u34],[u14,u24,u34,u44]])\n",
    "C11b = Matrix([[u22,u23,u24],[u23,u33,u34],[u24,u34,u44]])\n",
    "C22b = Matrix([[u11,u13,u14],[u13,u33,u34],[u14,u34,u44]])\n",
    "C33b = Matrix([[u11,u12,u14],[u12,u22,u24],[u14,u24,u44]])\n",
    "C44b = Matrix([[u11,u12,u13],[u12,u22,u23],[u13,u23,u33]])"
   ]
  },
  {
   "cell_type": "code",
   "execution_count": 255,
   "metadata": {},
   "outputs": [],
   "source": [
    "c11a = C11a.det()\n",
    "c22a = C22a.det()\n",
    "c33a = C33a.det()\n",
    "c44a = C44a.det()"
   ]
  },
  {
   "cell_type": "code",
   "execution_count": 256,
   "metadata": {},
   "outputs": [],
   "source": [
    "c11b = C11b.det()\n",
    "c22b = C22b.det()\n",
    "c33b = C33b.det()\n",
    "c44b = C44b.det()"
   ]
  },
  {
   "cell_type": "code",
   "execution_count": 257,
   "metadata": {},
   "outputs": [],
   "source": [
    "q1a=c11a/(v22*v33*v44)\n",
    "q2a=c22a/(v11*v33*v44)\n",
    "q3a=c33a/(v11*v22*v44)\n",
    "q4a=c44a/(v11*v22*v33)\n"
   ]
  },
  {
   "cell_type": "code",
   "execution_count": 258,
   "metadata": {},
   "outputs": [],
   "source": [
    "q1b=c11b/(u22*u33*u44)\n",
    "q2b=c22b/(u11*u33*u44)\n",
    "q3b=c33b/(u11*u22*u44)\n",
    "q4b=c44b/(u11*u22*u33)\n"
   ]
  },
  {
   "cell_type": "code",
   "execution_count": 259,
   "metadata": {},
   "outputs": [
    {
     "data": {
      "image/png": "[encoded data removed]",
      "text/latex": [
       "$\\displaystyle 0.590163934426229$"
      ],
      "text/plain": [
       "0.590163934426229"
      ]
     },
     "execution_count": 259,
     "metadata": {},
     "output_type": "execute_result"
    }
   ],
   "source": [
    "q1a"
   ]
  },
  {
   "cell_type": "code",
   "execution_count": 260,
   "metadata": {},
   "outputs": [
    {
     "data": {
      "image/png": "[encoded data removed]",
      "text/latex": [
       "$\\displaystyle 0.187256176853056$"
      ],
      "text/plain": [
       "0.187256176853056"
      ]
     },
     "execution_count": 260,
     "metadata": {},
     "output_type": "execute_result"
    }
   ],
   "source": [
    "q1b"
   ]
  },
  {
   "cell_type": "code",
   "execution_count": 261,
   "metadata": {},
   "outputs": [
    {
     "data": {
      "image/png": "[encoded data removed]",
      "text/latex": [
       "$\\displaystyle 0.187631877941893$"
      ],
      "text/plain": [
       "0.187631877941893"
      ]
     },
     "execution_count": 261,
     "metadata": {},
     "output_type": "execute_result"
    }
   ],
   "source": [
    "q2a"
   ]
  },
  {
   "cell_type": "code",
   "execution_count": 262,
   "metadata": {},
   "outputs": [
    {
     "data": {
      "image/png": "[encoded data removed]",
      "text/latex": [
       "$\\displaystyle 0.245194350384323$"
      ],
      "text/plain": [
       "0.245194350384323"
      ]
     },
     "execution_count": 262,
     "metadata": {},
     "output_type": "execute_result"
    }
   ],
   "source": [
    "q2b"
   ]
  },
  {
   "cell_type": "code",
   "execution_count": 263,
   "metadata": {},
   "outputs": [
    {
     "data": {
      "image/png": "[encoded data removed]",
      "text/latex": [
       "$\\displaystyle 0.146080181788671$"
      ],
      "text/plain": [
       "0.146080181788671"
      ]
     },
     "execution_count": 263,
     "metadata": {},
     "output_type": "execute_result"
    }
   ],
   "source": [
    "q3a"
   ]
  },
  {
   "cell_type": "code",
   "execution_count": 264,
   "metadata": {},
   "outputs": [
    {
     "data": {
      "image/png": "[encoded data removed]",
      "text/latex": [
       "$\\displaystyle 0.515005986944598$"
      ],
      "text/plain": [
       "0.515005986944598"
      ]
     },
     "execution_count": 264,
     "metadata": {},
     "output_type": "execute_result"
    }
   ],
   "source": [
    "q3b"
   ]
  },
  {
   "cell_type": "code",
   "execution_count": 265,
   "metadata": {},
   "outputs": [
    {
     "data": {
      "image/png": "[encoded data removed]",
      "text/latex": [
       "$\\displaystyle 0.99009900990099$"
      ],
      "text/plain": [
       "0.990099009900990"
      ]
     },
     "execution_count": 265,
     "metadata": {},
     "output_type": "execute_result"
    }
   ],
   "source": [
    "q4a"
   ]
  },
  {
   "cell_type": "code",
   "execution_count": 266,
   "metadata": {},
   "outputs": [
    {
     "data": {
      "image/png": "[encoded data removed]",
      "text/latex": [
       "$\\displaystyle 0.99009900990099$"
      ],
      "text/plain": [
       "0.990099009900990"
      ]
     },
     "execution_count": 266,
     "metadata": {},
     "output_type": "execute_result"
    }
   ],
   "source": [
    "q4b"
   ]
  },
  {
   "cell_type": "code",
   "execution_count": 243,
   "metadata": {},
   "outputs": [],
   "source": [
    "p1 = p(1/3,1/3,1/3)\n",
    "q1 = q(1/3,1/3,1/3)"
   ]
  },
  {
   "cell_type": "code",
   "execution_count": 267,
   "metadata": {},
   "outputs": [],
   "source": [
    "p1 = p(q1a,q2a,q3a)\n",
    "q1 = q(q1a,q2a,q3a)"
   ]
  },
  {
   "cell_type": "code",
   "execution_count": 268,
   "metadata": {},
   "outputs": [],
   "source": [
    "p2 = p(q1b,q2b,q3b)\n",
    "q2 = q(q1b,q2b,q3b)"
   ]
  },
  {
   "cell_type": "code",
   "execution_count": 273,
   "metadata": {},
   "outputs": [],
   "source": [
    "x = (p1+p2)/2 - (q1-q2)/(2*(p1-p2))"
   ]
  },
  {
   "cell_type": "code",
   "execution_count": 274,
   "metadata": {},
   "outputs": [
    {
     "data": {
      "image/png": "[encoded data removed]",
      "text/latex": [
       "$\\displaystyle 1.03032311842041$"
      ],
      "text/plain": [
       "1.03032311842041"
      ]
     },
     "execution_count": 274,
     "metadata": {},
     "output_type": "execute_result"
    }
   ],
   "source": [
    "x"
   ]
  },
  {
   "cell_type": "code",
   "execution_count": 275,
   "metadata": {},
   "outputs": [
    {
     "data": {
      "image/png": "[encoded data removed]",
      "text/latex": [
       "$\\displaystyle 0.507519711491947$"
      ],
      "text/plain": [
       "0.507519711491947"
      ]
     },
     "execution_count": 275,
     "metadata": {},
     "output_type": "execute_result"
    }
   ],
   "source": [
    "p1"
   ]
  },
  {
   "cell_type": "code",
   "execution_count": 276,
   "metadata": {},
   "outputs": [
    {
     "data": {
      "image/png": "[encoded data removed]",
      "text/latex": [
       "$\\displaystyle 0.236741970303359$"
      ],
      "text/plain": [
       "0.236741970303359"
      ]
     },
     "execution_count": 276,
     "metadata": {},
     "output_type": "execute_result"
    }
   ],
   "source": [
    "q1"
   ]
  },
  {
   "cell_type": "code",
   "execution_count": 278,
   "metadata": {},
   "outputs": [],
   "source": [
    "from sympy import sqrt"
   ]
  },
  {
   "cell_type": "code",
   "execution_count": 280,
   "metadata": {},
   "outputs": [
    {
     "data": {
      "image/png": "[encoded data removed]",
      "text/latex": [
       "$\\displaystyle 0.994081085116445$"
      ],
      "text/plain": [
       "0.994081085116445"
      ]
     },
     "execution_count": 280,
     "metadata": {},
     "output_type": "execute_result"
    }
   ],
   "source": [
    "p1 + sqrt(q1)"
   ]
  },
  {
   "cell_type": "code",
   "execution_count": 285,
   "metadata": {},
   "outputs": [
    {
     "data": {
      "image/png": "[encoded data removed]",
      "text/latex": [
       "$\\displaystyle 0.0640632857138548$"
      ],
      "text/plain": [
       "0.0640632857138548"
      ]
     },
     "execution_count": 285,
     "metadata": {},
     "output_type": "execute_result"
    }
   ],
   "source": [
    "(4*q1a*q2a*q3a*q4a)"
   ]
  },
  {
   "cell_type": "code",
   "execution_count": null,
   "metadata": {},
   "outputs": [],
   "source": []
  }
 ],
 "metadata": {
  "kernelspec": {
   "display_name": "Python 3",
   "language": "python",
   "name": "python3"
  },
  "language_info": {
   "codemirror_mode": {
    "name": "ipython",
    "version": 3
   },
   "file_extension": ".py",
   "mimetype": "text/x-python",
   "name": "python",
   "nbconvert_exporter": "python",
   "pygments_lexer": "ipython3",
   "version": "3.6.7"
  }
 },
 "nbformat": 4,
 "nbformat_minor": 2
}
