{
 "cells": [
  {
   "cell_type": "code",
   "execution_count": 1,
   "metadata": {},
   "outputs": [],
   "source": [
    "import sympy"
   ]
  },
  {
   "cell_type": "code",
   "execution_count": 2,
   "metadata": {},
   "outputs": [
    {
     "name": "stdout",
     "output_type": "stream",
     "text": [
      "x**2 + 2*x*y + y**2\n"
     ]
    }
   ],
   "source": [
    "# import sympy \n",
    "from sympy import expand, symbols \n",
    "  \n",
    "x, y = symbols('x y') \n",
    "gfg_exp = x + y \n",
    "  \n",
    "# Use sympy.expand() method \n",
    "exp = sympy.expand(gfg_exp**2) \n",
    "  \n",
    "print(exp)"
   ]
  },
  {
   "cell_type": "code",
   "execution_count": 3,
   "metadata": {},
   "outputs": [
    {
     "data": {
      "text/latex": [
       "$\\displaystyle \\left[\\begin{matrix}1 & 0 & 0\\\\0 & 0 & 0\\end{matrix}\\right]$"
      ],
      "text/plain": [
       "[1  0  0]\n",
       "[       ]\n",
       "[0  0  0]"
      ]
     },
     "execution_count": 3,
     "metadata": {},
     "output_type": "execute_result"
    }
   ],
   "source": [
    "from sympy.interactive.printing import init_printing\n",
    "init_printing(use_unicode=False, wrap_line=False)\n",
    "from sympy.matrices import Matrix, eye, zeros, ones, diag, GramSchmidt\n",
    "M = Matrix([[1,0,0], [0,0,0]]); M"
   ]
  },
  {
   "cell_type": "code",
   "execution_count": 4,
   "metadata": {},
   "outputs": [],
   "source": [
    "a, b, c, d, e, f, g, h, j, k = symbols('a b c d e f g h j k')"
   ]
  },
  {
   "cell_type": "code",
   "execution_count": 5,
   "metadata": {},
   "outputs": [],
   "source": [
    "g = a + d - a*d\n",
    "h = c + e - c*e\n",
    "j = c + d - c*d\n",
    "k = a + e - a*e"
   ]
  },
  {
   "cell_type": "code",
   "execution_count": 6,
   "metadata": {},
   "outputs": [
    {
     "data": {
      "image/png": "[encoded data removed]",
      "text/latex": [
       "$\\displaystyle - a d + a + d$"
      ],
      "text/plain": [
       "-a*d + a + d"
      ]
     },
     "execution_count": 6,
     "metadata": {},
     "output_type": "execute_result"
    }
   ],
   "source": [
    "g"
   ]
  },
  {
   "cell_type": "code",
   "execution_count": 7,
   "metadata": {},
   "outputs": [],
   "source": [
    "Pt_lhs = b*f + g*h"
   ]
  },
  {
   "cell_type": "code",
   "execution_count": 8,
   "metadata": {},
   "outputs": [],
   "source": [
    "Pt_rhs = j*k"
   ]
  },
  {
   "cell_type": "code",
   "execution_count": 9,
   "metadata": {},
   "outputs": [],
   "source": [
    "Pt_lhse = sympy.expand(Pt_lhs)"
   ]
  },
  {
   "cell_type": "code",
   "execution_count": 10,
   "metadata": {},
   "outputs": [
    {
     "data": {
      "image/png": "[encoded data removed]",
      "text/latex": [
       "$\\displaystyle a c d e - a c d - a c e + a c - a d e + a e + b f - c d e + c d + d e$"
      ],
      "text/plain": [
       "a*c*d*e - a*c*d - a*c*e + a*c - a*d*e + a*e + b*f - c*d*e + c*d + d*e"
      ]
     },
     "execution_count": 10,
     "metadata": {},
     "output_type": "execute_result"
    }
   ],
   "source": [
    "Pt_lhse"
   ]
  },
  {
   "cell_type": "code",
   "execution_count": 11,
   "metadata": {},
   "outputs": [],
   "source": [
    "Pt_rhse = sympy.expand(Pt_rhs)"
   ]
  },
  {
   "cell_type": "code",
   "execution_count": 12,
   "metadata": {},
   "outputs": [
    {
     "data": {
      "image/png": "[encoded data removed]",
      "text/latex": [
       "$\\displaystyle a c d e - a c d - a c e + a c - a d e + a d - c d e + c e + d e$"
      ],
      "text/plain": [
       "a*c*d*e - a*c*d - a*c*e + a*c - a*d*e + a*d - c*d*e + c*e + d*e"
      ]
     },
     "execution_count": 12,
     "metadata": {},
     "output_type": "execute_result"
    }
   ],
   "source": [
    "Pt_rhse"
   ]
  },
  {
   "cell_type": "code",
   "execution_count": 13,
   "metadata": {},
   "outputs": [],
   "source": [
    "Pt_tote = Pt_lhse - Pt_rhse"
   ]
  },
  {
   "cell_type": "code",
   "execution_count": 14,
   "metadata": {},
   "outputs": [
    {
     "data": {
      "image/png": "[encoded data removed]",
      "text/latex": [
       "$\\displaystyle - a d + a e + b f + c d - c e$"
      ],
      "text/plain": [
       "-a*d + a*e + b*f + c*d - c*e"
      ]
     },
     "execution_count": 14,
     "metadata": {},
     "output_type": "execute_result"
    }
   ],
   "source": [
    "Pt_tote"
   ]
  },
  {
   "cell_type": "code",
   "execution_count": 15,
   "metadata": {},
   "outputs": [],
   "source": [
    "CL_lhs = (a*d - g - a - d + 2)**2"
   ]
  },
  {
   "cell_type": "code",
   "execution_count": 16,
   "metadata": {},
   "outputs": [
    {
     "data": {
      "image/png": "[encoded data removed]",
      "text/latex": [
       "$\\displaystyle \\left(2 a d - 2 a - 2 d + 2\\right)^{2}$"
      ],
      "text/plain": [
       "                       2\n",
       "(2*a*d - 2*a - 2*d + 2) "
      ]
     },
     "execution_count": 16,
     "metadata": {},
     "output_type": "execute_result"
    }
   ],
   "source": [
    "CL_lhs"
   ]
  },
  {
   "cell_type": "code",
   "execution_count": 17,
   "metadata": {},
   "outputs": [],
   "source": [
    "CL_rhs = 4*(1-a)*(1-b)*(1-g)"
   ]
  },
  {
   "cell_type": "code",
   "execution_count": 18,
   "metadata": {},
   "outputs": [
    {
     "data": {
      "image/png": "[encoded data removed]",
      "text/latex": [
       "$\\displaystyle \\left(1 - b\\right) \\left(4 - 4 a\\right) \\left(a d - a - d + 1\\right)$"
      ],
      "text/plain": [
       "(1 - b)*(4 - 4*a)*(a*d - a - d + 1)"
      ]
     },
     "execution_count": 18,
     "metadata": {},
     "output_type": "execute_result"
    }
   ],
   "source": [
    "CL_rhs"
   ]
  },
  {
   "cell_type": "code",
   "execution_count": 19,
   "metadata": {},
   "outputs": [],
   "source": [
    "TQF_1ma = (b - (a+c - 2*a*c))**2/(4*a*c*(1-c))"
   ]
  },
  {
   "cell_type": "code",
   "execution_count": 20,
   "metadata": {},
   "outputs": [
    {
     "data": {
      "image/png": "[encoded data removed]",
      "text/latex": [
       "$\\displaystyle \\frac{\\left(2 a c - a + b - c\\right)^{2}}{4 a c \\left(1 - c\\right)}$"
      ],
      "text/plain": [
       "                   2\n",
       "(2*a*c - a + b - c) \n",
       "--------------------\n",
       "   4*a*c*(1 - c)    "
      ]
     },
     "execution_count": 20,
     "metadata": {},
     "output_type": "execute_result"
    }
   ],
   "source": [
    "TQF_1ma"
   ]
  },
  {
   "cell_type": "code",
   "execution_count": 21,
   "metadata": {},
   "outputs": [],
   "source": [
    "TQF_1md = (f - (d+e - 2*d*e))**2/(4*d*e*(1-e))"
   ]
  },
  {
   "cell_type": "code",
   "execution_count": 22,
   "metadata": {},
   "outputs": [
    {
     "data": {
      "image/png": "[encoded data removed]",
      "text/latex": [
       "$\\displaystyle \\frac{\\left(2 d e - d - e + f\\right)^{2}}{4 d e \\left(1 - e\\right)}$"
      ],
      "text/plain": [
       "                   2\n",
       "(2*d*e - d - e + f) \n",
       "--------------------\n",
       "   4*d*e*(1 - e)    "
      ]
     },
     "execution_count": 22,
     "metadata": {},
     "output_type": "execute_result"
    }
   ],
   "source": [
    "TQF_1md"
   ]
  },
  {
   "cell_type": "code",
   "execution_count": 23,
   "metadata": {},
   "outputs": [],
   "source": [
    "CL_rhs = 4*(TQF_1ma)**2*(TQF_1md)**2"
   ]
  },
  {
   "cell_type": "code",
   "execution_count": 24,
   "metadata": {},
   "outputs": [
    {
     "data": {
      "image/png": "[encoded data removed]",
      "text/latex": [
       "$\\displaystyle \\frac{\\left(2 a c - a + b - c\\right)^{4} \\left(2 d e - d - e + f\\right)^{4}}{64 a^{2} c^{2} d^{2} e^{2} \\left(1 - c\\right)^{2} \\left(1 - e\\right)^{2}}$"
      ],
      "text/plain": [
       "                   4                    4\n",
       "(2*a*c - a + b - c) *(2*d*e - d - e + f) \n",
       "-----------------------------------------\n",
       "         2  2  2  2        2        2    \n",
       "     64*a *c *d *e *(1 - c) *(1 - e)     "
      ]
     },
     "execution_count": 24,
     "metadata": {},
     "output_type": "execute_result"
    }
   ],
   "source": [
    "CL_rhs"
   ]
  },
  {
   "cell_type": "code",
   "execution_count": 25,
   "metadata": {},
   "outputs": [],
   "source": [
    "CL_lhs2 = a*d - g - a - d + 2"
   ]
  },
  {
   "cell_type": "code",
   "execution_count": 26,
   "metadata": {},
   "outputs": [
    {
     "data": {
      "image/png": "[encoded data removed]",
      "text/latex": [
       "$\\displaystyle 2 a d - 2 a - 2 d + 2$"
      ],
      "text/plain": [
       "2*a*d - 2*a - 2*d + 2"
      ]
     },
     "execution_count": 26,
     "metadata": {},
     "output_type": "execute_result"
    }
   ],
   "source": [
    "CL_lhs2"
   ]
  },
  {
   "cell_type": "code",
   "execution_count": 27,
   "metadata": {},
   "outputs": [],
   "source": [
    "CR_rhs2 = 2*(TQF_1ma)*(TQF_1md)"
   ]
  },
  {
   "cell_type": "code",
   "execution_count": 28,
   "metadata": {},
   "outputs": [
    {
     "data": {
      "image/png": "[encoded data removed]",
      "text/latex": [
       "$\\displaystyle \\frac{\\left(2 a c - a + b - c\\right)^{2} \\left(2 d e - d - e + f\\right)^{2}}{8 a c d e \\left(1 - c\\right) \\left(1 - e\\right)}$"
      ],
      "text/plain": [
       "                   2                    2\n",
       "(2*a*c - a + b - c) *(2*d*e - d - e + f) \n",
       "-----------------------------------------\n",
       "        8*a*c*d*e*(1 - c)*(1 - e)        "
      ]
     },
     "execution_count": 28,
     "metadata": {},
     "output_type": "execute_result"
    }
   ],
   "source": [
    "CR_rhs2"
   ]
  },
  {
   "cell_type": "code",
   "execution_count": null,
   "metadata": {},
   "outputs": [],
   "source": []
  },
  {
   "cell_type": "code",
   "execution_count": null,
   "metadata": {},
   "outputs": [],
   "source": []
  },
  {
   "cell_type": "code",
   "execution_count": 33,
   "metadata": {},
   "outputs": [],
   "source": [
    "num,den = sympy.fraction(CR_rhs2)"
   ]
  },
  {
   "cell_type": "code",
   "execution_count": 34,
   "metadata": {},
   "outputs": [
    {
     "data": {
      "image/png": "[encoded data removed]",
      "text/latex": [
       "$\\displaystyle \\left(2 a c - a + b - c\\right)^{2} \\left(2 d e - d - e + f\\right)^{2}$"
      ],
      "text/plain": [
       "                   2                    2\n",
       "(2*a*c - a + b - c) *(2*d*e - d - e + f) "
      ]
     },
     "execution_count": 34,
     "metadata": {},
     "output_type": "execute_result"
    }
   ],
   "source": [
    "num"
   ]
  },
  {
   "cell_type": "code",
   "execution_count": 35,
   "metadata": {},
   "outputs": [
    {
     "data": {
      "image/png": "[encoded data removed]",
      "text/latex": [
       "$\\displaystyle 8 a c d e \\left(1 - c\\right) \\left(1 - e\\right)$"
      ],
      "text/plain": [
       "8*a*c*d*e*(1 - c)*(1 - e)"
      ]
     },
     "execution_count": 35,
     "metadata": {},
     "output_type": "execute_result"
    }
   ],
   "source": [
    "den"
   ]
  },
  {
   "cell_type": "code",
   "execution_count": 36,
   "metadata": {},
   "outputs": [],
   "source": [
    "CL_lhs3 = den * CL_lhs2"
   ]
  },
  {
   "cell_type": "code",
   "execution_count": 37,
   "metadata": {},
   "outputs": [],
   "source": [
    "CL_rhs3 = num"
   ]
  },
  {
   "cell_type": "code",
   "execution_count": 39,
   "metadata": {},
   "outputs": [
    {
     "data": {
      "image/png": "[encoded data removed]",
      "text/latex": [
       "$\\displaystyle 8 a c d e \\left(1 - c\\right) \\left(1 - e\\right) \\left(2 a d - 2 a - 2 d + 2\\right)$"
      ],
      "text/plain": [
       "8*a*c*d*e*(1 - c)*(1 - e)*(2*a*d - 2*a - 2*d + 2)"
      ]
     },
     "execution_count": 39,
     "metadata": {},
     "output_type": "execute_result"
    }
   ],
   "source": [
    "CL_lhs3"
   ]
  },
  {
   "cell_type": "code",
   "execution_count": 40,
   "metadata": {},
   "outputs": [
    {
     "data": {
      "image/png": "[encoded data removed]",
      "text/latex": [
       "$\\displaystyle \\left(2 a c - a + b - c\\right)^{2} \\left(2 d e - d - e + f\\right)^{2}$"
      ],
      "text/plain": [
       "                   2                    2\n",
       "(2*a*c - a + b - c) *(2*d*e - d - e + f) "
      ]
     },
     "execution_count": 40,
     "metadata": {},
     "output_type": "execute_result"
    }
   ],
   "source": [
    "CL_rhs3"
   ]
  },
  {
   "cell_type": "code",
   "execution_count": 41,
   "metadata": {},
   "outputs": [],
   "source": [
    "CL_lhs3e = sympy.expand(CL_lhs3)"
   ]
  },
  {
   "cell_type": "code",
   "execution_count": 42,
   "metadata": {},
   "outputs": [],
   "source": [
    "CL_rhs3e = sympy.expand(CL_rhs3)"
   ]
  },
  {
   "cell_type": "code",
   "execution_count": 43,
   "metadata": {},
   "outputs": [
    {
     "data": {
      "image/png": "[encoded data removed]",
      "text/latex": [
       "$\\displaystyle 16 a^{2} c^{2} d^{2} e^{2} - 16 a^{2} c^{2} d^{2} e + 4 a^{2} c^{2} d^{2} - 16 a^{2} c^{2} d e^{2} + 16 a^{2} c^{2} d e f + 8 a^{2} c^{2} d e - 8 a^{2} c^{2} d f + 4 a^{2} c^{2} e^{2} - 8 a^{2} c^{2} e f + 4 a^{2} c^{2} f^{2} - 16 a^{2} c d^{2} e^{2} + 16 a^{2} c d^{2} e - 4 a^{2} c d^{2} + 16 a^{2} c d e^{2} - 16 a^{2} c d e f - 8 a^{2} c d e + 8 a^{2} c d f - 4 a^{2} c e^{2} + 8 a^{2} c e f - 4 a^{2} c f^{2} + 4 a^{2} d^{2} e^{2} - 4 a^{2} d^{2} e + a^{2} d^{2} - 4 a^{2} d e^{2} + 4 a^{2} d e f + 2 a^{2} d e - 2 a^{2} d f + a^{2} e^{2} - 2 a^{2} e f + a^{2} f^{2} + 16 a b c d^{2} e^{2} - 16 a b c d^{2} e + 4 a b c d^{2} - 16 a b c d e^{2} + 16 a b c d e f + 8 a b c d e - 8 a b c d f + 4 a b c e^{2} - 8 a b c e f + 4 a b c f^{2} - 8 a b d^{2} e^{2} + 8 a b d^{2} e - 2 a b d^{2} + 8 a b d e^{2} - 8 a b d e f - 4 a b d e + 4 a b d f - 2 a b e^{2} + 4 a b e f - 2 a b f^{2} - 16 a c^{2} d^{2} e^{2} + 16 a c^{2} d^{2} e - 4 a c^{2} d^{2} + 16 a c^{2} d e^{2} - 16 a c^{2} d e f - 8 a c^{2} d e + 8 a c^{2} d f - 4 a c^{2} e^{2} + 8 a c^{2} e f - 4 a c^{2} f^{2} + 8 a c d^{2} e^{2} - 8 a c d^{2} e + 2 a c d^{2} - 8 a c d e^{2} + 8 a c d e f + 4 a c d e - 4 a c d f + 2 a c e^{2} - 4 a c e f + 2 a c f^{2} + 4 b^{2} d^{2} e^{2} - 4 b^{2} d^{2} e + b^{2} d^{2} - 4 b^{2} d e^{2} + 4 b^{2} d e f + 2 b^{2} d e - 2 b^{2} d f + b^{2} e^{2} - 2 b^{2} e f + b^{2} f^{2} - 8 b c d^{2} e^{2} + 8 b c d^{2} e - 2 b c d^{2} + 8 b c d e^{2} - 8 b c d e f - 4 b c d e + 4 b c d f - 2 b c e^{2} + 4 b c e f - 2 b c f^{2} + 4 c^{2} d^{2} e^{2} - 4 c^{2} d^{2} e + c^{2} d^{2} - 4 c^{2} d e^{2} + 4 c^{2} d e f + 2 c^{2} d e - 2 c^{2} d f + c^{2} e^{2} - 2 c^{2} e f + c^{2} f^{2}$"
      ],
      "text/plain": [
       "    2  2  2  2       2  2  2        2  2  2       2  2    2       2  2            2  2          2  2          2  2  2      2  2          2  2  2       2    2  2       2    2        2    2       2      2       2              2            2            2    2      2            2    2      2  2  2      2  2      2  2      2    2      2            2          2        2  2      2        2  2             2  2             2              2               2                                                         2                          2          2  2          2            2            2                                                2                      2         2  2  2         2  2          2  2         2    2         2              2            2            2  2        2            2  2          2  2          2            2            2                                                2                      2      2  2  2      2  2      2  2      2    2      2            2          2        2  2      2        2  2          2  2          2            2            2                                                2                      2      2  2  2      2  2      2  2      2    2      2            2          2        2  2      2        2  2\n",
       "16*a *c *d *e  - 16*a *c *d *e + 4*a *c *d  - 16*a *c *d*e  + 16*a *c *d*e*f + 8*a *c *d*e - 8*a *c *d*f + 4*a *c *e  - 8*a *c *e*f + 4*a *c *f  - 16*a *c*d *e  + 16*a *c*d *e - 4*a *c*d  + 16*a *c*d*e  - 16*a *c*d*e*f - 8*a *c*d*e + 8*a *c*d*f - 4*a *c*e  + 8*a *c*e*f - 4*a *c*f  + 4*a *d *e  - 4*a *d *e + a *d  - 4*a *d*e  + 4*a *d*e*f + 2*a *d*e - 2*a *d*f + a *e  - 2*a *e*f + a *f  + 16*a*b*c*d *e  - 16*a*b*c*d *e + 4*a*b*c*d  - 16*a*b*c*d*e  + 16*a*b*c*d*e*f + 8*a*b*c*d*e - 8*a*b*c*d*f + 4*a*b*c*e  - 8*a*b*c*e*f + 4*a*b*c*f  - 8*a*b*d *e  + 8*a*b*d *e - 2*a*b*d  + 8*a*b*d*e  - 8*a*b*d*e*f - 4*a*b*d*e + 4*a*b*d*f - 2*a*b*e  + 4*a*b*e*f - 2*a*b*f  - 16*a*c *d *e  + 16*a*c *d *e - 4*a*c *d  + 16*a*c *d*e  - 16*a*c *d*e*f - 8*a*c *d*e + 8*a*c *d*f - 4*a*c *e  + 8*a*c *e*f - 4*a*c *f  + 8*a*c*d *e  - 8*a*c*d *e + 2*a*c*d  - 8*a*c*d*e  + 8*a*c*d*e*f + 4*a*c*d*e - 4*a*c*d*f + 2*a*c*e  - 4*a*c*e*f + 2*a*c*f  + 4*b *d *e  - 4*b *d *e + b *d  - 4*b *d*e  + 4*b *d*e*f + 2*b *d*e - 2*b *d*f + b *e  - 2*b *e*f + b *f  - 8*b*c*d *e  + 8*b*c*d *e - 2*b*c*d  + 8*b*c*d*e  - 8*b*c*d*e*f - 4*b*c*d*e + 4*b*c*d*f - 2*b*c*e  + 4*b*c*e*f - 2*b*c*f  + 4*c *d *e  - 4*c *d *e + c *d  - 4*c *d*e  + 4*c *d*e*f + 2*c *d*e - 2*c *d*f + c *e  - 2*c *e*f + c *f "
      ]
     },
     "execution_count": 43,
     "metadata": {},
     "output_type": "execute_result"
    }
   ],
   "source": [
    "CL_rhs3e"
   ]
  },
  {
   "cell_type": "code",
   "execution_count": 46,
   "metadata": {},
   "outputs": [
    {
     "data": {
      "image/png": "[encoded data removed]",
      "text/latex": [
       "$\\displaystyle 16 a^{2} c^{2} d^{2} e^{2} - 16 a^{2} c^{2} d^{2} e - 16 a^{2} c^{2} d e^{2} + 16 a^{2} c^{2} d e - 16 a^{2} c d^{2} e^{2} + 16 a^{2} c d^{2} e + 16 a^{2} c d e^{2} - 16 a^{2} c d e - 16 a c^{2} d^{2} e^{2} + 16 a c^{2} d^{2} e + 16 a c^{2} d e^{2} - 16 a c^{2} d e + 16 a c d^{2} e^{2} - 16 a c d^{2} e - 16 a c d e^{2} + 16 a c d e$"
      ],
      "text/plain": [
       "    2  2  2  2       2  2  2         2  2    2       2  2           2    2  2       2    2         2      2       2               2  2  2         2  2           2    2         2               2  2           2               2             \n",
       "16*a *c *d *e  - 16*a *c *d *e - 16*a *c *d*e  + 16*a *c *d*e - 16*a *c*d *e  + 16*a *c*d *e + 16*a *c*d*e  - 16*a *c*d*e - 16*a*c *d *e  + 16*a*c *d *e + 16*a*c *d*e  - 16*a*c *d*e + 16*a*c*d *e  - 16*a*c*d *e - 16*a*c*d*e  + 16*a*c*d*e"
      ]
     },
     "execution_count": 46,
     "metadata": {},
     "output_type": "execute_result"
    }
   ],
   "source": [
    "CL_lhs3e"
   ]
  },
  {
   "cell_type": "code",
   "execution_count": 47,
   "metadata": {},
   "outputs": [],
   "source": [
    "CL_tot3e = CL_lhs3e - CL_rhs3e"
   ]
  },
  {
   "cell_type": "code",
   "execution_count": 48,
   "metadata": {},
   "outputs": [
    {
     "data": {
      "image/png": "[encoded data removed]",
      "text/latex": [
       "$\\displaystyle - 4 a^{2} c^{2} d^{2} - 16 a^{2} c^{2} d e f + 8 a^{2} c^{2} d e + 8 a^{2} c^{2} d f - 4 a^{2} c^{2} e^{2} + 8 a^{2} c^{2} e f - 4 a^{2} c^{2} f^{2} + 4 a^{2} c d^{2} + 16 a^{2} c d e f - 8 a^{2} c d e - 8 a^{2} c d f + 4 a^{2} c e^{2} - 8 a^{2} c e f + 4 a^{2} c f^{2} - 4 a^{2} d^{2} e^{2} + 4 a^{2} d^{2} e - a^{2} d^{2} + 4 a^{2} d e^{2} - 4 a^{2} d e f - 2 a^{2} d e + 2 a^{2} d f - a^{2} e^{2} + 2 a^{2} e f - a^{2} f^{2} - 16 a b c d^{2} e^{2} + 16 a b c d^{2} e - 4 a b c d^{2} + 16 a b c d e^{2} - 16 a b c d e f - 8 a b c d e + 8 a b c d f - 4 a b c e^{2} + 8 a b c e f - 4 a b c f^{2} + 8 a b d^{2} e^{2} - 8 a b d^{2} e + 2 a b d^{2} - 8 a b d e^{2} + 8 a b d e f + 4 a b d e - 4 a b d f + 2 a b e^{2} - 4 a b e f + 2 a b f^{2} + 4 a c^{2} d^{2} + 16 a c^{2} d e f - 8 a c^{2} d e - 8 a c^{2} d f + 4 a c^{2} e^{2} - 8 a c^{2} e f + 4 a c^{2} f^{2} + 8 a c d^{2} e^{2} - 8 a c d^{2} e - 2 a c d^{2} - 8 a c d e^{2} - 8 a c d e f + 12 a c d e + 4 a c d f - 2 a c e^{2} + 4 a c e f - 2 a c f^{2} - 4 b^{2} d^{2} e^{2} + 4 b^{2} d^{2} e - b^{2} d^{2} + 4 b^{2} d e^{2} - 4 b^{2} d e f - 2 b^{2} d e + 2 b^{2} d f - b^{2} e^{2} + 2 b^{2} e f - b^{2} f^{2} + 8 b c d^{2} e^{2} - 8 b c d^{2} e + 2 b c d^{2} - 8 b c d e^{2} + 8 b c d e f + 4 b c d e - 4 b c d f + 2 b c e^{2} - 4 b c e f + 2 b c f^{2} - 4 c^{2} d^{2} e^{2} + 4 c^{2} d^{2} e - c^{2} d^{2} + 4 c^{2} d e^{2} - 4 c^{2} d e f - 2 c^{2} d e + 2 c^{2} d f - c^{2} e^{2} + 2 c^{2} e f - c^{2} f^{2}$"
      ],
      "text/plain": [
       "     2  2  2       2  2            2  2          2  2          2  2  2      2  2          2  2  2      2    2       2              2            2            2    2      2            2    2      2  2  2      2  2      2  2      2    2      2            2          2        2  2      2        2  2             2  2             2              2               2                                                         2                          2          2  2          2            2            2                                                2                      2        2  2         2              2            2            2  2        2            2  2          2  2          2            2            2                                                 2                      2      2  2  2      2  2      2  2      2    2      2            2          2        2  2      2        2  2          2  2          2            2            2                                                2                      2      2  2  2      2  2      2  2      2    2      2            2          2        2  2      2        2  2\n",
       "- 4*a *c *d  - 16*a *c *d*e*f + 8*a *c *d*e + 8*a *c *d*f - 4*a *c *e  + 8*a *c *e*f - 4*a *c *f  + 4*a *c*d  + 16*a *c*d*e*f - 8*a *c*d*e - 8*a *c*d*f + 4*a *c*e  - 8*a *c*e*f + 4*a *c*f  - 4*a *d *e  + 4*a *d *e - a *d  + 4*a *d*e  - 4*a *d*e*f - 2*a *d*e + 2*a *d*f - a *e  + 2*a *e*f - a *f  - 16*a*b*c*d *e  + 16*a*b*c*d *e - 4*a*b*c*d  + 16*a*b*c*d*e  - 16*a*b*c*d*e*f - 8*a*b*c*d*e + 8*a*b*c*d*f - 4*a*b*c*e  + 8*a*b*c*e*f - 4*a*b*c*f  + 8*a*b*d *e  - 8*a*b*d *e + 2*a*b*d  - 8*a*b*d*e  + 8*a*b*d*e*f + 4*a*b*d*e - 4*a*b*d*f + 2*a*b*e  - 4*a*b*e*f + 2*a*b*f  + 4*a*c *d  + 16*a*c *d*e*f - 8*a*c *d*e - 8*a*c *d*f + 4*a*c *e  - 8*a*c *e*f + 4*a*c *f  + 8*a*c*d *e  - 8*a*c*d *e - 2*a*c*d  - 8*a*c*d*e  - 8*a*c*d*e*f + 12*a*c*d*e + 4*a*c*d*f - 2*a*c*e  + 4*a*c*e*f - 2*a*c*f  - 4*b *d *e  + 4*b *d *e - b *d  + 4*b *d*e  - 4*b *d*e*f - 2*b *d*e + 2*b *d*f - b *e  + 2*b *e*f - b *f  + 8*b*c*d *e  - 8*b*c*d *e + 2*b*c*d  - 8*b*c*d*e  + 8*b*c*d*e*f + 4*b*c*d*e - 4*b*c*d*f + 2*b*c*e  - 4*b*c*e*f + 2*b*c*f  - 4*c *d *e  + 4*c *d *e - c *d  + 4*c *d*e  - 4*c *d*e*f - 2*c *d*e + 2*c *d*f - c *e  + 2*c *e*f - c *f "
      ]
     },
     "execution_count": 48,
     "metadata": {},
     "output_type": "execute_result"
    }
   ],
   "source": [
    "CL_tot3e"
   ]
  },
  {
   "cell_type": "code",
   "execution_count": 49,
   "metadata": {},
   "outputs": [],
   "source": [
    "CL_tot3ef = sympy.factor(CL_tot3e)"
   ]
  },
  {
   "cell_type": "code",
   "execution_count": 50,
   "metadata": {},
   "outputs": [
    {
     "data": {
      "image/png": "[encoded data removed]",
      "text/latex": [
       "$\\displaystyle - 4 a^{2} c^{2} d^{2} - 16 a^{2} c^{2} d e f + 8 a^{2} c^{2} d e + 8 a^{2} c^{2} d f - 4 a^{2} c^{2} e^{2} + 8 a^{2} c^{2} e f - 4 a^{2} c^{2} f^{2} + 4 a^{2} c d^{2} + 16 a^{2} c d e f - 8 a^{2} c d e - 8 a^{2} c d f + 4 a^{2} c e^{2} - 8 a^{2} c e f + 4 a^{2} c f^{2} - 4 a^{2} d^{2} e^{2} + 4 a^{2} d^{2} e - a^{2} d^{2} + 4 a^{2} d e^{2} - 4 a^{2} d e f - 2 a^{2} d e + 2 a^{2} d f - a^{2} e^{2} + 2 a^{2} e f - a^{2} f^{2} - 16 a b c d^{2} e^{2} + 16 a b c d^{2} e - 4 a b c d^{2} + 16 a b c d e^{2} - 16 a b c d e f - 8 a b c d e + 8 a b c d f - 4 a b c e^{2} + 8 a b c e f - 4 a b c f^{2} + 8 a b d^{2} e^{2} - 8 a b d^{2} e + 2 a b d^{2} - 8 a b d e^{2} + 8 a b d e f + 4 a b d e - 4 a b d f + 2 a b e^{2} - 4 a b e f + 2 a b f^{2} + 4 a c^{2} d^{2} + 16 a c^{2} d e f - 8 a c^{2} d e - 8 a c^{2} d f + 4 a c^{2} e^{2} - 8 a c^{2} e f + 4 a c^{2} f^{2} + 8 a c d^{2} e^{2} - 8 a c d^{2} e - 2 a c d^{2} - 8 a c d e^{2} - 8 a c d e f + 12 a c d e + 4 a c d f - 2 a c e^{2} + 4 a c e f - 2 a c f^{2} - 4 b^{2} d^{2} e^{2} + 4 b^{2} d^{2} e - b^{2} d^{2} + 4 b^{2} d e^{2} - 4 b^{2} d e f - 2 b^{2} d e + 2 b^{2} d f - b^{2} e^{2} + 2 b^{2} e f - b^{2} f^{2} + 8 b c d^{2} e^{2} - 8 b c d^{2} e + 2 b c d^{2} - 8 b c d e^{2} + 8 b c d e f + 4 b c d e - 4 b c d f + 2 b c e^{2} - 4 b c e f + 2 b c f^{2} - 4 c^{2} d^{2} e^{2} + 4 c^{2} d^{2} e - c^{2} d^{2} + 4 c^{2} d e^{2} - 4 c^{2} d e f - 2 c^{2} d e + 2 c^{2} d f - c^{2} e^{2} + 2 c^{2} e f - c^{2} f^{2}$"
      ],
      "text/plain": [
       "     2  2  2       2  2            2  2          2  2          2  2  2      2  2          2  2  2      2    2       2              2            2            2    2      2            2    2      2  2  2      2  2      2  2      2    2      2            2          2        2  2      2        2  2             2  2             2              2               2                                                         2                          2          2  2          2            2            2                                                2                      2        2  2         2              2            2            2  2        2            2  2          2  2          2            2            2                                                 2                      2      2  2  2      2  2      2  2      2    2      2            2          2        2  2      2        2  2          2  2          2            2            2                                                2                      2      2  2  2      2  2      2  2      2    2      2            2          2        2  2      2        2  2\n",
       "- 4*a *c *d  - 16*a *c *d*e*f + 8*a *c *d*e + 8*a *c *d*f - 4*a *c *e  + 8*a *c *e*f - 4*a *c *f  + 4*a *c*d  + 16*a *c*d*e*f - 8*a *c*d*e - 8*a *c*d*f + 4*a *c*e  - 8*a *c*e*f + 4*a *c*f  - 4*a *d *e  + 4*a *d *e - a *d  + 4*a *d*e  - 4*a *d*e*f - 2*a *d*e + 2*a *d*f - a *e  + 2*a *e*f - a *f  - 16*a*b*c*d *e  + 16*a*b*c*d *e - 4*a*b*c*d  + 16*a*b*c*d*e  - 16*a*b*c*d*e*f - 8*a*b*c*d*e + 8*a*b*c*d*f - 4*a*b*c*e  + 8*a*b*c*e*f - 4*a*b*c*f  + 8*a*b*d *e  - 8*a*b*d *e + 2*a*b*d  - 8*a*b*d*e  + 8*a*b*d*e*f + 4*a*b*d*e - 4*a*b*d*f + 2*a*b*e  - 4*a*b*e*f + 2*a*b*f  + 4*a*c *d  + 16*a*c *d*e*f - 8*a*c *d*e - 8*a*c *d*f + 4*a*c *e  - 8*a*c *e*f + 4*a*c *f  + 8*a*c*d *e  - 8*a*c*d *e - 2*a*c*d  - 8*a*c*d*e  - 8*a*c*d*e*f + 12*a*c*d*e + 4*a*c*d*f - 2*a*c*e  + 4*a*c*e*f - 2*a*c*f  - 4*b *d *e  + 4*b *d *e - b *d  + 4*b *d*e  - 4*b *d*e*f - 2*b *d*e + 2*b *d*f - b *e  + 2*b *e*f - b *f  + 8*b*c*d *e  - 8*b*c*d *e + 2*b*c*d  - 8*b*c*d*e  + 8*b*c*d*e*f + 4*b*c*d*e - 4*b*c*d*f + 2*b*c*e  - 4*b*c*e*f + 2*b*c*f  - 4*c *d *e  + 4*c *d *e - c *d  + 4*c *d*e  - 4*c *d*e*f - 2*c *d*e + 2*c *d*f - c *e  + 2*c *e*f - c *f "
      ]
     },
     "execution_count": 50,
     "metadata": {},
     "output_type": "execute_result"
    }
   ],
   "source": [
    "CL_tot3ef"
   ]
  },
  {
   "cell_type": "code",
   "execution_count": null,
   "metadata": {},
   "outputs": [],
   "source": []
  }
 ],
 "metadata": {
  "kernelspec": {
   "display_name": "Python 3",
   "language": "python",
   "name": "python3"
  },
  "language_info": {
   "codemirror_mode": {
    "name": "ipython",
    "version": 3
   },
   "file_extension": ".py",
   "mimetype": "text/x-python",
   "name": "python",
   "nbconvert_exporter": "python",
   "pygments_lexer": "ipython3",
   "version": "3.6.7"
  }
 },
 "nbformat": 4,
 "nbformat_minor": 4
}
