{
 "cells": [
  {
   "cell_type": "code",
   "execution_count": 1,
   "metadata": {
    "collapsed": false
   },
   "outputs": [
    {
     "data": {
      "text/html": [
       "<div id=\"scene0\"><div id=\"glowscript\" class=\"glowscript\"></div></div>"
      ],
      "text/plain": [
       "<IPython.core.display.HTML object>"
      ]
     },
     "metadata": {},
     "output_type": "display_data"
    },
    {
     "data": {
      "application/javascript": [
       "require.undef(\"nbextensions/glow.1.0.min\");"
      ],
      "text/plain": [
       "<IPython.core.display.Javascript object>"
      ]
     },
     "metadata": {},
     "output_type": "display_data"
    },
    {
     "data": {
      "application/javascript": [
       "require.undef(\"nbextensions/jquery-ui.custom.min\");"
      ],
      "text/plain": [
       "<IPython.core.display.Javascript object>"
      ]
     },
     "metadata": {},
     "output_type": "display_data"
    },
    {
     "data": {
      "application/javascript": [
       "require.undef(\"nbextensions/glow.1.1.min\");"
      ],
      "text/plain": [
       "<IPython.core.display.Javascript object>"
      ]
     },
     "metadata": {},
     "output_type": "display_data"
    },
    {
     "data": {
      "application/javascript": [
       "require.undef(\"nbextensions/glow.1.2.min\");"
      ],
      "text/plain": [
       "<IPython.core.display.Javascript object>"
      ]
     },
     "metadata": {},
     "output_type": "display_data"
    },
    {
     "data": {
      "application/javascript": [
       "require.undef(\"nbextensions/glow.2.0.min\");"
      ],
      "text/plain": [
       "<IPython.core.display.Javascript object>"
      ]
     },
     "metadata": {},
     "output_type": "display_data"
    },
    {
     "data": {
      "application/javascript": [
       "require.undef(\"nbextensions/glowcomm\");"
      ],
      "text/plain": [
       "<IPython.core.display.Javascript object>"
      ]
     },
     "metadata": {},
     "output_type": "display_data"
    },
    {
     "data": {
      "application/javascript": [
       "require([\"nbextensions/glowcomm\"], function(){console.log(\"glowcomm loaded\");})"
      ],
      "text/plain": [
       "<IPython.core.display.Javascript object>"
      ]
     },
     "metadata": {},
     "output_type": "display_data"
    },
    {
     "data": {
      "text/html": [
       "<div id=\"scene0\"><div id=\"glowscript\" class=\"glowscript\"></div></div>"
      ],
      "text/plain": [
       "<IPython.core.display.HTML object>"
      ]
     },
     "metadata": {},
     "output_type": "display_data"
    },
    {
     "data": {
      "application/javascript": [
       "window.__context = { glowscript_container: $(\"#glowscript\").removeAttr(\"id\")}"
      ],
      "text/plain": [
       "<IPython.core.display.Javascript object>"
      ]
     },
     "metadata": {},
     "output_type": "display_data"
    },
    {
     "data": {
      "text/html": [
       "<div id=\"scene1\"><div id=\"glowscript\" class=\"glowscript\"></div></div>"
      ],
      "text/plain": [
       "<IPython.core.display.HTML object>"
      ]
     },
     "metadata": {},
     "output_type": "display_data"
    },
    {
     "data": {
      "application/javascript": [
       "window.__context = { glowscript_container: $(\"#glowscript\").removeAttr(\"id\")}"
      ],
      "text/plain": [
       "<IPython.core.display.Javascript object>"
      ]
     },
     "metadata": {},
     "output_type": "display_data"
    }
   ],
   "source": [
    "from vpython import *\n",
    "from numpy import arange\n",
    "\n",
    "\n",
    "def makedee2(r, y, gapdist, flip):\n",
    "    cr = 0.0002\n",
    "#    dcolor=(0.4,0.4,0.4)\n",
    "    dcolor=color.gray(0.4)\n",
    "#    dcolor = vector(0.4, 0.4, 0.4)\n",
    "    dtop = curve(color=dcolor, radius=cr)\n",
    "    dbot = curve(color=dcolor, radius=cr)\n",
    "    phi = 0\n",
    "    dphi = pi/20\n",
    "    while phi < pi+dphi:\n",
    "        rate(10)\n",
    "        x = flip * (r * sin(phi) + gapdist/2)\n",
    "        z = r*cos(phi)\n",
    "        pos1 = vector(x,y,z)\n",
    "        pos2 = vector(x,-y,z)\n",
    "        dtop.append(pos=pos1)\n",
    "        dbot.append(pos=pos2)\n",
    "        a = curve(color=dcolor, radius=cr)\n",
    "        a.append(pos=pos1)\n",
    "        a.append(pos=pos2)\n",
    "#        curve(pos=[dtop.pos[-1], dbot.pos[-1]], color=dcolor, radius=cr)\n",
    "        phi += dphi\n",
    "#    curve(color=dcolor, pos=[dtop.pos[0],dtop.pos[-1], dbot.pos[-1], dbot.pos[0]], radius=cr)\n",
    "    b = curve(color=dcolor, radius=cr)\n",
    "    b.append(pos=vector(flip*gapdist/2,y,r))\n",
    "    b.append(pos=vector(flip*gapdist/2,y,-r))\n",
    "    b.append(pos=vector(flip*gapdist/2,-y,-r))\n",
    "    b.append(pos=vector(flip*gapdist/2,-y,r))\n",
    "    \n",
    "scene = canvas(title = \"cyclotron2\")\n",
    "# cyclotron display\n",
    "scene.title = \"cyclotron\"\n",
    "scene.width = 800\n",
    "scene.height = 450\n",
    "#scene.background = (0.9,0.9,0.9)\n",
    "scene.background = color.white\n",
    "\n",
    "radius = .05\n",
    "gap = .005     # gap between dees is 0.5cm\n",
    "\n",
    "# draw cyclotron dees\n",
    "makedee2 (radius, .010, gap, -1)\n",
    "makedee2 (radius, .010, gap, 1)\n",
    "\n",
    "\n",
    "\n",
    "# show magnetic field\n",
    "rr = arange(-0.6*radius, 0.65*radius, 0.4*radius)\n",
    "for x in rr:\n",
    "    for z in rr:\n",
    "        arrow(pos=vector(x,0,z), color=color.cyan, axis=vector(0,0.01,0))\n",
    "\n",
    "# create graph window\n",
    "eg = graph(title='kinetic energy (eV)',height=250, width=800)\n",
    "kinetic = gcurve(color=color.red)\n",
    "\n",
    "# E is zero inside the dees, even though E in the \n",
    "# gap is nonzero and oscillates sinusoidally.\n",
    "# One way to deal with this is to initialize E as a vector with\n",
    "# the appropriate magnitude and direction, then multiply by\n",
    "# cos(omega*t), but set the electric force on the proton\n",
    "# to zero if its x coordinate is not inside the gap.\n",
    "\n",
    "deltaV = 5000.\n",
    "E0 = vector(deltaV/gap,0,0)\n",
    "e = 1.6e-19\n",
    "t = 0.0\n",
    "dt = 1e-11\n",
    "proton = sphere(pos=vector(0,0,0), radius=0.0001*8, color=color.red, q=e,\n",
    "                p=vector(0,0,0), m=1.7e-27, make_trail = True)\n",
    "#proton.trail = curve(color=proton.color)\n",
    "B = vector(0,1.0,0)\n",
    "omega = (proton.q/proton.m)*mag(B)\n",
    "\n",
    "Escale = 0.015/mag(E0)\n",
    "Evis = 1\n",
    "Earrlist = []\n",
    "for z in arange(-0.8*radius, radius, radius/3.):\n",
    "    Earrlist.append(arrow(pos=vector(0,0,z), axis=E0*Escale, color=color.orange, visible = Evis))\n",
    "    "
   ]
  },
  {
   "cell_type": "code",
   "execution_count": 2,
   "metadata": {
    "collapsed": false
   },
   "outputs": [
    {
     "name": "stdout",
     "output_type": "stream",
     "text": [
      "t= 6.97989999999e-07\n",
      "K= 1.62245233501e-14 joules\n",
      "K= 101403.270938 eV\n"
     ]
    }
   ],
   "source": [
    "proton = sphere(pos=vector(0,0,0), radius=0.0001*8, color=color.red, q=e,\n",
    "                p=vector(0,0,0), m=1.7e-27, make_trail = True)\n",
    "\n",
    "while mag(proton.pos) < radius:\n",
    "    rate(1000)\n",
    "    E = E0*cos(omega*t)\n",
    "    for Earr in Earrlist:\n",
    "        Earr.axis = E*Escale\n",
    "    if -gap/2. < proton.pos.x < gap/2.:\n",
    "        Fe = proton.q*E\n",
    "    else:\n",
    "        Fe = vector(0,0,0)   ## E is zero inside the dees\n",
    "    F = Fe + proton.q*cross((proton.p/proton.m),B)\n",
    "    proton.p = proton.p + F*dt\n",
    "    proton.pos = proton.pos + (proton.p/proton.m)*dt\n",
    "##    proton.trail.append(pos=proton.pos)\n",
    "    t = t+dt\n",
    "    K = mag(proton.p)**2/(2.0*proton.m)\n",
    "    kinetic.plot(t,K)\n",
    "\n",
    "print( 't=',t )\n",
    "print( 'K=',K, 'joules' )\n",
    "print( 'K=',(K/e),'eV' )"
   ]
  },
  {
   "cell_type": "code",
   "execution_count": null,
   "metadata": {
    "collapsed": true
   },
   "outputs": [],
   "source": []
  }
 ],
 "metadata": {
  "kernelspec": {
   "display_name": "VPython",
   "language": "python",
   "name": "vpython"
  },
  "language_info": {
   "codemirror_mode": {
    "name": "ipython",
    "version": 2
   },
   "file_extension": ".py",
   "mimetype": "text/x-python",
   "name": "python",
   "nbconvert_exporter": "python",
   "pygments_lexer": "ipython2",
   "version": "2.7.8"
  }
 },
 "nbformat": 4,
 "nbformat_minor": 0
}
