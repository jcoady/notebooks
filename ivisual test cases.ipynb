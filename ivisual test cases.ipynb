{
 "cells": [
  {
   "cell_type": "code",
   "execution_count": 1,
   "metadata": {
    "collapsed": false
   },
   "outputs": [
    {
     "data": {
      "application/javascript": [
       "IPython.notebook.set_autosave_interval(1000000000)"
      ]
     },
     "metadata": {},
     "output_type": "display_data"
    },
    {
     "name": "stdout",
     "output_type": "stream",
     "text": [
      "Autosaving every 1000000 seconds\n"
     ]
    }
   ],
   "source": [
    "%autosave 1000000"
   ]
  },
  {
   "cell_type": "code",
   "execution_count": 2,
   "metadata": {
    "collapsed": false
   },
   "outputs": [
    {
     "data": {
      "text/html": [
       "<div id=\"scene0\"><div id=\"glowscript\" class=\"glowscript\"></div></div>"
      ],
      "text/plain": [
       "<IPython.core.display.HTML object>"
      ]
     },
     "metadata": {},
     "output_type": "display_data"
    },
    {
     "data": {
      "application/javascript": [
       "require.undef(\"nbextensions/glow.1.0.min\");"
      ],
      "text/plain": [
       "<IPython.core.display.Javascript object>"
      ]
     },
     "metadata": {},
     "output_type": "display_data"
    },
    {
     "data": {
      "application/javascript": [
       "require.undef(\"nbextensions/jquery-ui.custom.min\");"
      ],
      "text/plain": [
       "<IPython.core.display.Javascript object>"
      ]
     },
     "metadata": {},
     "output_type": "display_data"
    },
    {
     "data": {
      "application/javascript": [
       "require.undef(\"nbextensions/glow.1.1.min\");"
      ],
      "text/plain": [
       "<IPython.core.display.Javascript object>"
      ]
     },
     "metadata": {},
     "output_type": "display_data"
    },
    {
     "data": {
      "application/javascript": [
       "require.undef(\"nbextensions/glow.1.2.min\");"
      ],
      "text/plain": [
       "<IPython.core.display.Javascript object>"
      ]
     },
     "metadata": {},
     "output_type": "display_data"
    },
    {
     "data": {
      "application/javascript": [
       "require.undef(\"nbextensions/glow.2.0.min\");"
      ],
      "text/plain": [
       "<IPython.core.display.Javascript object>"
      ]
     },
     "metadata": {},
     "output_type": "display_data"
    },
    {
     "data": {
      "application/javascript": [
       "require.undef(\"nbextensions/glowcomm\");"
      ],
      "text/plain": [
       "<IPython.core.display.Javascript object>"
      ]
     },
     "metadata": {},
     "output_type": "display_data"
    },
    {
     "data": {
      "application/javascript": [
       "require.undef(\"nbextensions/ivglowcomm\");"
      ],
      "text/plain": [
       "<IPython.core.display.Javascript object>"
      ]
     },
     "metadata": {},
     "output_type": "display_data"
    },
    {
     "data": {
      "application/javascript": [
       "require([\"nbextensions/ivglowcomm\"], function(){console.log(\"ivisual glowcomm loaded\");})"
      ],
      "text/plain": [
       "<IPython.core.display.Javascript object>"
      ]
     },
     "metadata": {},
     "output_type": "display_data"
    }
   ],
   "source": [
    "from __future__ import division, print_function\n",
    "from ivisual import *\n",
    "from IPython.display import IFrame"
   ]
  },
  {
   "cell_type": "code",
   "execution_count": 3,
   "metadata": {
    "collapsed": false
   },
   "outputs": [
    {
     "data": {
      "text/html": [
       "<div id=\"scene0\"><div id=\"glowscript\" class=\"glowscript\"></div></div>"
      ],
      "text/plain": [
       "<IPython.core.display.HTML object>"
      ]
     },
     "metadata": {},
     "output_type": "display_data"
    },
    {
     "data": {
      "application/javascript": [
       "window.__context = { glowscript_container: $(\"#glowscript\").removeAttr(\"id\")}"
      ],
      "text/plain": [
       "<IPython.core.display.Javascript object>"
      ]
     },
     "metadata": {},
     "output_type": "display_data"
    },
    {
     "name": "stdout",
     "output_type": "stream",
     "text": [
      "\n",
      "Right button drag to rotate \"camera\" to view scene.\n",
      "  On a one-button mouse, right is Command + mouse.\n",
      "Middle button to drag up or down to zoom in or out.\n",
      "  On a two-button mouse, middle is left + right.\n",
      "  On a one-button mouse, middle is Option + mouse.\n",
      "\n",
      "<10.000000, 0.000000, 0.000000> <1.000000, 0.000000, 0.000000>\n"
     ]
    }
   ],
   "source": [
    "scene = canvas(title='Test 1: Arrow')\n",
    "scene.range = 8.0\n",
    "print(\"\"\"\n",
    "Right button drag to rotate \"camera\" to view scene.\n",
    "  On a one-button mouse, right is Command + mouse.\n",
    "Middle button to drag up or down to zoom in or out.\n",
    "  On a two-button mouse, middle is left + right.\n",
    "  On a one-button mouse, middle is Option + mouse.\n",
    "\"\"\")\n",
    "\n",
    "myarrow=arrow(pos=(0,0,0), axis=(1,0,0))\n",
    "myarrow2=arrow(pos=(0,-2,0), axis=(1,0,0), color=color.yellow)\n",
    "\n",
    "myarrow.axis=vector(0,0,0)\n",
    "myarrow.axis=vector(10,0,0)\n",
    "myarrow2.axis=vector(0,0,0)\n",
    "myarrow2.axis=vector(1,0,0)\n",
    "\n",
    "print(myarrow.axis,myarrow2.axis)\n"
   ]
  },
  {
   "cell_type": "code",
   "execution_count": 4,
   "metadata": {
    "collapsed": false,
    "scrolled": false
   },
   "outputs": [
    {
     "data": {
      "text/html": [
       "\n",
       "        <iframe\n",
       "            width=\"100%\"\n",
       "            height=\"600\"\n",
       "            src=\"http://www.glowscript.org/#/user/johncoady/folder/UnitTests/program/Test1\"\n",
       "            frameborder=\"0\"\n",
       "            allowfullscreen\n",
       "        ></iframe>\n",
       "        "
      ],
      "text/plain": [
       "<IPython.lib.display.IFrame at 0x445a518>"
      ]
     },
     "execution_count": 4,
     "metadata": {},
     "output_type": "execute_result"
    }
   ],
   "source": [
    "IFrame(src=\"http://www.glowscript.org/#/user/johncoady/folder/UnitTests/program/Test1\",width=\"100%\",height=600)"
   ]
  },
  {
   "cell_type": "code",
   "execution_count": 5,
   "metadata": {
    "collapsed": false
   },
   "outputs": [
    {
     "data": {
      "text/html": [
       "<div id=\"scene1\"><div id=\"glowscript\" class=\"glowscript\"></div></div>"
      ],
      "text/plain": [
       "<IPython.core.display.HTML object>"
      ]
     },
     "metadata": {},
     "output_type": "display_data"
    },
    {
     "data": {
      "application/javascript": [
       "window.__context = { glowscript_container: $(\"#glowscript\").removeAttr(\"id\")}"
      ],
      "text/plain": [
       "<IPython.core.display.Javascript object>"
      ]
     },
     "metadata": {},
     "output_type": "display_data"
    }
   ],
   "source": [
    "scene2 = canvas(title='Test 2: Arrow')\n",
    "scene2.range = 8.0\n",
    "myarrow=arrow(pos=(0,0,0), axis=(1,0,0), shaftwidth = 0.1, headwidth = 0.2, headlength = 0.3)\n",
    "myarrow2=arrow(pos=(0,-2,0), axis=(1,0,0), color=color.yellow)\n",
    "\n",
    "myarrow.axis=vector(0,0,0)\n",
    "myarrow.axis=vector(10,0,0)\n",
    "myarrow2.axis=vector(0,0,0)\n",
    "myarrow2.axis=vector(1,0,0)\n"
   ]
  },
  {
   "cell_type": "code",
   "execution_count": 6,
   "metadata": {
    "collapsed": false
   },
   "outputs": [
    {
     "data": {
      "text/html": [
       "\n",
       "        <iframe\n",
       "            width=\"100%\"\n",
       "            height=\"600\"\n",
       "            src=\"http://www.glowscript.org/#/user/johncoady/folder/UnitTests/program/Test2\"\n",
       "            frameborder=\"0\"\n",
       "            allowfullscreen\n",
       "        ></iframe>\n",
       "        "
      ],
      "text/plain": [
       "<IPython.lib.display.IFrame at 0x445a0b8>"
      ]
     },
     "execution_count": 6,
     "metadata": {},
     "output_type": "execute_result"
    }
   ],
   "source": [
    "IFrame(src=\"http://www.glowscript.org/#/user/johncoady/folder/UnitTests/program/Test2\",width=\"100%\",height=600)"
   ]
  },
  {
   "cell_type": "code",
   "execution_count": 7,
   "metadata": {
    "collapsed": false
   },
   "outputs": [
    {
     "data": {
      "text/html": [
       "<div id=\"scene2\"><div id=\"glowscript\" class=\"glowscript\"></div></div>"
      ],
      "text/plain": [
       "<IPython.core.display.HTML object>"
      ]
     },
     "metadata": {},
     "output_type": "display_data"
    },
    {
     "data": {
      "application/javascript": [
       "window.__context = { glowscript_container: $(\"#glowscript\").removeAttr(\"id\")}"
      ],
      "text/plain": [
       "<IPython.core.display.Javascript object>"
      ]
     },
     "metadata": {},
     "output_type": "display_data"
    },
    {
     "name": "stdout",
     "output_type": "stream",
     "text": [
      "<10.000000, 0.000000, 0.000000> <1.000000, 0.000000, 0.000000>\n"
     ]
    }
   ],
   "source": [
    "scene3 = canvas(title='Test 3: Cylinder')\n",
    "cyl=cylinder(pos=(0,0,0), axis=(1,0,0))\n",
    "cyl2=cylinder(pos=(0,-2,0), axis=(1,0,0), color=color.yellow)\n",
    "sphere(pos=(-1,0,0), color=color.red)\n",
    "cyl.axis=vector(0,0,0)\n",
    "cyl.axis=vector(10,0,0)\n",
    "cyl2.axis=vector(0,0,0)\n",
    "cyl2.axis=vector(1,0,0)\n",
    "\n",
    "print(cyl.axis,cyl2.axis)"
   ]
  },
  {
   "cell_type": "code",
   "execution_count": 8,
   "metadata": {
    "collapsed": false
   },
   "outputs": [
    {
     "data": {
      "text/html": [
       "<div id=\"scene3\"><div id=\"glowscript\" class=\"glowscript\"></div></div>"
      ],
      "text/plain": [
       "<IPython.core.display.HTML object>"
      ]
     },
     "metadata": {},
     "output_type": "display_data"
    },
    {
     "data": {
      "application/javascript": [
       "window.__context = { glowscript_container: $(\"#glowscript\").removeAttr(\"id\")}"
      ],
      "text/plain": [
       "<IPython.core.display.Javascript object>"
      ]
     },
     "metadata": {},
     "output_type": "display_data"
    },
    {
     "name": "stdout",
     "output_type": "stream",
     "text": [
      "<10.000000, 0.000000, 0.000000> <5.000000, 0.000000, 0.000000>\n"
     ]
    }
   ],
   "source": [
    "scene4 = canvas(title='Test 4: Cylinder')\n",
    "cyl=cylinder(pos=(0,0,0), axis=(1,0,0))\n",
    "cyl2=cylinder(pos=(0,-2,0), axis=(1,0,0), color=color.yellow)\n",
    "sphere(pos=(-1,0,0), color=color.red)\n",
    "\n",
    "cyl.length = 10\n",
    "cyl2.axis=myarrow.axis/2.\n",
    "\n",
    "print(cyl.axis,cyl2.axis)"
   ]
  },
  {
   "cell_type": "code",
   "execution_count": 9,
   "metadata": {
    "collapsed": false
   },
   "outputs": [
    {
     "data": {
      "text/html": [
       "<div id=\"scene4\"><div id=\"glowscript\" class=\"glowscript\"></div></div>"
      ],
      "text/plain": [
       "<IPython.core.display.HTML object>"
      ]
     },
     "metadata": {},
     "output_type": "display_data"
    },
    {
     "data": {
      "application/javascript": [
       "window.__context = { glowscript_container: $(\"#glowscript\").removeAttr(\"id\")}"
      ],
      "text/plain": [
       "<IPython.core.display.Javascript object>"
      ]
     },
     "metadata": {},
     "output_type": "display_data"
    },
    {
     "name": "stdout",
     "output_type": "stream",
     "text": [
      "<10.000000, 0.000000, 0.000000> <5.000000, 0.000000, 0.000000> <5.000000, 1.000000, 1.000000> 5.0\n"
     ]
    }
   ],
   "source": [
    "scene5 = canvas(title='Test 5: Box')\n",
    "b=box(pos=(0,0,0), axis=(10,0,0))\n",
    "b2=box(pos=(0,-2,0), axis=(1,0,0), color=color.yellow)\n",
    "b3=box(pos=(0,2,0), axis=(1,0,0), color=color.cyan)\n",
    "sphere(pos=(0,0,0), color=color.red)\n",
    "\n",
    "b2.axis=b.axis/2.\n",
    "b3.size = b2.size\n",
    "\n",
    "print(b.axis,b2.axis,b2.size,b2.length)"
   ]
  },
  {
   "cell_type": "code",
   "execution_count": 10,
   "metadata": {
    "collapsed": false
   },
   "outputs": [
    {
     "data": {
      "text/html": [
       "<div id=\"scene5\"><div id=\"glowscript\" class=\"glowscript\"></div></div>"
      ],
      "text/plain": [
       "<IPython.core.display.HTML object>"
      ]
     },
     "metadata": {},
     "output_type": "display_data"
    },
    {
     "data": {
      "application/javascript": [
       "window.__context = { glowscript_container: $(\"#glowscript\").removeAttr(\"id\")}"
      ],
      "text/plain": [
       "<IPython.core.display.Javascript object>"
      ]
     },
     "metadata": {},
     "output_type": "display_data"
    },
    {
     "name": "stdout",
     "output_type": "stream",
     "text": [
      "<10.000000, 0.000000, 0.000000> <5.000000, 0.000000, 0.000000> <5.000000, 1.000000, 1.000000> 5.0\n"
     ]
    }
   ],
   "source": [
    "scene5a = canvas(title='Test 5a: Box')\n",
    "b=box(pos=(0,0,0), length = 10)\n",
    "b2=box(pos=(0,-2,0), axis=(1,0,0), color=color.yellow)\n",
    "b3=box(pos=(0,2,0), axis=(1,0,0), color=color.cyan)\n",
    "sphere(pos=(0,0,0), color=color.red)\n",
    "\n",
    "b2.axis=b.axis/2.\n",
    "b3.size = b2.size\n",
    "\n",
    "print(b.axis,b2.axis,b2.size,b2.length)"
   ]
  },
  {
   "cell_type": "code",
   "execution_count": 11,
   "metadata": {
    "collapsed": false
   },
   "outputs": [
    {
     "data": {
      "text/html": [
       "<div id=\"scene6\"><div id=\"glowscript\" class=\"glowscript\"></div></div>"
      ],
      "text/plain": [
       "<IPython.core.display.HTML object>"
      ]
     },
     "metadata": {},
     "output_type": "display_data"
    },
    {
     "data": {
      "application/javascript": [
       "window.__context = { glowscript_container: $(\"#glowscript\").removeAttr(\"id\")}"
      ],
      "text/plain": [
       "<IPython.core.display.Javascript object>"
      ]
     },
     "metadata": {},
     "output_type": "display_data"
    },
    {
     "name": "stdout",
     "output_type": "stream",
     "text": [
      "<5.000000, 0.000000, 0.000000> <10.000000, 0.000000, 0.000000> <10.000000, 1.000000, 1.000000> 10.0 <type 'numpy.ndarray'> [10  0  0] True <class 'ivisual.visual.vector'> <10.000000, 0.000000, 0.000000> <10.000000, 0.000000, 0.000000>\n"
     ]
    }
   ],
   "source": [
    "scene5b = canvas(title='Test 5b: Box')\n",
    "b=box(pos=(0,0,0), axis=(10,0,0))\n",
    "b2=box(pos=(0,-2,0), axis=(1,0,0), color=color.yellow)\n",
    "b3=box(pos=(0,2,0), axis=(1,0,0), color=color.cyan)\n",
    "sphere(pos=(0,0,0), color=color.red)\n",
    "\n",
    "b.axis = (5, 0, 0)\n",
    "b2.axis= [10, 0, 0]\n",
    "v = np.array([10, 0, 0])\n",
    "b3.axis = v\n",
    "val = vector(v) if type(v) in [tuple, list, np.ndarray] else v\n",
    "print(b.axis,b2.axis,b2.size,b2.length,type(v),v, type(v) in [np.ndarray], type(val), val, b3.axis)"
   ]
  },
  {
   "cell_type": "code",
   "execution_count": 12,
   "metadata": {
    "collapsed": false
   },
   "outputs": [
    {
     "data": {
      "text/html": [
       "<div id=\"scene7\"><div id=\"glowscript\" class=\"glowscript\"></div></div>"
      ],
      "text/plain": [
       "<IPython.core.display.HTML object>"
      ]
     },
     "metadata": {},
     "output_type": "display_data"
    },
    {
     "data": {
      "application/javascript": [
       "window.__context = { glowscript_container: $(\"#glowscript\").removeAttr(\"id\")}"
      ],
      "text/plain": [
       "<IPython.core.display.Javascript object>"
      ]
     },
     "metadata": {},
     "output_type": "display_data"
    },
    {
     "name": "stdout",
     "output_type": "stream",
     "text": [
      "<5.000000, 0.000000, 0.000000> <2.500000, 0.000000, 0.000000> <2.500000, 2.000000, 2.000000> 2.5\n"
     ]
    }
   ],
   "source": [
    "scene6 = canvas(title='Test 6: Cone')\n",
    "b=cone(pos=(0,0,0), axis=(5,0,0))\n",
    "b2=cone(pos=(0,-2,0), axis=(1,0,0), color=color.yellow)\n",
    "b3=cone(pos=(0,2,0), axis=(1,0,0), color=color.cyan)\n",
    "sphere(pos=(-1,0,0), color=color.red)\n",
    "\n",
    "b2.axis=b.axis/2.\n",
    "b3.length = b2.length\n",
    "\n",
    "print(b.axis,b2.axis,b2.size,b2.length)"
   ]
  },
  {
   "cell_type": "code",
   "execution_count": 13,
   "metadata": {
    "collapsed": false
   },
   "outputs": [
    {
     "data": {
      "text/html": [
       "<div id=\"scene8\"><div id=\"glowscript\" class=\"glowscript\"></div></div>"
      ],
      "text/plain": [
       "<IPython.core.display.HTML object>"
      ]
     },
     "metadata": {},
     "output_type": "display_data"
    },
    {
     "data": {
      "application/javascript": [
       "window.__context = { glowscript_container: $(\"#glowscript\").removeAttr(\"id\")}"
      ],
      "text/plain": [
       "<IPython.core.display.Javascript object>"
      ]
     },
     "metadata": {},
     "output_type": "display_data"
    },
    {
     "name": "stdout",
     "output_type": "stream",
     "text": [
      "<5.000000, 0.000000, 0.000000> <2.500000, 0.000000, 0.000000> <2.500000, 2.000000, 2.000000> 2.5\n"
     ]
    }
   ],
   "source": [
    "scene7 = canvas(title='Test 7: Helix')\n",
    "b=helix(pos=(0,0,0), axis=(1,0,0))\n",
    "b2=helix(pos=(0,-2,0), axis=(1,0,0), color=color.yellow)\n",
    "b3=helix(pos=(0,2,0), axis=(1,0,0), color=color.cyan)\n",
    "sphere(pos=(-1,0,0), color=color.red)\n",
    "\n",
    "b.length = 5\n",
    "b2.axis=b.axis/2.\n",
    "b3.length = b2.length\n",
    "b.coils = 8\n",
    "\n",
    "print(b.axis,b2.axis,b2.size,b2.length)"
   ]
  },
  {
   "cell_type": "code",
   "execution_count": 14,
   "metadata": {
    "collapsed": false
   },
   "outputs": [
    {
     "data": {
      "text/html": [
       "<div id=\"scene9\"><div id=\"glowscript\" class=\"glowscript\"></div></div>"
      ],
      "text/plain": [
       "<IPython.core.display.HTML object>"
      ]
     },
     "metadata": {},
     "output_type": "display_data"
    },
    {
     "data": {
      "application/javascript": [
       "window.__context = { glowscript_container: $(\"#glowscript\").removeAttr(\"id\")}"
      ],
      "text/plain": [
       "<IPython.core.display.Javascript object>"
      ]
     },
     "metadata": {},
     "output_type": "display_data"
    },
    {
     "name": "stdout",
     "output_type": "stream",
     "text": [
      "<5.000000, 0.000000, 0.000000> <2.500000, 0.000000, 0.000000> <2.500000, 1.000000, 1.000000> 2.5\n"
     ]
    }
   ],
   "source": [
    "scene8 = canvas(title='Test 8: Pyramid')\n",
    "scene8.range = 4.0\n",
    "b=pyramid(pos=(0,0,0), axis=(1,0,0), size=(5,1,1))\n",
    "b2=pyramid(pos=(0,-2,0), axis=(1,0,0), color=color.yellow)\n",
    "b3=pyramid(pos=(0,2,0), axis=(1,0,0), color=color.cyan)\n",
    "sphere(pos=(-1,0,0), color=color.red)\n",
    "\n",
    "b2.axis=b.axis/2.\n",
    "b3.size = b2.size\n",
    "\n",
    "print(b.axis,b2.axis,b2.size,b2.length)"
   ]
  },
  {
   "cell_type": "code",
   "execution_count": 15,
   "metadata": {
    "collapsed": false
   },
   "outputs": [
    {
     "data": {
      "text/html": [
       "<div id=\"scene10\"><div id=\"glowscript\" class=\"glowscript\"></div></div>"
      ],
      "text/plain": [
       "<IPython.core.display.HTML object>"
      ]
     },
     "metadata": {},
     "output_type": "display_data"
    },
    {
     "data": {
      "application/javascript": [
       "window.__context = { glowscript_container: $(\"#glowscript\").removeAttr(\"id\")}"
      ],
      "text/plain": [
       "<IPython.core.display.Javascript object>"
      ]
     },
     "metadata": {},
     "output_type": "display_data"
    },
    {
     "name": "stdout",
     "output_type": "stream",
     "text": [
      "<5.000000, 0.000000, 0.000000> <2.500000, 0.000000, 0.000000> <2.500000, 1.000000, 1.000000> 2.5\n"
     ]
    }
   ],
   "source": [
    "scene8a = canvas(title='Test 8a: Pyramid')\n",
    "scene8a.range = 4.0\n",
    "b=pyramid(pos=(0,0,0), axis=(1,0,0), length = 5)\n",
    "b2=pyramid(pos=(0,-2,0), axis=(1,0,0), color=color.yellow)\n",
    "b3=pyramid(pos=(0,2,0), axis=(1,0,0), color=color.cyan)\n",
    "sphere(pos=(-1,0,0), color=color.red)\n",
    "\n",
    "b2.axis=b.axis/2.\n",
    "b3.size = b2.size\n",
    "\n",
    "print(b.axis,b2.axis,b2.size,b2.length)"
   ]
  },
  {
   "cell_type": "code",
   "execution_count": 16,
   "metadata": {
    "collapsed": false
   },
   "outputs": [
    {
     "data": {
      "text/html": [
       "<div id=\"scene11\"><div id=\"glowscript\" class=\"glowscript\"></div></div>"
      ],
      "text/plain": [
       "<IPython.core.display.HTML object>"
      ]
     },
     "metadata": {},
     "output_type": "display_data"
    },
    {
     "data": {
      "application/javascript": [
       "window.__context = { glowscript_container: $(\"#glowscript\").removeAttr(\"id\")}"
      ],
      "text/plain": [
       "<IPython.core.display.Javascript object>"
      ]
     },
     "metadata": {},
     "output_type": "display_data"
    },
    {
     "name": "stdout",
     "output_type": "stream",
     "text": [
      "<5.000000, 0.000000, 0.000000> <2.500000, 0.000000, 0.000000> <2.500000, 1.000000, 1.000000> 2.5\n"
     ]
    }
   ],
   "source": [
    "scene8b = canvas(title='Test 8b: Pyramid')\n",
    "scene8b.range = 4.0\n",
    "b=pyramid(pos=(0,0,0), axis=(5,0,0))\n",
    "b2=pyramid(pos=(0,-2,0), axis=(1,0,0), color=color.yellow)\n",
    "b3=pyramid(pos=(0,2,0), axis=(1,0,0), color=color.cyan)\n",
    "sphere(pos=(-1,0,0), color=color.red)\n",
    "\n",
    "b2.axis=b.axis/2.\n",
    "b3.size = b2.size\n",
    "\n",
    "print(b.axis,b2.axis,b2.size,b2.length)"
   ]
  },
  {
   "cell_type": "code",
   "execution_count": 17,
   "metadata": {
    "collapsed": false
   },
   "outputs": [
    {
     "data": {
      "text/html": [
       "<div id=\"scene12\"><div id=\"glowscript\" class=\"glowscript\"></div></div>"
      ],
      "text/plain": [
       "<IPython.core.display.HTML object>"
      ]
     },
     "metadata": {},
     "output_type": "display_data"
    },
    {
     "data": {
      "application/javascript": [
       "window.__context = { glowscript_container: $(\"#glowscript\").removeAttr(\"id\")}"
      ],
      "text/plain": [
       "<IPython.core.display.Javascript object>"
      ]
     },
     "metadata": {},
     "output_type": "display_data"
    },
    {
     "name": "stdout",
     "output_type": "stream",
     "text": [
      "<5.000000, 0.000000, 0.000000> <2.500000, 0.000000, 0.000000> <2.500000, 1.000000, 1.000000> 2.5\n"
     ]
    }
   ],
   "source": [
    "scene9 = canvas(title='Test 9: Box')\n",
    "b=box(pos=(0,0,0), axis=(1,0,0), size=(5,1,1))\n",
    "b2=box(pos=(0,-2,0), axis=(1,0,0), color=color.yellow)\n",
    "b3=box(pos=(0,2,0), axis=(1,0,0), color=color.cyan)\n",
    "sphere(pos=(0,0,0), color=color.red)\n",
    "\n",
    "b2.axis=b.axis/2.\n",
    "b3.size = b2.size\n",
    "\n",
    "print(b.axis,b2.axis,b2.size,b2.length)"
   ]
  },
  {
   "cell_type": "code",
   "execution_count": 18,
   "metadata": {
    "collapsed": false
   },
   "outputs": [
    {
     "data": {
      "text/html": [
       "<div id=\"scene13\"><div id=\"glowscript\" class=\"glowscript\"></div></div>"
      ],
      "text/plain": [
       "<IPython.core.display.HTML object>"
      ]
     },
     "metadata": {},
     "output_type": "display_data"
    },
    {
     "data": {
      "application/javascript": [
       "window.__context = { glowscript_container: $(\"#glowscript\").removeAttr(\"id\")}"
      ],
      "text/plain": [
       "<IPython.core.display.Javascript object>"
      ]
     },
     "metadata": {},
     "output_type": "display_data"
    },
    {
     "name": "stdout",
     "output_type": "stream",
     "text": [
      "<5.000000, 0.000000, 0.000000> <2.500000, 0.000000, 0.000000> <2.500000, 1.000000, 1.000000> 2.5\n"
     ]
    }
   ],
   "source": [
    "scene10 = canvas(title='Test 10: Ellipsoid')\n",
    "b=ellipsoid(pos=(0,0,0), axis=(1,0,0), size=(5,1,1))\n",
    "b2=ellipsoid(pos=(0,-2,0), axis=(1,0,0), color=color.yellow)\n",
    "b3=ellipsoid(pos=(0,2,0), axis=(1,0,0), color=color.cyan)\n",
    "sphere(pos=(0,0,0), color=color.red)\n",
    "\n",
    "b2.axis=b.axis/2.\n",
    "b3.size = b2.size\n",
    "\n",
    "print(b.axis,b2.axis,b2.size,b2.length)"
   ]
  },
  {
   "cell_type": "code",
   "execution_count": 19,
   "metadata": {
    "collapsed": false
   },
   "outputs": [
    {
     "data": {
      "text/html": [
       "<div id=\"scene14\"><div id=\"glowscript\" class=\"glowscript\"></div></div>"
      ],
      "text/plain": [
       "<IPython.core.display.HTML object>"
      ]
     },
     "metadata": {},
     "output_type": "display_data"
    },
    {
     "data": {
      "application/javascript": [
       "window.__context = { glowscript_container: $(\"#glowscript\").removeAttr(\"id\")}"
      ],
      "text/plain": [
       "<IPython.core.display.Javascript object>"
      ]
     },
     "metadata": {},
     "output_type": "display_data"
    },
    {
     "name": "stdout",
     "output_type": "stream",
     "text": [
      "<1.000000, 0.000000, 0.000000> <3.000000, 0.000000, 0.000000> <3.000000, 1.000000, 2.000000> 3.0\n"
     ]
    }
   ],
   "source": [
    "scene11 = canvas(title='Test 11: Box')\n",
    "b=box(pos=(-4,0,0), axis=(1,0,0), size=(1,2,3))\n",
    "b2=box(pos=(0,0,0), axis=(1,0,0), size=(3,1,2), color=color.yellow)\n",
    "b3=box(pos=(4,0,0), axis=(1,0,0), size=(2,3,1), color=color.cyan)\n",
    "\n",
    "print(b.axis,b2.axis,b2.size,b2.length)"
   ]
  },
  {
   "cell_type": "code",
   "execution_count": 20,
   "metadata": {
    "collapsed": false
   },
   "outputs": [
    {
     "data": {
      "text/html": [
       "<div id=\"scene15\"><div id=\"glowscript\" class=\"glowscript\"></div></div>"
      ],
      "text/plain": [
       "<IPython.core.display.HTML object>"
      ]
     },
     "metadata": {},
     "output_type": "display_data"
    },
    {
     "data": {
      "application/javascript": [
       "window.__context = { glowscript_container: $(\"#glowscript\").removeAttr(\"id\")}"
      ],
      "text/plain": [
       "<IPython.core.display.Javascript object>"
      ]
     },
     "metadata": {},
     "output_type": "display_data"
    },
    {
     "name": "stdout",
     "output_type": "stream",
     "text": [
      "<1.000000, 0.000000, 0.000000> <3.000000, 0.000000, 0.000000> <3.000000, 1.000000, 2.000000> 3.0\n"
     ]
    }
   ],
   "source": [
    "scene11a = canvas(title='Test 11a: Box')\n",
    "b=box(pos=(-4,0,0), length=1, height=2, width=3)\n",
    "b2=box(pos=(0,0,0), size=(3,1,2), color=color.yellow)\n",
    "b3=box(pos=(4,0,0), size=(2,3,1), color=color.cyan)\n",
    "\n",
    "print(b.axis,b2.axis,b2.size,b2.length)"
   ]
  },
  {
   "cell_type": "code",
   "execution_count": 21,
   "metadata": {
    "collapsed": false
   },
   "outputs": [
    {
     "data": {
      "text/html": [
       "<div id=\"scene16\"><div id=\"glowscript\" class=\"glowscript\"></div></div>"
      ],
      "text/plain": [
       "<IPython.core.display.HTML object>"
      ]
     },
     "metadata": {},
     "output_type": "display_data"
    },
    {
     "data": {
      "application/javascript": [
       "window.__context = { glowscript_container: $(\"#glowscript\").removeAttr(\"id\")}"
      ],
      "text/plain": [
       "<IPython.core.display.Javascript object>"
      ]
     },
     "metadata": {},
     "output_type": "display_data"
    },
    {
     "name": "stdout",
     "output_type": "stream",
     "text": [
      "<1.000000, 0.000000, 0.000000> <3.000000, 0.000000, 0.000000> <3.000000, 1.000000, 2.000000> 3.0\n"
     ]
    }
   ],
   "source": [
    "scene12 = canvas(title='Test 12: Pyramid')\n",
    "b=pyramid(pos=(-4,0,0), axis=(1,0,0), size=(1,2,3))\n",
    "b2=pyramid(pos=(0,0,0), axis=(1,0,0), size=(3,1,2), color=color.yellow)\n",
    "b3=pyramid(pos=(4,0,0), axis=(1,0,0), size=(2,3,1), color=color.cyan)\n",
    "\n",
    "print(b.axis,b2.axis,b2.size,b2.length)"
   ]
  },
  {
   "cell_type": "code",
   "execution_count": 22,
   "metadata": {
    "collapsed": false
   },
   "outputs": [
    {
     "data": {
      "text/html": [
       "<div id=\"scene17\"><div id=\"glowscript\" class=\"glowscript\"></div></div>"
      ],
      "text/plain": [
       "<IPython.core.display.HTML object>"
      ]
     },
     "metadata": {},
     "output_type": "display_data"
    },
    {
     "data": {
      "application/javascript": [
       "window.__context = { glowscript_container: $(\"#glowscript\").removeAttr(\"id\")}"
      ],
      "text/plain": [
       "<IPython.core.display.Javascript object>"
      ]
     },
     "metadata": {},
     "output_type": "display_data"
    },
    {
     "name": "stdout",
     "output_type": "stream",
     "text": [
      "<1.000000, 0.000000, 0.000000> <3.000000, 0.000000, 0.000000> <3.000000, 1.000000, 2.000000> 3.0\n"
     ]
    }
   ],
   "source": [
    "scene13 = canvas(title='Test 13: Ellipsoid')\n",
    "b=ellipsoid(pos=(-4,0,0), axis=(1,0,0), size=(1,2,3))\n",
    "b2=ellipsoid(pos=(0,0,0), axis=(1,0,0), size=(3,1,2), color=color.yellow)\n",
    "b3=ellipsoid(pos=(4,0,0), axis=(1,0,0), size=(2,3,1), color=color.cyan)\n",
    "\n",
    "print(b.axis,b2.axis,b2.size,b2.length)"
   ]
  },
  {
   "cell_type": "code",
   "execution_count": 23,
   "metadata": {
    "collapsed": false
   },
   "outputs": [
    {
     "data": {
      "text/html": [
       "<div id=\"scene18\"><div id=\"glowscript\" class=\"glowscript\"></div></div>"
      ],
      "text/plain": [
       "<IPython.core.display.HTML object>"
      ]
     },
     "metadata": {},
     "output_type": "display_data"
    },
    {
     "data": {
      "application/javascript": [
       "window.__context = { glowscript_container: $(\"#glowscript\").removeAttr(\"id\")}"
      ],
      "text/plain": [
       "<IPython.core.display.Javascript object>"
      ]
     },
     "metadata": {},
     "output_type": "display_data"
    }
   ],
   "source": [
    "from numpy import *\n",
    "scene14 = canvas(title='Ring')\n",
    "#draw circles of various radii\n",
    "R=1\n",
    "r=R/50\n",
    "c1=ring(pos=(0,0,0), axis=(0,0,1), radius=1*R, thickness=r, color=color.orange)\n",
    "c2=ring(pos=(0,0,0), axis=(0,0,1), radius=2*R, thickness=r, color=color.orange)\n",
    "\n",
    "#define a list with r,\\phi components with phi in degrees\n",
    "r1=[1,30]\n",
    "r2=[1,60]\n",
    "r3=[2,0]\n",
    "\n",
    "#convert to cartesian coord and draw\n",
    "sw=R/25 #shaftwidth for arrows\n",
    "r1arrow=arrow(pos=(0,0,0), axis=vector(r1[0]*cos(r1[1]*pi/180), r1[0]*sin(r1[1]*pi/180),0), \n",
    "              shaftwidth=sw, color=color.red)\n",
    "r2arrow=arrow(pos=(0,0,0), axis=vector(r2[0]*cos(r2[1]*pi/180), r2[0]*sin(r2[1]*pi/180),0), \n",
    "              shaftwidth=sw, color=color.green)\n",
    "r3arrow=arrow(pos=(0,0,0), axis=vector(r3[0]*cos(r3[1]*pi/180), r3[0]*sin(r3[1]*pi/180),0), \n",
    "              shaftwidth=sw, color=color.cyan)"
   ]
  },
  {
   "cell_type": "code",
   "execution_count": 24,
   "metadata": {
    "collapsed": false
   },
   "outputs": [
    {
     "data": {
      "text/html": [
       "<div id=\"scene19\"><div id=\"glowscript\" class=\"glowscript\"></div></div>"
      ],
      "text/plain": [
       "<IPython.core.display.HTML object>"
      ]
     },
     "metadata": {},
     "output_type": "display_data"
    },
    {
     "data": {
      "application/javascript": [
       "window.__context = { glowscript_container: $(\"#glowscript\").removeAttr(\"id\")}"
      ],
      "text/plain": [
       "<IPython.core.display.Javascript object>"
      ]
     },
     "metadata": {},
     "output_type": "display_data"
    }
   ],
   "source": [
    "scene15 = canvas(title='background')\n",
    "scene15.range = 3.0\n",
    "scene15.background = color.yellow\n",
    "scene15.ambient = color.red\n",
    "\n",
    "b = box()"
   ]
  },
  {
   "cell_type": "code",
   "execution_count": 25,
   "metadata": {
    "collapsed": false
   },
   "outputs": [
    {
     "data": {
      "text/html": [
       "<div id=\"scene20\"><div id=\"glowscript\" class=\"glowscript\"></div></div>"
      ],
      "text/plain": [
       "<IPython.core.display.HTML object>"
      ]
     },
     "metadata": {},
     "output_type": "display_data"
    },
    {
     "data": {
      "application/javascript": [
       "window.__context = { glowscript_container: $(\"#glowscript\").removeAttr(\"id\")}"
      ],
      "text/plain": [
       "<IPython.core.display.Javascript object>"
      ]
     },
     "metadata": {},
     "output_type": "display_data"
    }
   ],
   "source": [
    "from ivisual import *\n",
    "scene16 = canvas(title=\"Ball in Box\")\n",
    "\n",
    "side = 4.0\n",
    "thk = 0.3\n",
    "s2 = 2*side - thk\n",
    "s3 = 2*side + thk\n",
    "wallR = box (pos=( side, 0, 0), size=(thk, s2, s3),  color = color.red)\n",
    "wallL = box (pos=(-side, 0, 0), size=(thk, s2, s3),  color = color.red)\n",
    "wallB = box (pos=(0, -side, 0), size=(s3, thk, s3),  color = color.blue)\n",
    "wallT = box (pos=(0,  side, 0), size=(s3, thk, s3),  color = color.blue)\n",
    "wallBK = box(pos=(0, 0, -side), size=(s2, s2, thk), color = (0.7,0.7,0.7))\n",
    "\n",
    "ball = sphere (color = color.green, radius = 0.4, make_trail=True, interval=5, retain=30)\n",
    "ball.mass = 1.0\n",
    "ball.p = vector (-0.15, -0.23, +0.27)\n",
    "\n",
    "side = side - thk*0.5 - ball.radius\n",
    "\n",
    "dt = 0.5\n",
    "t=0.0\n",
    "while t < 500:\n",
    "  rate(100)\n",
    "  t = t + dt\n",
    "  ball.pos = ball.pos + (ball.p/ball.mass)*dt\n",
    "  if not (side > ball.x > -side):\n",
    "    ball.p.x = -ball.p.x\n",
    "  if not (side > ball.y > -side):\n",
    "    ball.p.y = -ball.p.y\n",
    "  if not (side > ball.z > -side):\n",
    "    ball.p.z = -ball.p.z\n",
    "\n"
   ]
  },
  {
   "cell_type": "code",
   "execution_count": 26,
   "metadata": {
    "collapsed": false
   },
   "outputs": [
    {
     "data": {
      "text/html": [
       "<div id=\"scene21\"><div id=\"glowscript\" class=\"glowscript\"></div></div>"
      ],
      "text/plain": [
       "<IPython.core.display.HTML object>"
      ]
     },
     "metadata": {},
     "output_type": "display_data"
    },
    {
     "data": {
      "application/javascript": [
       "window.__context = { glowscript_container: $(\"#glowscript\").removeAttr(\"id\")}"
      ],
      "text/plain": [
       "<IPython.core.display.Javascript object>"
      ]
     },
     "metadata": {},
     "output_type": "display_data"
    }
   ],
   "source": [
    "scene17 = canvas(title = 'frame test')\n",
    "f = frame()\n",
    "cyl = cylinder(frame=f, pos=(-1,0,0), radius=0.05, length=2,\n",
    "            color=color.cyan)\n",
    "ball1 = sphere(frame=f, pos=(1,0,0), radius=0.2, color = color.red)\n",
    "ball2 = sphere(frame=f, pos=(-1,0,0), radius=0.2, color = color.yellow)\n",
    "#r1arrow = arrow(frame=f, pos=(0,0.3,0), axis=vector(0,1,0), shaftwidth=0.1, color=color.red)\n",
    "t = 0\n",
    "while t < 44:\n",
    "    rate(50)\n",
    "    f.rotate(angle=math.pi/100,axis=(0,0,1),origin=(0,0,0))\n",
    "    t += 0.1"
   ]
  },
  {
   "cell_type": "code",
   "execution_count": 33,
   "metadata": {
    "collapsed": false
   },
   "outputs": [
    {
     "data": {
      "text/html": [
       "<div id=\"scene22\"><div id=\"glowscript\" class=\"glowscript\"></div></div>"
      ],
      "text/plain": [
       "<IPython.core.display.HTML object>"
      ]
     },
     "metadata": {},
     "output_type": "display_data"
    },
    {
     "data": {
      "application/javascript": [
       "window.__context = { glowscript_container: $(\"#glowscript\").removeAttr(\"id\")}"
      ],
      "text/plain": [
       "<IPython.core.display.Javascript object>"
      ]
     },
     "metadata": {},
     "output_type": "display_data"
    }
   ],
   "source": [
    "scene17a = canvas(title = 'frame test 2')\n",
    "f = frame()\n",
    "cyl = cylinder(pos=(-1,0,0), radius=0.05, length=2,\n",
    "            color=color.cyan)\n",
    "ball1 = sphere(pos=(1,0,0), radius=0.2, color = color.red)\n",
    "ball2 = sphere(pos=(-1,0,0), radius=0.2, color = color.yellow)\n",
    "cyl.frame = f\n",
    "ball1.frame = f\n",
    "ball2.frame = f\n",
    "#r1arrow = arrow(frame=f, pos=(0,0.3,0), axis=vector(0,1,0), shaftwidth=0.1, color=color.red)\n",
    "t = 0\n",
    "while t < 44:\n",
    "    rate(50)\n",
    "    f.rotate(angle=math.pi/100,axis=(0,0,1),origin=(0,0,0))\n",
    "    t += 0.1"
   ]
  },
  {
   "cell_type": "code",
   "execution_count": 27,
   "metadata": {
    "collapsed": false
   },
   "outputs": [
    {
     "data": {
      "text/html": [
       "<div id=\"scene23\"><div id=\"glowscript\" class=\"glowscript\"></div></div>"
      ],
      "text/plain": [
       "<IPython.core.display.HTML object>"
      ]
     },
     "metadata": {},
     "output_type": "display_data"
    },
    {
     "data": {
      "application/javascript": [
       "window.__context = { glowscript_container: $(\"#glowscript\").removeAttr(\"id\")}"
      ],
      "text/plain": [
       "<IPython.core.display.Javascript object>"
      ]
     },
     "metadata": {},
     "output_type": "display_data"
    },
    {
     "data": {
      "text/html": [
       "<div id=\"glowscript2\" ><div id=\"glowscript\" class=\"glowscript\"></div></div>"
      ]
     },
     "metadata": {},
     "output_type": "display_data"
    }
   ],
   "source": [
    "scene18 = canvas(title = 'curve')\n",
    "crv = curve(pos=[(0,0), (1,0), (2,1), (0,0)], color=[(0,1.,0), (1.,0,0), (0,0,1.), (0,1.,0)], radius=0.05)\n",
    "crv2 = curve(pos=[(-3,0,0), (-2,0,0), (-1,1,0), (-2,2,0)], color=[(1.,1.,0), (1.,0,1.), (0,1.,1.)], radius=0.05)\n",
    "display(scene18)"
   ]
  },
  {
   "cell_type": "code",
   "execution_count": 28,
   "metadata": {
    "collapsed": false
   },
   "outputs": [
    {
     "name": "stdout",
     "output_type": "stream",
     "text": [
      "ERROR! Session/line number was not unique in database. History logging moved to new session 1402\n"
     ]
    },
    {
     "data": {
      "text/html": [
       "<div id=\"glowscript2\" ><div id=\"glowscript\" class=\"glowscript\"></div></div>"
      ]
     },
     "metadata": {},
     "output_type": "display_data"
    }
   ],
   "source": [
    "scene18.range = 4.0\n",
    "crv.append( pos=(-2,3))\n",
    "crv.append( pos=(0,3), color=(1.,1.,0.))\n",
    "crv2.append( pos=(-3.,1.,0.), color=(1.,0.,1.) )\n",
    "crv2.append( pos=(-2,1,0))\n",
    "display(scene18)"
   ]
  },
  {
   "cell_type": "code",
   "execution_count": 29,
   "metadata": {
    "collapsed": false
   },
   "outputs": [
    {
     "data": {
      "text/html": [
       "<div id=\"scene24\"><div id=\"glowscript\" class=\"glowscript\"></div></div>"
      ],
      "text/plain": [
       "<IPython.core.display.HTML object>"
      ]
     },
     "metadata": {},
     "output_type": "display_data"
    },
    {
     "data": {
      "application/javascript": [
       "window.__context = { glowscript_container: $(\"#glowscript\").removeAttr(\"id\")}"
      ],
      "text/plain": [
       "<IPython.core.display.Javascript object>"
      ]
     },
     "metadata": {},
     "output_type": "display_data"
    },
    {
     "data": {
      "text/html": [
       "<div id=\"glowscript2\" ><div id=\"glowscript\" class=\"glowscript\"></div></div>"
      ]
     },
     "metadata": {},
     "output_type": "display_data"
    }
   ],
   "source": [
    "scene19 = canvas(title = 'points')\n",
    "pts = points(pos=[(0,0), (1,0), (2,1), (0,0)], color=[(0,1.,0), (1.,0,0), (0,0,1.), (0,1.,0)], size=5)\n",
    "pts2 = points(pos=[(-3,0,0), (-2,0,0), (-1,1,0), (-2,2,0)], color=[(1.,1.,0), (1.,0,1.), (0,1.,1.), (0,1.,1.)], size=5)\n",
    "display(scene19)"
   ]
  },
  {
   "cell_type": "code",
   "execution_count": 30,
   "metadata": {
    "collapsed": false
   },
   "outputs": [
    {
     "data": {
      "text/html": [
       "<div id=\"glowscript2\" ><div id=\"glowscript\" class=\"glowscript\"></div></div>"
      ]
     },
     "metadata": {},
     "output_type": "display_data"
    }
   ],
   "source": [
    "scene19.range = 4.0\n",
    "pts.append( pos=(-2,3))\n",
    "pts.append( pos=(0,3), color=(1.,1.,0.))\n",
    "pts2.append( pos=(-3.,1.,0.), color=(1.,0.,1.) )\n",
    "pts2.append( pos=(-2,1,0))\n",
    "display(scene19)"
   ]
  },
  {
   "cell_type": "code",
   "execution_count": 31,
   "metadata": {
    "collapsed": false
   },
   "outputs": [],
   "source": [
    "pts.append( pos=(0,4), color=(0,1,1))"
   ]
  },
  {
   "cell_type": "code",
   "execution_count": 32,
   "metadata": {
    "collapsed": false
   },
   "outputs": [
    {
     "data": {
      "text/html": [
       "<div id=\"scene25\"><div id=\"glowscript\" class=\"glowscript\"></div></div>"
      ],
      "text/plain": [
       "<IPython.core.display.HTML object>"
      ]
     },
     "metadata": {},
     "output_type": "display_data"
    },
    {
     "data": {
      "application/javascript": [
       "window.__context = { glowscript_container: $(\"#glowscript\").removeAttr(\"id\")}"
      ],
      "text/plain": [
       "<IPython.core.display.Javascript object>"
      ]
     },
     "metadata": {},
     "output_type": "display_data"
    },
    {
     "name": "stdout",
     "output_type": "stream",
     "text": [
      "5 [(1.0, 0.0, 0.0) (1.0, 0.0, 0.0)]\n"
     ]
    }
   ],
   "source": [
    "scene20 = canvas(title = 'points')\n",
    "\n",
    "pts = points(pos=[(0,0,0), (10,0,0)], color=color.red, size=5, size_units = \"pixels\")\n",
    "\n",
    "print(pts.size, pts.color)"
   ]
  },
  {
   "cell_type": "code",
   "execution_count": 34,
   "metadata": {
    "collapsed": false
   },
   "outputs": [
    {
     "name": "stdout",
     "output_type": "stream",
     "text": [
      "30\n"
     ]
    }
   ],
   "source": [
    "pts.size = 30\n",
    "print(pts.size)"
   ]
  },
  {
   "cell_type": "code",
   "execution_count": 35,
   "metadata": {
    "collapsed": false
   },
   "outputs": [
    {
     "name": "stdout",
     "output_type": "stream",
     "text": [
      "1.0 world\n"
     ]
    }
   ],
   "source": [
    "pts.size_units = \"world\"\n",
    "pts.size = 1.0\n",
    "print(pts.size, pts.size_units)"
   ]
  },
  {
   "cell_type": "code",
   "execution_count": 36,
   "metadata": {
    "collapsed": false
   },
   "outputs": [],
   "source": [
    "pts.size = 8.0"
   ]
  },
  {
   "cell_type": "code",
   "execution_count": 37,
   "metadata": {
    "collapsed": false
   },
   "outputs": [
    {
     "data": {
      "text/html": [
       "<div id=\"scene26\"><div id=\"glowscript\" class=\"glowscript\"></div></div>"
      ],
      "text/plain": [
       "<IPython.core.display.HTML object>"
      ]
     },
     "metadata": {},
     "output_type": "display_data"
    },
    {
     "data": {
      "application/javascript": [
       "window.__context = { glowscript_container: $(\"#glowscript\").removeAttr(\"id\")}"
      ],
      "text/plain": [
       "<IPython.core.display.Javascript object>"
      ]
     },
     "metadata": {},
     "output_type": "display_data"
    },
    {
     "data": {
      "text/html": [
       "<div id=\"glowscript2\" ><div id=\"glowscript\" class=\"glowscript\"></div></div>"
      ]
     },
     "metadata": {},
     "output_type": "display_data"
    },
    {
     "name": "stdout",
     "output_type": "stream",
     "text": [
      "<10.000000, 0.000000, 0.000000> <1.000000, 0.000000, 0.000000>\n"
     ]
    }
   ],
   "source": [
    "scene21 = canvas(title='Test 21: Arrow')\n",
    "scene21.range = 8.0\n",
    "\n",
    "myarrow=arrow(pos=(0,0,0), axis=(1,0,0))\n",
    "myarrow2=arrow(pos=(0,-2,0), axis=(1,0,0), color=color.yellow)\n",
    "\n",
    "myarrow.axis=vector(0,0,0)\n",
    "myarrow.axis=vector(10,0,0)\n",
    "myarrow2.axis=vector(0,0,0)\n",
    "myarrow2.axis.x = 1\n",
    "\n",
    "display(scene21)\n",
    "print(myarrow.axis,myarrow2.axis)\n"
   ]
  },
  {
   "cell_type": "code",
   "execution_count": 38,
   "metadata": {
    "collapsed": false
   },
   "outputs": [
    {
     "name": "stdout",
     "output_type": "stream",
     "text": [
      "<1.000000, 0.000000, 0.000000>\n"
     ]
    }
   ],
   "source": [
    "print(myarrow2.axis)"
   ]
  },
  {
   "cell_type": "code",
   "execution_count": 39,
   "metadata": {
    "collapsed": false
   },
   "outputs": [],
   "source": [
    "myarrow2.axis.x = 3.0"
   ]
  },
  {
   "cell_type": "code",
   "execution_count": 40,
   "metadata": {
    "collapsed": false
   },
   "outputs": [],
   "source": [
    "b=arrow(pos=(0,2,0), axis=(1,0,0))\n"
   ]
  },
  {
   "cell_type": "code",
   "execution_count": 41,
   "metadata": {
    "collapsed": false
   },
   "outputs": [],
   "source": [
    "a = vector(2.,0,0)"
   ]
  },
  {
   "cell_type": "code",
   "execution_count": 42,
   "metadata": {
    "collapsed": false
   },
   "outputs": [
    {
     "data": {
      "text/plain": [
       "ivisual.visual.vector"
      ]
     },
     "execution_count": 42,
     "metadata": {},
     "output_type": "execute_result"
    }
   ],
   "source": [
    "b.axis = a\n",
    "type(b.axis)"
   ]
  },
  {
   "cell_type": "code",
   "execution_count": 43,
   "metadata": {
    "collapsed": false
   },
   "outputs": [
    {
     "data": {
      "text/plain": [
       "<6.000000, 0.000000, 0.000000>"
      ]
     },
     "execution_count": 43,
     "metadata": {},
     "output_type": "execute_result"
    }
   ],
   "source": [
    "b.axis.x = 6\n",
    "b.axis"
   ]
  },
  {
   "cell_type": "code",
   "execution_count": 44,
   "metadata": {
    "collapsed": false
   },
   "outputs": [
    {
     "data": {
      "text/plain": [
       "<2.000000, 0.000000, 0.000000>"
      ]
     },
     "execution_count": 44,
     "metadata": {},
     "output_type": "execute_result"
    }
   ],
   "source": [
    "a"
   ]
  },
  {
   "cell_type": "code",
   "execution_count": 45,
   "metadata": {
    "collapsed": false
   },
   "outputs": [
    {
     "data": {
      "text/html": [
       "<div id=\"scene27\"><div id=\"glowscript\" class=\"glowscript\"></div></div>"
      ],
      "text/plain": [
       "<IPython.core.display.HTML object>"
      ]
     },
     "metadata": {},
     "output_type": "display_data"
    },
    {
     "data": {
      "application/javascript": [
       "window.__context = { glowscript_container: $(\"#glowscript\").removeAttr(\"id\")}"
      ],
      "text/plain": [
       "<IPython.core.display.Javascript object>"
      ]
     },
     "metadata": {},
     "output_type": "display_data"
    },
    {
     "data": {
      "text/html": [
       "<div id=\"glowscript2\" ><div id=\"glowscript\" class=\"glowscript\"></div></div>"
      ]
     },
     "metadata": {},
     "output_type": "display_data"
    }
   ],
   "source": [
    "L = 5.0\n",
    "N = 150 # number of phasors to model line..\n",
    "xarray = np.linspace(-L, L, N)\n",
    "t=0.0\n",
    "dt=0.01\n",
    "gndPhase = 0.0  # phase of gnd state, useful for \"rotating\" with the gnd state\n",
    "scene22 = canvas(title=\"arrows\")\n",
    "NTerms=50\n",
    "#polys = [sp.hermite(n) for n in range(NTerms+1)]\n",
    "#vecs = [polys[i](xarray)*np.exp(-xarray**2/2.0)/np.sqrt(2**i*math.factorial(i)) for i in range(len(polys))]\n",
    "arrows = [arrow(pos=(i-NTerms/2,0,0), axis=(0,4,0), color=color.yellow) for i in range(NTerms+1)]\n",
    "display(scene22)"
   ]
  },
  {
   "cell_type": "code",
   "execution_count": 46,
   "metadata": {
    "collapsed": false
   },
   "outputs": [
    {
     "data": {
      "text/html": [
       "<div id=\"scene28\"><div id=\"glowscript\" class=\"glowscript\"></div></div>"
      ],
      "text/plain": [
       "<IPython.core.display.HTML object>"
      ]
     },
     "metadata": {},
     "output_type": "display_data"
    },
    {
     "data": {
      "application/javascript": [
       "window.__context = { glowscript_container: $(\"#glowscript\").removeAttr(\"id\")}"
      ],
      "text/plain": [
       "<IPython.core.display.Javascript object>"
      ]
     },
     "metadata": {},
     "output_type": "display_data"
    },
    {
     "data": {
      "text/html": [
       "<div id=\"glowscript2\" ><div id=\"glowscript\" class=\"glowscript\"></div></div>"
      ]
     },
     "metadata": {},
     "output_type": "display_data"
    }
   ],
   "source": [
    "scene23 = canvas(title = 'arrow test')\n",
    "NTerms=50\n",
    "#polys = [sp.hermite(n) for n in range(NTerms+1)]\n",
    "#vecs = [polys[i](xarray)*np.exp(-xarray**2/2.0)/np.sqrt(2**i*math.factorial(i)) for i in range(len(polys))]\n",
    "arrows = [arrow(pos=(i-NTerms/2,0,0), axis=(0,4,0), color=color.yellow, shaftwidth = 0.1, headwidth = 0.2, headlength = 0.3) for i in range(NTerms+1)]\n",
    "display(scene23)\n"
   ]
  },
  {
   "cell_type": "code",
   "execution_count": 47,
   "metadata": {
    "collapsed": false
   },
   "outputs": [
    {
     "data": {
      "text/html": [
       "<div id=\"scene29\"><div id=\"glowscript\" class=\"glowscript\"></div></div>"
      ],
      "text/plain": [
       "<IPython.core.display.HTML object>"
      ]
     },
     "metadata": {},
     "output_type": "display_data"
    },
    {
     "data": {
      "application/javascript": [
       "window.__context = { glowscript_container: $(\"#glowscript\").removeAttr(\"id\")}"
      ],
      "text/plain": [
       "<IPython.core.display.Javascript object>"
      ]
     },
     "metadata": {},
     "output_type": "display_data"
    },
    {
     "data": {
      "text/html": [
       "<div id=\"glowscript2\" ><div id=\"glowscript\" class=\"glowscript\"></div></div>"
      ]
     },
     "metadata": {},
     "output_type": "display_data"
    }
   ],
   "source": [
    "scene24 = canvas(title = 'arrow test')\n",
    "NTerms=50\n",
    "#polys = [sp.hermite(n) for n in range(NTerms+1)]\n",
    "#vecs = [polys[i](xarray)*np.exp(-xarray**2/2.0)/np.sqrt(2**i*math.factorial(i)) for i in range(len(polys))]\n",
    "arrows2 = []\n",
    "for i in range(NTerms+1):\n",
    "    arrows2.append(arrow(pos=(i-NTerms/2,0,0), axis=(0,10,0), color=color.yellow, shaftwidth = 0.1, headwidth = 0.2, headlength = 0.3))\n",
    "display(scene24)\n",
    "\n"
   ]
  },
  {
   "cell_type": "code",
   "execution_count": 48,
   "metadata": {
    "collapsed": false
   },
   "outputs": [
    {
     "data": {
      "text/html": [
       "<div id=\"glowscript2\" ><div id=\"glowscript\" class=\"glowscript\"></div></div>"
      ]
     },
     "metadata": {},
     "output_type": "display_data"
    }
   ],
   "source": [
    "for arrw in arrows2:\n",
    "    arrw.color = color.red\n",
    "display(scene24)"
   ]
  },
  {
   "cell_type": "code",
   "execution_count": 49,
   "metadata": {
    "collapsed": false
   },
   "outputs": [
    {
     "data": {
      "text/html": [
       "<div id=\"scene30\"><div id=\"glowscript\" class=\"glowscript\"></div></div>"
      ],
      "text/plain": [
       "<IPython.core.display.HTML object>"
      ]
     },
     "metadata": {},
     "output_type": "display_data"
    },
    {
     "data": {
      "application/javascript": [
       "window.__context = { glowscript_container: $(\"#glowscript\").removeAttr(\"id\")}"
      ],
      "text/plain": [
       "<IPython.core.display.Javascript object>"
      ]
     },
     "metadata": {},
     "output_type": "display_data"
    },
    {
     "data": {
      "text/html": [
       "<div id=\"glowscript2\" ><div id=\"glowscript\" class=\"glowscript\"></div></div>"
      ]
     },
     "metadata": {},
     "output_type": "display_data"
    }
   ],
   "source": [
    "scene25 = canvas(title = 'up test')\n",
    "\n",
    "scene25.up = vector(0.,0.,1.)\n",
    "scene25.forward = vector(-1,0,0)\n",
    "arrow(axis=vector(1,0,0), color=color.red)\n",
    "arrow(axis=vector(0,1,0), color=color.green)\n",
    "arrow(axis=vector(0,0,1), color=color.blue)\n",
    "sphere(pos=vector(0,0,1), radius=0.05, color=color.cyan)\n",
    "\n",
    "display(scene25)\n"
   ]
  },
  {
   "cell_type": "code",
   "execution_count": 50,
   "metadata": {
    "collapsed": false
   },
   "outputs": [
    {
     "data": {
      "text/html": [
       "<div id=\"scene31\"><div id=\"glowscript\" class=\"glowscript\"></div></div>"
      ],
      "text/plain": [
       "<IPython.core.display.HTML object>"
      ]
     },
     "metadata": {},
     "output_type": "display_data"
    },
    {
     "data": {
      "application/javascript": [
       "window.__context = { glowscript_container: $(\"#glowscript\").removeAttr(\"id\")}"
      ],
      "text/plain": [
       "<IPython.core.display.Javascript object>"
      ]
     },
     "metadata": {},
     "output_type": "display_data"
    },
    {
     "data": {
      "text/html": [
       "<div id=\"glowscript2\" ><div id=\"glowscript\" class=\"glowscript\"></div></div>"
      ]
     },
     "metadata": {},
     "output_type": "display_data"
    }
   ],
   "source": [
    "scene26 = canvas(title='up test', up = (0,0,1), forward=(-1,0,0), center=(0,0,0.5))\n",
    "arrow(axis=vector(1,0,0), color=color.red)\n",
    "arrow(axis=vector(0,1,0), color=color.green)\n",
    "arrow(axis=vector(0,0,1), color=color.blue)\n",
    "sphere(pos=vector(0,0,1), radius=0.05, color=color.cyan)\n",
    "display(scene26)"
   ]
  },
  {
   "cell_type": "code",
   "execution_count": 51,
   "metadata": {
    "collapsed": false
   },
   "outputs": [
    {
     "data": {
      "text/html": [
       "<div id=\"scene32\"><div id=\"glowscript\" class=\"glowscript\"></div></div>"
      ],
      "text/plain": [
       "<IPython.core.display.HTML object>"
      ]
     },
     "metadata": {},
     "output_type": "display_data"
    },
    {
     "data": {
      "application/javascript": [
       "window.__context = { glowscript_container: $(\"#glowscript\").removeAttr(\"id\")}"
      ],
      "text/plain": [
       "<IPython.core.display.Javascript object>"
      ]
     },
     "metadata": {},
     "output_type": "display_data"
    },
    {
     "data": {
      "text/html": [
       "<div id=\"glowscript2\" ><div id=\"glowscript\" class=\"glowscript\"></div></div>"
      ]
     },
     "metadata": {},
     "output_type": "display_data"
    }
   ],
   "source": [
    "scene27 = canvas(title='up test', visible=True, up=(0,0,1.), center=vector(0.,0.,0.5), forward=vector(-1,0,0), fov=1.047, background = (1,1,0), ambient = color.gray(0.2), height=600, width=800, autoscale = True, userzoom = True, userspin = True)\n",
    "arrow(axis=vector(1,0,0), color=color.red)\n",
    "arrow(axis=vector(0,1,0), color=color.green)\n",
    "arrow(axis=vector(0,0,1), color=color.blue)\n",
    "sphere(pos=vector(0,0,1), radius=0.05, color=color.cyan)\n",
    "display(scene27)"
   ]
  },
  {
   "cell_type": "code",
   "execution_count": 52,
   "metadata": {
    "collapsed": false
   },
   "outputs": [
    {
     "data": {
      "text/html": [
       "<div id=\"scene33\"><div id=\"glowscript\" class=\"glowscript\"></div></div>"
      ],
      "text/plain": [
       "<IPython.core.display.HTML object>"
      ]
     },
     "metadata": {},
     "output_type": "display_data"
    },
    {
     "data": {
      "application/javascript": [
       "window.__context = { glowscript_container: $(\"#glowscript\").removeAttr(\"id\")}"
      ],
      "text/plain": [
       "<IPython.core.display.Javascript object>"
      ]
     },
     "metadata": {},
     "output_type": "display_data"
    },
    {
     "data": {
      "text/html": [
       "<div id=\"glowscript2\" ><div id=\"glowscript\" class=\"glowscript\"></div></div>"
      ]
     },
     "metadata": {},
     "output_type": "display_data"
    },
    {
     "name": "stdout",
     "output_type": "stream",
     "text": [
      "done  0.401479257925 8.38219680752\n"
     ]
    }
   ],
   "source": [
    "from time import clock\n",
    "\n",
    "# 1000 rotating cubes\n",
    "# Bruce desktop Windows machine\n",
    "# N = 10 (1000 boxes) render 4.5 ms, computation (rotations) 1.5 ms\n",
    "# The equivalent GlowScript program: render 6 ms, computation 0.3 ms\n",
    "\n",
    "boxes = []\n",
    "L = 15\n",
    "N = 10\n",
    "\n",
    "def loadBoxes(N = 10):\n",
    "    if len(boxes) > 0:\n",
    "        deleteBoxes()\n",
    "    for x in range(N):\n",
    "        for y in range(N):\n",
    "            for z in range(N):\n",
    "                b = box(color=(x/N, y/N, z/N),\n",
    "                        pos=vector(L*(x/(N-1)-.5), L*(y/(N-1)-.5), L*(z/(N-1)-.5)),\n",
    "                        size=vector(.6*L/N, .4*L/N, .6*L/N))\n",
    "                boxes.append(b)\n",
    "    return True\n",
    "\n",
    "def deleteBoxes():\n",
    "    for i in range(len(boxes)):\n",
    "        b = boxes.pop()\n",
    "        b.delete()\n",
    "    return True\n",
    "\n",
    "def anim(revs = 2, rateVal = 30):\n",
    "    ctime = 0\n",
    "    #ifunc = simulateDelay(delayAvg=0.001)\n",
    "    #rate = RateKeeper2(interactFunc=ifunc)\n",
    "    \n",
    "    t = 0.\n",
    "    dt = 0.03\n",
    "    start = clock()\n",
    "    totalRads = revs * 2.*math.pi\n",
    "    while t <= totalRads:\n",
    "        rate(rateVal)\n",
    "        t += dt\n",
    "        ct = clock()\n",
    "        a = (0.6*L/N)\n",
    "        v = a*vector(math.sin(t), 0, math.cos(t))\n",
    "        for b in boxes:\n",
    "            b.axis = v\n",
    "        ctime += clock()-ct\n",
    "    rtime = clock() - start\n",
    "    print (\"done \",ctime, rtime)\n",
    "    return ctime\n",
    "\n",
    "\n",
    "scene28 = canvas(title='rotating boxes')\n",
    "\n",
    "N=5\n",
    "loadBoxes(N)\n",
    "\n",
    "display(scene28)\n",
    "\n",
    "anim(revs=2,rateVal=50);"
   ]
  },
  {
   "cell_type": "code",
   "execution_count": 53,
   "metadata": {
    "collapsed": false
   },
   "outputs": [
    {
     "data": {
      "text/plain": [
       "True"
      ]
     },
     "execution_count": 53,
     "metadata": {},
     "output_type": "execute_result"
    }
   ],
   "source": [
    "N=10\n",
    "loadBoxes(N)"
   ]
  },
  {
   "cell_type": "code",
   "execution_count": 54,
   "metadata": {
    "collapsed": true
   },
   "outputs": [],
   "source": [
    "t = 0.\n",
    "dt = 1\n",
    "\n",
    "t += dt\n",
    "a = (0.6*L/N)\n",
    "v = a*vector(math.sin(t), 0, math.cos(t))\n",
    "for b in boxes:\n",
    "    b.axis.x, b.axis.z = v.x, v.z\n"
   ]
  },
  {
   "cell_type": "code",
   "execution_count": 55,
   "metadata": {
    "collapsed": true
   },
   "outputs": [],
   "source": [
    "t = 1.\n",
    "dt = 1\n",
    "\n",
    "t += dt\n",
    "a = (0.6*L/N)\n",
    "v = a*vector(math.sin(t), 0, math.cos(t))\n",
    "for b in boxes:\n",
    "    b.axis = v\n"
   ]
  },
  {
   "cell_type": "code",
   "execution_count": 56,
   "metadata": {
    "collapsed": false
   },
   "outputs": [],
   "source": [
    "v.x, v.z = a*math.sin(0), a*math.cos(0)\n",
    "for b in boxes:\n",
    "    b.axis.x, b.axis.z = v.x, v.z\n"
   ]
  },
  {
   "cell_type": "code",
   "execution_count": 57,
   "metadata": {
    "collapsed": true
   },
   "outputs": [],
   "source": [
    "def anim2(N = 3, rateVal = 100, L = 15):\n",
    "    ctime = 0\n",
    "    #ifunc = simulateDelay(delayAvg=0.001)\n",
    "    #rate = RateKeeper2(interactFunc=ifunc)\n",
    "    \n",
    "    if len(boxes) > 0:\n",
    "        deleteBoxes()\n",
    "    t = 0.\n",
    "    dt = 0.03\n",
    "    start = clock()\n",
    "    for x in range(N):\n",
    "        for y in range(N):\n",
    "            for z in range(N):\n",
    "                rate(rateVal)\n",
    "                b = box(color=(x/N, y/N, z/N),\n",
    "                        pos=vector(L*(x/(N-1)-.5), L*(y/(N-1)-.5), L*(z/(N-1)-.5)),\n",
    "                        size=vector(.6*L/N, .4*L/N, .6*L/N))\n",
    "                boxes.append(b)\n",
    "                t += dt\n",
    "                ct = clock()\n",
    "                a = (0.6*L/N)\n",
    "                v = a*vector(math.sin(t), 0, math.cos(t))\n",
    "                \n",
    "                for b in boxes:\n",
    "                    b.axis = v\n",
    "                ctime += clock()-ct\n",
    "                \n",
    "    rtime = clock() - start\n",
    "    print (\"done \",ctime, rtime)\n",
    "    return ctime\n",
    "\n",
    "\n"
   ]
  },
  {
   "cell_type": "code",
   "execution_count": 58,
   "metadata": {
    "collapsed": false
   },
   "outputs": [
    {
     "data": {
      "text/html": [
       "<div id=\"scene34\"><div id=\"glowscript\" class=\"glowscript\"></div></div>"
      ],
      "text/plain": [
       "<IPython.core.display.HTML object>"
      ]
     },
     "metadata": {},
     "output_type": "display_data"
    },
    {
     "data": {
      "application/javascript": [
       "window.__context = { glowscript_container: $(\"#glowscript\").removeAttr(\"id\")}"
      ],
      "text/plain": [
       "<IPython.core.display.Javascript object>"
      ]
     },
     "metadata": {},
     "output_type": "display_data"
    },
    {
     "data": {
      "text/html": [
       "<div id=\"glowscript2\" ><div id=\"glowscript\" class=\"glowscript\"></div></div>"
      ]
     },
     "metadata": {},
     "output_type": "display_data"
    }
   ],
   "source": [
    "scene29 = canvas(title='insert rotating boxes')\n",
    "\n",
    "N=5\n",
    "loadBoxes(N)\n",
    "\n",
    "display(scene29)\n"
   ]
  },
  {
   "cell_type": "code",
   "execution_count": 59,
   "metadata": {
    "collapsed": false
   },
   "outputs": [
    {
     "data": {
      "text/html": [
       "<div id=\"glowscript2\" ><div id=\"glowscript\" class=\"glowscript\"></div></div>"
      ]
     },
     "metadata": {},
     "output_type": "display_data"
    },
    {
     "name": "stdout",
     "output_type": "stream",
     "text": [
      "done  0.0225661258319 0.685424578762\n",
      "done  0.0840598666598 1.36139249738\n",
      "done  0.227479961966 2.38885141508\n",
      "done  0.643436562873 4.25867594782\n"
     ]
    },
    {
     "data": {
      "text/plain": [
       "0.6434365628728358"
      ]
     },
     "execution_count": 59,
     "metadata": {},
     "output_type": "execute_result"
    }
   ],
   "source": [
    "display(scene29)\n",
    "anim2(N=4)\n",
    "time.sleep(5)\n",
    "anim2(N=5)\n",
    "time.sleep(4)\n",
    "anim2(N=6)\n",
    "time.sleep(3)\n",
    "anim2(N=7)"
   ]
  },
  {
   "cell_type": "code",
   "execution_count": 60,
   "metadata": {
    "collapsed": false
   },
   "outputs": [
    {
     "data": {
      "text/html": [
       "<div id=\"scene35\"><div id=\"glowscript\" class=\"glowscript\"></div></div>"
      ],
      "text/plain": [
       "<IPython.core.display.HTML object>"
      ]
     },
     "metadata": {},
     "output_type": "display_data"
    },
    {
     "data": {
      "application/javascript": [
       "window.__context = { glowscript_container: $(\"#glowscript\").removeAttr(\"id\")}"
      ],
      "text/plain": [
       "<IPython.core.display.Javascript object>"
      ]
     },
     "metadata": {},
     "output_type": "display_data"
    },
    {
     "data": {
      "text/html": [
       "<div id=\"glowscript2\" ><div id=\"glowscript\" class=\"glowscript\"></div></div>"
      ]
     },
     "metadata": {},
     "output_type": "display_data"
    },
    {
     "name": "stdout",
     "output_type": "stream",
     "text": [
      "108\n"
     ]
    }
   ],
   "source": [
    "from math import *\n",
    "\n",
    "scene30 = canvas(title='Test 30: list demo')\n",
    "\n",
    "## create arrows\n",
    "arrz = []\n",
    "z = -0.3\n",
    "zmax = 0.11\n",
    "dz = 0.05\n",
    "R = 0.1\n",
    "dtheta = pi/6\n",
    "while z < zmax:\n",
    "    theta = 0\n",
    "    while theta < 2*pi:\n",
    "        a = arrow(pos=vector(R*cos(theta), R*sin(theta), z),\n",
    "                 color=color.orange, shaftwidth=0.003,\n",
    "                 axis=vector(0,0.02,0))\n",
    "        arrz.append(a)\n",
    "        theta = theta + dtheta\n",
    "    z = z + dz\n",
    "\n",
    "\n",
    "display(scene30)\n",
    "\n",
    "print(len(arrz))\n",
    "\n",
    "## loop through list and change arrows\n",
    "for thisarrow in arrz:\n",
    "    rate(2)\n",
    "    thisarrow.color = color.green\n",
    "    thisarrow.axis = vector(0,0,0.03)"
   ]
  },
  {
   "cell_type": "code",
   "execution_count": 61,
   "metadata": {
    "collapsed": false
   },
   "outputs": [
    {
     "data": {
      "text/html": [
       "<div id=\"scene36\"><div id=\"glowscript\" class=\"glowscript\"></div></div>"
      ],
      "text/plain": [
       "<IPython.core.display.HTML object>"
      ]
     },
     "metadata": {},
     "output_type": "display_data"
    },
    {
     "data": {
      "application/javascript": [
       "window.__context = { glowscript_container: $(\"#glowscript\").removeAttr(\"id\")}"
      ],
      "text/plain": [
       "<IPython.core.display.Javascript object>"
      ]
     },
     "metadata": {},
     "output_type": "display_data"
    },
    {
     "data": {
      "text/html": [
       "<div id=\"glowscript2\" ><div id=\"glowscript\" class=\"glowscript\"></div></div>"
      ]
     },
     "metadata": {},
     "output_type": "display_data"
    }
   ],
   "source": [
    "scene31 = canvas(title='Test 31: shperes')\n",
    "\n",
    "s1 = sphere(pos=vector(-2,-2,-2), color=color.green)\n",
    "s2 = sphere(pos=vector(-2,-2,2), color=color.green)\n",
    "s3 = sphere(pos=vector(-2,2,-2), color=color.green)\n",
    "s4 = sphere(pos=vector(-2,2,2), color=color.green)\n",
    "s5 = sphere(pos=vector(2,-2,-2), color=color.green)\n",
    "s6 = sphere(pos=vector(2,-2,2), color=color.green)\n",
    "s7 = sphere(pos=vector(2,2,-2), color=color.green)\n",
    "s8 = sphere(pos=vector(2,2,2), color=color.green)\n",
    "\n",
    "particles = [s1,s2,s3,s4,s5,s6,s7,s8]\n",
    "\n",
    "display(scene31)\n",
    "\n",
    "i = 0\n",
    "while i < len(particles):\n",
    "    rate(1)\n",
    "    particles[i].color = color.magenta\n",
    "    i = i+1"
   ]
  },
  {
   "cell_type": "code",
   "execution_count": 62,
   "metadata": {
    "collapsed": false
   },
   "outputs": [
    {
     "data": {
      "text/html": [
       "<div id=\"scene37\"><div id=\"glowscript\" class=\"glowscript\"></div></div>"
      ],
      "text/plain": [
       "<IPython.core.display.HTML object>"
      ]
     },
     "metadata": {},
     "output_type": "display_data"
    },
    {
     "data": {
      "application/javascript": [
       "window.__context = { glowscript_container: $(\"#glowscript\").removeAttr(\"id\")}"
      ],
      "text/plain": [
       "<IPython.core.display.Javascript object>"
      ]
     },
     "metadata": {},
     "output_type": "display_data"
    },
    {
     "data": {
      "text/html": [
       "<div id=\"glowscript2\" ><div id=\"glowscript\" class=\"glowscript\"></div></div>"
      ]
     },
     "metadata": {},
     "output_type": "display_data"
    },
    {
     "name": "stdout",
     "output_type": "stream",
     "text": [
      "0 2e-09\n",
      "1 3e-09\n",
      "2 -7e-09\n",
      "the net charge is  -2e-09\n"
     ]
    }
   ],
   "source": [
    "scene32 = canvas(title='Test 32: Extra Args')\n",
    "a = sphere(pos=vector(-0.04,-0.03,0), radius=0.005, color=color.red, q=2e-9)\n",
    "b = sphere(pos=vector(0.04,-0.03,0), radius=0.005, color=color.red, q=3e-9)\n",
    "c = sphere(pos=vector(0,0.03,0), radius=0.005, color=color.blue, q=-7e-9)\n",
    "\n",
    "particles = [a,b,c]\n",
    "\n",
    "\n",
    "arrow(pos=particles[0].pos,\n",
    "     axis=particles[2].pos - particles[0].pos,\n",
    "     color=color.green)\n",
    "display(scene32)\n",
    "\n",
    "i = 0\n",
    "Qnet = 0\n",
    "while i < len(particles):\n",
    "    print (i, particles[i].q)\n",
    "    Qnet = Qnet + particles[i].q\n",
    "    i = i + 1\n",
    "print ('the net charge is ', Qnet)"
   ]
  },
  {
   "cell_type": "code",
   "execution_count": 63,
   "metadata": {
    "collapsed": false
   },
   "outputs": [
    {
     "data": {
      "text/html": [
       "<div id=\"scene38\"><div id=\"glowscript\" class=\"glowscript\"></div></div>"
      ],
      "text/plain": [
       "<IPython.core.display.HTML object>"
      ]
     },
     "metadata": {},
     "output_type": "display_data"
    },
    {
     "data": {
      "application/javascript": [
       "window.__context = { glowscript_container: $(\"#glowscript\").removeAttr(\"id\")}"
      ],
      "text/plain": [
       "<IPython.core.display.Javascript object>"
      ]
     },
     "metadata": {},
     "output_type": "display_data"
    },
    {
     "data": {
      "text/html": [
       "<div id=\"glowscript2\" ><div id=\"glowscript\" class=\"glowscript\"></div></div>"
      ]
     },
     "metadata": {},
     "output_type": "display_data"
    }
   ],
   "source": [
    "scene33 = canvas(title='Test 33: Visible')\n",
    "shapes = []\n",
    "shapes.append(sphere(pos=vector(0,0,0), radius=0.5, color=color.red, visible = True))\n",
    "shapes.append(box(pos=vector(0,1,0), radius=0.5, color=color.green, visible = True))\n",
    "shapes.append(cylinder(pos=vector(0,2,0), radius=0.5, color=color.blue, visible = True))\n",
    "shapes.append(arrow(pos=vector(0,3,0), radius=0.5, color=color.yellow, visible = True))\n",
    "shapes.append(cone(pos=vector(0,4,0), radius=0.5, color=color.orange, visible = True))\n",
    "shapes.append(pyramid(pos=vector(0,5,0), radius=0.5, color=color.magenta, visible = True))\n",
    "shapes.append(ring(pos=vector(0,6,0), radius=0.5, color=color.cyan, visible = True))\n",
    "shapes.append(helix(pos=(0,7,1), axis=(5,0,0), radius=0.5, color=color.green, visible = True))\n",
    "shapes.append(points(pos=[(-1,8.5,0), (1,8.5,0)], size=10, color=color.red, visible = True))\n",
    "shapes.append(ellipsoid(pos=(0,9.5,0), length=1, height=0.5, width=0.25, color=color.blue, visible = True))\n",
    "shapes.append(curve(pos=[(0,11,0), (1,11,0), (2,11,0)], radius=0.05, color=color.yellow, visible = True))\n",
    "earth = sphere(pos=vector(0,-3,0), color=color.blue, visible = True)\n",
    "earthlabel = label(pos=earth.pos,\n",
    "    text='Earth', xoffset=20,\n",
    "    yoffset=12, space=earth.radius,\n",
    "    height=10, border=6,\n",
    "    font='sans', visible = True)\n",
    "shapes.append(earth)\n",
    "shapes.append(earthlabel)\n",
    "display(scene33)"
   ]
  },
  {
   "cell_type": "code",
   "execution_count": 64,
   "metadata": {
    "collapsed": true
   },
   "outputs": [],
   "source": [
    "for shape in shapes:\n",
    "    shape.visible = False"
   ]
  },
  {
   "cell_type": "code",
   "execution_count": 65,
   "metadata": {
    "collapsed": true
   },
   "outputs": [],
   "source": [
    "for shape in shapes:\n",
    "    shape.visible = True"
   ]
  },
  {
   "cell_type": "code",
   "execution_count": 66,
   "metadata": {
    "collapsed": false
   },
   "outputs": [
    {
     "data": {
      "text/html": [
       "<div id=\"scene39\"><div id=\"glowscript\" class=\"glowscript\"></div></div>"
      ],
      "text/plain": [
       "<IPython.core.display.HTML object>"
      ]
     },
     "metadata": {},
     "output_type": "display_data"
    },
    {
     "data": {
      "application/javascript": [
       "window.__context = { glowscript_container: $(\"#glowscript\").removeAttr(\"id\")}"
      ],
      "text/plain": [
       "<IPython.core.display.Javascript object>"
      ]
     },
     "metadata": {},
     "output_type": "display_data"
    },
    {
     "data": {
      "text/html": [
       "<div id=\"glowscript2\" ><div id=\"glowscript\" class=\"glowscript\"></div></div>"
      ]
     },
     "metadata": {},
     "output_type": "display_data"
    }
   ],
   "source": [
    "scene34 = canvas(title='Test 34: Visible False')\n",
    "shapes = []\n",
    "shapes.append(sphere(pos=vector(0,0,0), radius=0.5, color=color.red, visible = False))\n",
    "shapes.append(box(pos=vector(0,1,0), radius=0.5, color=color.green, visible = False))\n",
    "shapes.append(cylinder(pos=vector(0,2,0), radius=0.5, color=color.blue, visible = False))\n",
    "shapes.append(arrow(pos=vector(0,3,0), radius=0.5, color=color.yellow, visible = False))\n",
    "shapes.append(cone(pos=vector(0,4,0), radius=0.5, color=color.orange, visible = False))\n",
    "shapes.append(pyramid(pos=vector(0,5,0), radius=0.5, color=color.magenta, visible = False))\n",
    "shapes.append(ring(pos=vector(0,6,0), radius=0.5, color=color.cyan, visible = False))\n",
    "shapes.append(helix(pos=(0,7,1), axis=(5,0,0), radius=0.5, color=color.green, visible = False))\n",
    "shapes.append(helix(pos=(0,7,1), axis=(5,0,0), radius=0.5, color=color.green, visible = False))\n",
    "shapes.append(points(pos=[(-1,8.5,0), (1,8.5,0)], size=10, color=color.red, visible = False))\n",
    "shapes.append(ellipsoid(pos=(0,9.5,0), length=1, height=0.5, width=0.25, color=color.blue, visible = False))\n",
    "shapes.append(curve(pos=[(0,11,0), (1,11,0), (2,11,0)], radius=0.05, color=color.yellow, visible = False))\n",
    "earth = sphere(pos=vector(0,-3,0), color=color.blue, visible = False)\n",
    "earthlabel = label(pos=earth.pos,\n",
    "    text='Earth', xoffset=20,\n",
    "    yoffset=12, space=earth.radius,\n",
    "    height=10, border=6,\n",
    "    font='sans', visible = False)\n",
    "shapes.append(earth)\n",
    "shapes.append(earthlabel)\n",
    "\n",
    "display(scene34)"
   ]
  },
  {
   "cell_type": "code",
   "execution_count": 67,
   "metadata": {
    "collapsed": true
   },
   "outputs": [],
   "source": [
    "for shape in shapes:\n",
    "    shape.visible = True"
   ]
  },
  {
   "cell_type": "code",
   "execution_count": 68,
   "metadata": {
    "collapsed": true
   },
   "outputs": [],
   "source": [
    "for shape in shapes:\n",
    "    shape.visible = False"
   ]
  },
  {
   "cell_type": "code",
   "execution_count": 69,
   "metadata": {
    "collapsed": false
   },
   "outputs": [
    {
     "data": {
      "text/html": [
       "<div id=\"scene40\"><div id=\"glowscript\" class=\"glowscript\"></div></div>"
      ],
      "text/plain": [
       "<IPython.core.display.HTML object>"
      ]
     },
     "metadata": {},
     "output_type": "display_data"
    },
    {
     "data": {
      "application/javascript": [
       "window.__context = { glowscript_container: $(\"#glowscript\").removeAttr(\"id\")}"
      ],
      "text/plain": [
       "<IPython.core.display.Javascript object>"
      ]
     },
     "metadata": {},
     "output_type": "display_data"
    },
    {
     "data": {
      "text/html": [
       "<div id=\"glowscript2\" ><div id=\"glowscript\" class=\"glowscript\"></div></div>"
      ]
     },
     "metadata": {},
     "output_type": "display_data"
    }
   ],
   "source": [
    "scene35 = canvas(title='Test 35: Box Initialization')\n",
    "shapes = []\n",
    "shapes.append(box(pos=(0.,0.,0.), x=0., y=0., z=0., axis=(1.,0.,0.), size=(1.,1.,1.),\n",
    "                 length=-1., width=1., height=1., up=(0.,1.,0.), color=(1.,0.,0.), red=1., green=0., blue=0.,\n",
    "                 frame=None, material=None, opacity=1.0, display=None, visible=True,\n",
    "                 make_trail=False, trail_type=\"curve\", interval=10, retain=50))\n",
    "shapes.append(box(pos=(0.,0.,0.), x=1., y=2., z=-1., axis=(2.,0.,0.), size=(1.,1.,1.),\n",
    "                 length=2., width=1., height=1.5, up=(0.,1.,0.), color=(0.,1.,0.), red=1., green=1., blue=1.,\n",
    "                 frame=None, material=None, opacity=0.1, display=None, visible=True,\n",
    "                 make_trail=False, trail_type=\"curve\", interval=10, retain=50))\n",
    "\n",
    "display(scene35)"
   ]
  },
  {
   "cell_type": "code",
   "execution_count": 70,
   "metadata": {
    "collapsed": false
   },
   "outputs": [
    {
     "data": {
      "text/html": [
       "<div id=\"scene41\"><div id=\"glowscript\" class=\"glowscript\"></div></div>"
      ],
      "text/plain": [
       "<IPython.core.display.HTML object>"
      ]
     },
     "metadata": {},
     "output_type": "display_data"
    },
    {
     "data": {
      "application/javascript": [
       "window.__context = { glowscript_container: $(\"#glowscript\").removeAttr(\"id\")}"
      ],
      "text/plain": [
       "<IPython.core.display.Javascript object>"
      ]
     },
     "metadata": {},
     "output_type": "display_data"
    },
    {
     "data": {
      "text/html": [
       "<div id=\"glowscript2\" ><div id=\"glowscript\" class=\"glowscript\"></div></div>"
      ]
     },
     "metadata": {},
     "output_type": "display_data"
    }
   ],
   "source": [
    "scene36 = canvas(title='Test 36: Pyramid Initialization')\n",
    "shapes = []\n",
    "shapes.append(pyramid(pos=(0.,0.,0.), x=0., y=0., z=0., axis=(1.,0.,0.), size=(1.,1.,1.),\n",
    "                 length=-1., width=1., height=1., up=(0.,1.,0.), color=(1.,1.,1.), red=1., green=0., blue=0.,\n",
    "                 frame=None, material=None, opacity=1.0, display=None, visible=True,\n",
    "                 make_trail=False, trail_type=\"curve\", interval=10, retain=50))\n",
    "shapes.append(pyramid(pos=(0.,0.,0.), x=1., y=2., z=0., axis=(2.,0.,0.), size=(1.,1.,1.),\n",
    "                 length=2., width=1., height=1., up=(0.,1.,0.), color=(1.,0.,0.), red=1., green=1., blue=0.,\n",
    "                 frame=None, material=None, opacity=0.1, display=None, visible=True,\n",
    "                 make_trail=False, trail_type=\"curve\", interval=10, retain=50))\n",
    "    \n",
    "display(scene36)"
   ]
  },
  {
   "cell_type": "code",
   "execution_count": 71,
   "metadata": {
    "collapsed": false
   },
   "outputs": [
    {
     "data": {
      "text/html": [
       "<div id=\"scene42\"><div id=\"glowscript\" class=\"glowscript\"></div></div>"
      ],
      "text/plain": [
       "<IPython.core.display.HTML object>"
      ]
     },
     "metadata": {},
     "output_type": "display_data"
    },
    {
     "data": {
      "application/javascript": [
       "window.__context = { glowscript_container: $(\"#glowscript\").removeAttr(\"id\")}"
      ],
      "text/plain": [
       "<IPython.core.display.Javascript object>"
      ]
     },
     "metadata": {},
     "output_type": "display_data"
    },
    {
     "data": {
      "text/html": [
       "<div id=\"glowscript2\" ><div id=\"glowscript\" class=\"glowscript\"></div></div>"
      ]
     },
     "metadata": {},
     "output_type": "display_data"
    }
   ],
   "source": [
    "scene37 = canvas(title='Test 37: Label')\n",
    "earth = sphere(pos=vector(0,0,0), color=color.blue, visible = True)\n",
    "\n",
    "label1 = label(pos=earth.pos, x=0., y=0., z=0., color=(1.,1.,1.), red=1., green=1., blue=1., opacity=0.66, \n",
    "                 xoffset=20., yoffset=-20., text=\"Hello World\", font=\"sans\", height=13, background=(0.,0.,0.),\n",
    "                 border=5, box=True, line=True, linecolor=(1.,1.,1.), space=0., display=None, frame=None, visible=True)  \n",
    "label2 = label(pos=earth.pos, x=0., y=0., z=0., color=color.yellow, red=1., green=1., blue=1., opacity=0.66, \n",
    "                 xoffset=150., yoffset=100., text=\"Hello World\", font=\"sans\", height=30, background=(0.5,0.5,0.5),\n",
    "                 border=10, box=True, line=True, linecolor=(1.,0.,0.), space=0., display=None, frame=None, visible=True)  \n",
    "label3 = label(pos=earth.pos, x=0., y=0., z=0., color=(1.,1.,1.), red=1., green=1., blue=1., opacity=0.66, \n",
    "                 xoffset=-50., yoffset=-20., text=\"Hello World\", font=\"sans\", height=13, background=(0.,0.,0.),\n",
    "                 border=5, box=True, line=True, linecolor=(1.,1.,1.), space=0., display=None, frame=None, visible=True)  \n",
    "label4 = label(pos=earth.pos, x=0., y=0., z=0., color=color.yellow, red=1., green=1., blue=1., opacity=0.3, \n",
    "                 xoffset=-150., yoffset=100., text=\"Hello World\", font=\"serif\", height=30, background=(0.5,0.5,0.5),\n",
    "                 border=10, box=False, line=False, linecolor=(1.,1.,1.), space=0., display=None, frame=None, visible=True)  \n",
    "label5 = label(pos=earth.pos, x=0., y=0., z=0., color=(1.,1.,1.), red=1., green=1., blue=1., opacity=0.66, \n",
    "                 xoffset=0., yoffset=-200., text=\"Hello World\", font=\"sans\", height=13, background=(0.,0.,0.),\n",
    "                 border=5, box=True, line=True, linecolor=(1.,1.,1.), space=0., display=None, frame=None, visible=True)  \n",
    "label6 = label(pos=earth.pos, x=0., y=0., z=0., color=color.yellow, red=1., green=1., blue=1., opacity=0.66, \n",
    "                 xoffset=0., yoffset=200., text=\"Hello World\", font=\"sans\", height=30, background=(0.5,0.5,0.5),\n",
    "                 border=10, box=True, line=True, linecolor=(1.,1.,0.), space=1., display=None, frame=None, visible=True)  \n",
    "\n",
    "display(scene37)"
   ]
  },
  {
   "cell_type": "code",
   "execution_count": 72,
   "metadata": {
    "collapsed": false
   },
   "outputs": [
    {
     "data": {
      "text/html": [
       "<div id=\"glowscript2\" ><div id=\"glowscript\" class=\"glowscript\"></div></div>"
      ]
     },
     "metadata": {},
     "output_type": "display_data"
    }
   ],
   "source": [
    "label1.color = color.yellow\n",
    "label1.xoffset = 150.0\n",
    "label1.yoffset = -100.0\n",
    "label1.height = 30.0\n",
    "label1.background = (0.5,0.5,0.5)\n",
    "label1.border = 10.0\n",
    "label1.box = True\n",
    "label1.line = True\n",
    "label1.linecolor= (1.0,0.,0.)\n",
    "label1.space = 0.0\n",
    "display(scene37)"
   ]
  },
  {
   "cell_type": "code",
   "execution_count": 73,
   "metadata": {
    "collapsed": false
   },
   "outputs": [
    {
     "data": {
      "text/html": [
       "<div id=\"glowscript2\" ><div id=\"glowscript\" class=\"glowscript\"></div></div>"
      ]
     },
     "metadata": {},
     "output_type": "display_data"
    }
   ],
   "source": [
    "label3.color = color.yellow\n",
    "label3.xoffset = -150.0\n",
    "label3.yoffset = -100.0\n",
    "label3.height = 30.0\n",
    "label3.background = (0.5,0.5,0.5)\n",
    "label3.opacity = 0.3\n",
    "label3.border = 10.0\n",
    "label3.box = False\n",
    "label3.line = False\n",
    "label3.linecolor= (1.0,1.,1.)\n",
    "label3.space = 0.0\n",
    "display(scene37)"
   ]
  },
  {
   "cell_type": "code",
   "execution_count": 74,
   "metadata": {
    "collapsed": false
   },
   "outputs": [
    {
     "data": {
      "text/html": [
       "<div id=\"glowscript2\" ><div id=\"glowscript\" class=\"glowscript\"></div></div>"
      ]
     },
     "metadata": {},
     "output_type": "display_data"
    }
   ],
   "source": [
    "label5.color = color.yellow\n",
    "label5.xoffset = 0.0\n",
    "label5.yoffset = -200.0\n",
    "label5.height = 30.0\n",
    "label5.background = (0.5,0.5,0.5)\n",
    "label5.border = 10.0\n",
    "label5.box = True\n",
    "label5.line = True\n",
    "label5.linecolor= (1.,1.,0.)\n",
    "label5.space = 1.0\n",
    "display(scene37)"
   ]
  },
  {
   "cell_type": "code",
   "execution_count": 75,
   "metadata": {
    "collapsed": true
   },
   "outputs": [],
   "source": [
    "%load_ext glowscriptmagic"
   ]
  },
  {
   "cell_type": "code",
   "execution_count": 77,
   "metadata": {
    "collapsed": false
   },
   "outputs": [
    {
     "data": {
      "text/html": [
       "<div id=\"glowscript\" class=\"glowscript\"></div>"
      ],
      "text/plain": [
       "<IPython.core.display.HTML object>"
      ]
     },
     "metadata": {},
     "output_type": "display_data"
    },
    {
     "data": {
      "application/javascript": [
       "\n",
       "        if (window.location.protocol === 'https:') {\n",
       "            require(['https://dl.dropboxusercontent.com/u/5095342/glowscript/lib/jquery/1.1/jquery-ui.custom.min.js','https://dl.dropboxusercontent.com/u/5095342/glowscript/package/compiler.1.1.min.js','https://dl.dropboxusercontent.com/u/5095342/glowscript/package/symbols.1.1.min.js','https://dl.dropboxusercontent.com/u/5095342/glowscript/package/RSrun.1.1.min.js','https://dl.dropboxusercontent.com/u/5095342/glowscript/package/RScompiler.1.1.min.js','https://dl.dropboxusercontent.com/u/5095342/glowscript/package/glow.1.1.min.js'], function() {\n",
       "            var cell_content = \"scene.up = vec(0,0,1)\\nscene.forward = vec(-1,0,0)\\narrow(axis=vec(1,0,0), color=color.red)\\narrow(axis=vec(0,1,0), color=color.green)\\narrow(axis=vec(0,0,1), color=color.blue)\\nsphere(pos=vec(0,0,1), radius=0.05, color=color.cyan)\";\n",
       "            var embedScript = window.glowscript_compile(cell_content, {lang:'vpython'}); \n",
       "            embedScript = \"require(['https://dl.dropboxusercontent.com/u/5095342/glowscript/lib/jquery/1.1/jquery-ui.custom.min.js','https://dl.dropboxusercontent.com/u/5095342/glowscript/package/glow.1.1.min.js'], function() {\" + embedScript + \";$(function(){ window.__context = { glowscript_container: $('#glowscript').removeAttr('id') }; main() });})\";\n",
       "            embedScript = embedScript.replace(\"</\", \"<\\/\"); // escape anything that could be a close script tag... hopefully this sequence only occurs in strings!\n",
       "            eval(embedScript);\n",
       "            })\n",
       "        } else if (window.location.host === 'nbviewer.ipython.org') {\n",
       "            require(['http://www.glowscript.org/lib/jquery/1.1/jquery.min.js','http://www.glowscript.org/lib/jquery/1.1/jquery-ui.custom.min.js','http://www.glowscript.org/package/compiler.1.1.min.js','http://www.glowscript.org/package/symbols.1.1.min.js','http://www.glowscript.org/package/RSrun.1.1.min.js','http://www.glowscript.org/package/RScompiler.1.1.min.js','http://www.glowscript.org/package/glow.1.1.min.js'], function() {\n",
       "            var cell_content = \"scene.up = vec(0,0,1)\\nscene.forward = vec(-1,0,0)\\narrow(axis=vec(1,0,0), color=color.red)\\narrow(axis=vec(0,1,0), color=color.green)\\narrow(axis=vec(0,0,1), color=color.blue)\\nsphere(pos=vec(0,0,1), radius=0.05, color=color.cyan)\";\n",
       "            var embedScript = window.glowscript_compile(cell_content, {lang:'vpython'}); \n",
       "            embedScript = \"require(['http://www.glowscript.org/lib/jquery/1.1/jquery-ui.custom.min.js','http://www.glowscript.org/package/glow.1.1.min.js'], function() {\" + embedScript + \";$(function(){ window.__context = { glowscript_container: $('#glowscript').removeAttr('id') }; main() });})\";\n",
       "            embedScript = embedScript.replace(\"</\", \"<\\/\"); // escape anything that could be a close script tag... hopefully this sequence only occurs in strings!\n",
       "            eval(embedScript);\n",
       "            })\n",
       "        } else {\n",
       "            require(['http://www.glowscript.org/lib/jquery/1.1/jquery-ui.custom.min.js','http://www.glowscript.org/package/compiler.1.1.min.js','http://www.glowscript.org/package/symbols.1.1.min.js','http://www.glowscript.org/package/RSrun.1.1.min.js','http://www.glowscript.org/package/RScompiler.1.1.min.js','http://www.glowscript.org/package/glow.1.1.min.js'], function() {\n",
       "            var cell_content = \"scene.up = vec(0,0,1)\\nscene.forward = vec(-1,0,0)\\narrow(axis=vec(1,0,0), color=color.red)\\narrow(axis=vec(0,1,0), color=color.green)\\narrow(axis=vec(0,0,1), color=color.blue)\\nsphere(pos=vec(0,0,1), radius=0.05, color=color.cyan)\";\n",
       "            var embedScript = window.glowscript_compile(cell_content, {lang:'vpython'}); \n",
       "            embedScript = \"require(['http://www.glowscript.org/lib/jquery/1.1/jquery-ui.custom.min.js','http://www.glowscript.org/package/glow.1.1.min.js'], function() {\" + embedScript + \";$(function(){ window.__context = { glowscript_container: $('#glowscript').removeAttr('id') }; main() });})\";\n",
       "            embedScript = embedScript.replace(\"</\", \"<\\/\"); // escape anything that could be a close script tag... hopefully this sequence only occurs in strings!\n",
       "            eval(embedScript);\n",
       "            })\n",
       "        }\n",
       "        "
      ],
      "text/plain": [
       "<IPython.core.display.Javascript object>"
      ]
     },
     "metadata": {},
     "output_type": "display_data"
    }
   ],
   "source": [
    "%%GlowScript 1.1 VPython\n",
    "scene.up = vec(0,0,1)\n",
    "scene.forward = vec(-1,0,0)\n",
    "arrow(axis=vec(1,0,0), color=color.red)\n",
    "arrow(axis=vec(0,1,0), color=color.green)\n",
    "arrow(axis=vec(0,0,1), color=color.blue)\n",
    "sphere(pos=vec(0,0,1), radius=0.05, color=color.cyan)"
   ]
  },
  {
   "cell_type": "code",
   "execution_count": null,
   "metadata": {
    "collapsed": true
   },
   "outputs": [],
   "source": []
  }
 ],
 "metadata": {
  "kernelspec": {
   "display_name": "Python 2",
   "language": "python",
   "name": "python2"
  },
  "language_info": {
   "codemirror_mode": {
    "name": "ipython",
    "version": 2
   },
   "file_extension": ".py",
   "mimetype": "text/x-python",
   "name": "python",
   "nbconvert_exporter": "python",
   "pygments_lexer": "ipython2",
   "version": "2.7.8"
  }
 },
 "nbformat": 4,
 "nbformat_minor": 0
}
