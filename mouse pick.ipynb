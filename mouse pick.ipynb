{
 "cells": [
  {
   "cell_type": "code",
   "execution_count": 3,
   "metadata": {
    "collapsed": false
   },
   "outputs": [
    {
     "name": "stdout",
     "output_type": "stream",
     "text": [
      "\n",
      "Click on shape in 3D Window to highlight it.\n",
      "\n"
     ]
    },
    {
     "data": {
      "text/html": [
       "<div id=\"scene1\"><div id=\"glowscript\" class=\"glowscript\"></div></div>"
      ],
      "text/plain": [
       "<IPython.core.display.HTML object>"
      ]
     },
     "metadata": {},
     "output_type": "display_data"
    },
    {
     "data": {
      "application/javascript": [
       "window.__context = { glowscript_container: $(\"#glowscript\").removeAttr(\"id\")}"
      ],
      "text/plain": [
       "<IPython.core.display.Javascript object>"
      ]
     },
     "metadata": {},
     "output_type": "display_data"
    }
   ],
   "source": [
    "from ivisual import *\n",
    "\n",
    "print (\"\"\"\n",
    "Click on shape in 3D Window to highlight it.\n",
    "\"\"\")\n",
    "scene = canvas(title=\"mouse pick\")\n",
    "scene.range = 2.5\n",
    "\n",
    "box(pos=(-1,0,0), color=color.cyan, opacity=1)\n",
    "box(pos=(1,-1,0), color=color.green)\n",
    "arrow(pos=(-1,-1,0), color=color.orange)\n",
    "cone(pos=(2,0,0), axis=(0,1,-.3), color=color.blue, length=2)\n",
    "ellipsoid(pos=(-1.5,1.5,0), color=color.white, size=(1.2,.8,.4))\n",
    "cylinder(pos=(0.25,0,0), axis=(0,2,0), color=color.magenta, radius = 0.4)\n",
    "sphere(pos=(-1.5,-1.5,0), color=color.yellow, radius = 0.5)\n",
    "\n",
    "lasthit = None\n",
    "lastcolor = (1,1,1)\n",
    "\n",
    "def pick(evt):\n",
    "    global lasthit, lastcolor\n",
    "    if (lasthit != None):\n",
    "        lasthit.color = lastcolor\n",
    "        lasthit = None\n",
    "    hit = scene.mouse.pick\n",
    "    if (hit != None):\n",
    "        lasthit = hit\n",
    "        lastcolor = hit.color\n",
    "        hit.color = color.red\n",
    "\n",
    "scene.bind('mousedown',pick)"
   ]
  },
  {
   "cell_type": "code",
   "execution_count": null,
   "metadata": {
    "collapsed": false
   },
   "outputs": [],
   "source": []
  }
 ],
 "metadata": {
  "kernelspec": {
   "display_name": "Python 2",
   "language": "python",
   "name": "python2"
  },
  "language_info": {
   "codemirror_mode": {
    "name": "ipython",
    "version": 2
   },
   "file_extension": ".py",
   "mimetype": "text/x-python",
   "name": "python",
   "nbconvert_exporter": "python",
   "pygments_lexer": "ipython2",
   "version": "2.7.8"
  }
 },
 "nbformat": 4,
 "nbformat_minor": 0
}
