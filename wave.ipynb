{
 "cells": [
  {
   "cell_type": "code",
   "execution_count": 1,
   "metadata": {
    "collapsed": false
   },
   "outputs": [
    {
     "data": {
      "application/javascript": [
       "IPython.notebook.set_autosave_interval(1000000000)"
      ]
     },
     "metadata": {},
     "output_type": "display_data"
    },
    {
     "name": "stdout",
     "output_type": "stream",
     "text": [
      "Autosaving every 1000000 seconds\n"
     ]
    }
   ],
   "source": [
    "%autosave 1000000"
   ]
  },
  {
   "cell_type": "markdown",
   "metadata": {},
   "source": [
    "# Test VPython-Jupyter Travelling Wave\n",
    "\n",
    "This notebook is set up to test the visualization of a QM travelling wave. The arrows represent phasors (y and z are the real and imaginary parts of the complex wavefunction respectively). The first next cell just sets up the arrows and the following cell does the animation, while tracking in the time between calls to 'rate()'."
   ]
  },
  {
   "cell_type": "code",
   "execution_count": 2,
   "metadata": {
    "collapsed": false
   },
   "outputs": [
    {
     "data": {
      "text/html": [
       "<div id=\"scene0\"><div id=\"glowscript\" class=\"glowscript\"></div></div>"
      ],
      "text/plain": [
       "<IPython.core.display.HTML object>"
      ]
     },
     "metadata": {},
     "output_type": "display_data"
    },
    {
     "data": {
      "application/javascript": [
       "require.undef(\"nbextensions/glow.1.0.min\");"
      ],
      "text/plain": [
       "<IPython.core.display.Javascript object>"
      ]
     },
     "metadata": {},
     "output_type": "display_data"
    },
    {
     "data": {
      "application/javascript": [
       "require.undef(\"nbextensions/jquery-ui.custom.min\");"
      ],
      "text/plain": [
       "<IPython.core.display.Javascript object>"
      ]
     },
     "metadata": {},
     "output_type": "display_data"
    },
    {
     "data": {
      "application/javascript": [
       "require.undef(\"nbextensions/glow.1.1.min\");"
      ],
      "text/plain": [
       "<IPython.core.display.Javascript object>"
      ]
     },
     "metadata": {},
     "output_type": "display_data"
    },
    {
     "data": {
      "application/javascript": [
       "require.undef(\"nbextensions/glow.1.2.min\");"
      ],
      "text/plain": [
       "<IPython.core.display.Javascript object>"
      ]
     },
     "metadata": {},
     "output_type": "display_data"
    },
    {
     "data": {
      "application/javascript": [
       "require.undef(\"nbextensions/glow.2.0.min\");"
      ],
      "text/plain": [
       "<IPython.core.display.Javascript object>"
      ]
     },
     "metadata": {},
     "output_type": "display_data"
    },
    {
     "data": {
      "application/javascript": [
       "require.undef(\"nbextensions/glowcomm\");"
      ],
      "text/plain": [
       "<IPython.core.display.Javascript object>"
      ]
     },
     "metadata": {},
     "output_type": "display_data"
    },
    {
     "data": {
      "application/javascript": [
       "require.undef(\"nbextensions/ivglowcomm\");"
      ],
      "text/plain": [
       "<IPython.core.display.Javascript object>"
      ]
     },
     "metadata": {},
     "output_type": "display_data"
    },
    {
     "data": {
      "application/javascript": [
       "require([\"nbextensions/ivglowcomm\"], function(){console.log(\"ivisual glowcomm loaded\");})"
      ],
      "text/plain": [
       "<IPython.core.display.Javascript object>"
      ]
     },
     "metadata": {},
     "output_type": "display_data"
    }
   ],
   "source": [
    "\"\"\"\n",
    "Execute this cell only once to set up the arrows\n",
    "\"\"\"\n",
    "\n",
    "%matplotlib inline\n",
    "import matplotlib.pyplot as pl\n",
    "import numpy as np\n",
    "from ivisual import *\n",
    "\n",
    "scene = canvas(title = \"Travelling Wave\")\n",
    "\n",
    "L=6.0                          # range of x is 6 units\n",
    "x = np.linspace(-L/2, L/2, 20) # from -3 to +3\n",
    "k = -3*pi/L                    # set up the wave number\n",
    "psi = np.exp(1j*k*x)           # set up the initial wave function\n",
    "\n",
    "alist = []                     # an empty list for our arrow objects\n",
    "\n",
    "omega = 2*pi                   # 1 rev/sec\n",
    "t=0.0                          # start t at zero\n",
    "dt=0.01                        # 1/100 of a second per step\n",
    "\n",
    "def once(r=30):  #\n",
    "    global t\n",
    "    rate(r)\n",
    "    t+=dt\n",
    "    psi_t = psi*np.exp(-1j*omega*t) # evolve the wf in time\n",
    "    for i in range(len(x)):\n",
    "        SetArrowFromCN(psi_t[i], alist[i]) # move the arrows to match\n",
    "\n",
    "def SetArrowFromCN( cn, a):\n",
    "    \"\"\"\n",
    "    SetArrowWithCN takes a complex number  cn  and an arrow object  a .\n",
    "    It sets the  y  and  z  components of the arrow s axis to the real \n",
    "    and imaginary parts of the given complex number. \n",
    "    \"\"\"\n",
    "    a.axis.y = cn.real\n",
    "    a.axis.z = cn.imag\n",
    "    \n",
    "for i in range(len(x)):\n",
    "    xi = x[i]                              \n",
    "    a = arrow(pos=vector(xi, 0, 0),       # on the y,z axis at location 'x'\n",
    "                axis=vector(0,1,0),       # pointing in the 'real' direction\n",
    "                color=color.red)          # make it red. ;->\n",
    "    alist.append(a)                       # add to list\n",
    "    SetArrowFromCN( psi[i], a)            # set up arrow from wave function\n"
   ]
  },
  {
   "cell_type": "code",
   "execution_count": 3,
   "metadata": {
    "collapsed": false,
    "scrolled": true
   },
   "outputs": [
    {
     "name": "stdout",
     "output_type": "stream",
     "text": [
      "Done!\n",
      "[0.013711615840585618]\n",
      "average :  0.0354239997864\n",
      "median :  0.0339999198914\n",
      "mean :  0.0354239997864\n",
      "std dev :  0.0137116158406\n",
      "variance:  0.00018800840896\n",
      "average dev:  0.0137116158406\n",
      "median dev:  0.0137116158406\n",
      "mean dev:  0.0137116158406\n",
      "dev std dev :  0.0\n"
     ]
    },
    {
     "data": {
      "image/png": "[encoded data removed]",
      "text/plain": [
       "<matplotlib.figure.Figure at 0x3865dd8>"
      ]
     },
     "metadata": {},
     "output_type": "display_data"
    }
   ],
   "source": [
    "\"\"\"\n",
    "Execute this cell to evolve the WF in time\n",
    "\"\"\"\n",
    "from time import time, sleep\n",
    "\n",
    "evt = threading.Event()\n",
    "\n",
    "def set_event(e):\n",
    "    e.set()\n",
    "\n",
    "\n",
    "tlist2 = []\n",
    "for j in range(1):\n",
    "    \n",
    "    tlist=[time()]\n",
    "    for i in range(500):\n",
    "        once(30)\n",
    "        tlist.append(time())\n",
    "    \n",
    "    tarr = np.array(tlist)\n",
    "    dts = tarr[1:]-tarr[:-1]\n",
    "    tlist2.append(np.std(dts))\n",
    "    \n",
    "    evt.clear()\n",
    "    threading.Timer(10, set_event, args=(evt,)).start()\n",
    "    evt.wait()\n",
    "        \n",
    "    \n",
    "print(\"Done!\")\n",
    "print(tlist2)\n",
    "\n",
    "tarr = np.array(tlist)\n",
    "dts = tarr[1:]-tarr[:-1]\n",
    "pl.plot(range(len(dts)), dts, 'b.')\n",
    "pl.title(\"time between renders vpython-jupyter\")\n",
    "pl.xlabel(\"iteration number\")\n",
    "pl.ylabel(\"time(s)\")#\n",
    "pl.ylim([0.0,0.12])\n",
    "\n",
    "print (\"average : \", np.average(dts))\n",
    "print (\"median : \", np.median(dts))\n",
    "print (\"mean : \", np.mean(dts))\n",
    "print (\"std dev : \", np.std(dts))\n",
    "print (\"variance: \", np.var(dts))\n",
    "\n",
    "tarr2 = np.array(tlist2)\n",
    "\n",
    "print (\"average dev: \", np.average(tarr2))\n",
    "print (\"median dev: \", np.median(tarr2))\n",
    "print (\"mean dev: \", np.mean(tarr2))\n",
    "print (\"dev std dev : \", np.std(tarr2))\n"
   ]
  },
  {
   "cell_type": "code",
   "execution_count": null,
   "metadata": {
    "collapsed": true
   },
   "outputs": [],
   "source": []
  }
 ],
 "metadata": {
  "kernelspec": {
   "display_name": "VPython",
   "language": "python",
   "name": "vpython"
  },
  "language_info": {
   "codemirror_mode": {
    "name": "ipython",
    "version": 2
   },
   "file_extension": ".py",
   "mimetype": "text/x-python",
   "name": "python",
   "nbconvert_exporter": "python",
   "pygments_lexer": "ipython2",
   "version": "2.7.8"
  }
 },
 "nbformat": 4,
 "nbformat_minor": 0
}
